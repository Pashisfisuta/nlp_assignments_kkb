{
 "cells": [
  {
   "cell_type": "markdown",
   "metadata": {},
   "source": [
    "## Assignment-03 First Step of Machine Learning: Model and Evaluation"
   ]
  },
  {
   "cell_type": "markdown",
   "metadata": {},
   "source": [
    "同学们，今天我们的学习了基本的机器学习概念，相比你已经对机器学习的这些方法有一个基本的认识了。值得说明的是，机器学习不仅仅是一系列方法，更重要的是一种思维体系，即：依据以往的、现有的数据，构建某种方法来解决未见过的问题。而且决策树，贝叶斯只是实现这个目标的一个方法，包括之后的神经网络。很有可能有一天，神经网络也会被淘汰，但是重要的是我们要理解机器学习的目标，就是尽可能的自动化解决未知的问题。"
   ]
  },
  {
   "cell_type": "markdown",
   "metadata": {},
   "source": [
    "![](https://timgsa.baidu.com/timg?image&quality=80&size=b9999_10000&sec=1571556399207&di=4a97dc15ad08dd49d3748d1edf6109b3&imgtype=0&src=http%3A%2F%2Fc.hiphotos.baidu.com%2Fzhidao%2Fwh%3D450%2C600%2Fsign%3Dae742c6aedcd7b89e93932873a146e91%2F5d6034a85edf8db1b16050c40223dd54574e74c7.jpg)"
   ]
  },
  {
   "cell_type": "markdown",
   "metadata": {},
   "source": [
    "# Part-1 Programming Review 编程回顾"
   ]
  },
  {
   "cell_type": "markdown",
   "metadata": {},
   "source": [
    "# 1. Re-code the Linear-Regression Model using scikit-learning(10 points)"
   ]
  },
  {
   "cell_type": "markdown",
   "metadata": {},
   "source": [
    "<评阅点>： \n",
    "> + 是否完成线性回归模型 (4')\n",
    "+ 能够进行预测新数据(3')\n",
    "+ 能够进行可视化操作(3')"
   ]
  },
  {
   "cell_type": "markdown",
   "metadata": {},
   "source": [
    "## 1.1 输入数据，标签数据随机生成"
   ]
  },
  {
   "cell_type": "code",
   "execution_count": 12,
   "metadata": {},
   "outputs": [],
   "source": [
    "# you code here\n",
    "%matplotlib inline"
   ]
  },
  {
   "cell_type": "code",
   "execution_count": 13,
   "metadata": {},
   "outputs": [],
   "source": [
    "import numpy as np"
   ]
  },
  {
   "cell_type": "code",
   "execution_count": 14,
   "metadata": {},
   "outputs": [],
   "source": [
    "random_data = np.random.random((20, 2))"
   ]
  },
  {
   "cell_type": "code",
   "execution_count": 15,
   "metadata": {},
   "outputs": [
    {
     "data": {
      "text/plain": [
       "array([[1.29617676e-01, 5.20792377e-02],\n",
       "       [4.57846537e-01, 6.36050340e-01],\n",
       "       [5.72513065e-01, 1.67464019e-02],\n",
       "       [9.74587842e-01, 7.53986093e-01],\n",
       "       [6.33325718e-02, 6.13484832e-01],\n",
       "       [1.86052390e-01, 6.14407401e-01],\n",
       "       [7.95712504e-01, 7.68112504e-01],\n",
       "       [1.62786431e-04, 2.78860839e-01],\n",
       "       [1.51741852e-01, 1.85925671e-01],\n",
       "       [6.51408578e-01, 6.31725886e-01],\n",
       "       [6.17132849e-01, 3.43057256e-01],\n",
       "       [7.89150353e-01, 2.51046053e-01],\n",
       "       [4.02373523e-01, 2.41793290e-01],\n",
       "       [2.21734913e-01, 3.64702528e-01],\n",
       "       [6.51597728e-01, 5.24734916e-01],\n",
       "       [3.30260143e-01, 2.90089906e-01],\n",
       "       [4.85565043e-01, 4.39791682e-01],\n",
       "       [5.64424809e-01, 4.02374095e-01],\n",
       "       [1.45453941e-01, 1.96370309e-01],\n",
       "       [5.42013545e-01, 4.11908238e-01]])"
      ]
     },
     "execution_count": 15,
     "metadata": {},
     "output_type": "execute_result"
    }
   ],
   "source": [
    "random_data"
   ]
  },
  {
   "cell_type": "code",
   "execution_count": 16,
   "metadata": {},
   "outputs": [],
   "source": [
    "import matplotlib.pyplot as plt"
   ]
  },
  {
   "cell_type": "code",
   "execution_count": 17,
   "metadata": {},
   "outputs": [],
   "source": [
    "# 取每个列表中的第一个值，作为输入\n",
    "x = random_data[:,0]"
   ]
  },
  {
   "cell_type": "code",
   "execution_count": 18,
   "metadata": {},
   "outputs": [
    {
     "data": {
      "text/plain": [
       "array([1.29617676e-01, 4.57846537e-01, 5.72513065e-01, 9.74587842e-01,\n",
       "       6.33325718e-02, 1.86052390e-01, 7.95712504e-01, 1.62786431e-04,\n",
       "       1.51741852e-01, 6.51408578e-01, 6.17132849e-01, 7.89150353e-01,\n",
       "       4.02373523e-01, 2.21734913e-01, 6.51597728e-01, 3.30260143e-01,\n",
       "       4.85565043e-01, 5.64424809e-01, 1.45453941e-01, 5.42013545e-01])"
      ]
     },
     "execution_count": 18,
     "metadata": {},
     "output_type": "execute_result"
    }
   ],
   "source": [
    "x"
   ]
  },
  {
   "cell_type": "code",
   "execution_count": 19,
   "metadata": {},
   "outputs": [],
   "source": [
    "# 取每个元素的第二个值，作为标签\n",
    "y = random_data[:,1]"
   ]
  },
  {
   "cell_type": "code",
   "execution_count": 20,
   "metadata": {},
   "outputs": [
    {
     "data": {
      "text/plain": [
       "array([0.05207924, 0.63605034, 0.0167464 , 0.75398609, 0.61348483,\n",
       "       0.6144074 , 0.7681125 , 0.27886084, 0.18592567, 0.63172589,\n",
       "       0.34305726, 0.25104605, 0.24179329, 0.36470253, 0.52473492,\n",
       "       0.29008991, 0.43979168, 0.4023741 , 0.19637031, 0.41190824])"
      ]
     },
     "execution_count": 20,
     "metadata": {},
     "output_type": "execute_result"
    }
   ],
   "source": [
    "y"
   ]
  },
  {
   "cell_type": "code",
   "execution_count": 21,
   "metadata": {},
   "outputs": [
    {
     "data": {
      "text/plain": [
       "<matplotlib.collections.PathCollection at 0x116b49ac8>"
      ]
     },
     "execution_count": 21,
     "metadata": {},
     "output_type": "execute_result"
    },
    {
     "data": {
      "image/png": "[encoded data removed]",
      "text/plain": [
       "<Figure size 432x288 with 1 Axes>"
      ]
     },
     "metadata": {
      "needs_background": "light"
     },
     "output_type": "display_data"
    }
   ],
   "source": [
    "plt.scatter(x, y)"
   ]
  },
  {
   "cell_type": "markdown",
   "metadata": {},
   "source": [
    "## 1.2 假设函数定义"
   ]
  },
  {
   "cell_type": "code",
   "execution_count": 22,
   "metadata": {},
   "outputs": [],
   "source": [
    "import random"
   ]
  },
  {
   "cell_type": "code",
   "execution_count": 23,
   "metadata": {},
   "outputs": [],
   "source": [
    "# 定义假设函数,随便定义一个假设函数，生成y\n",
    "def assuming_func(x, k, b):\n",
    "    return k*x + b + random.randint(-4, 4)"
   ]
  },
  {
   "cell_type": "code",
   "execution_count": 24,
   "metadata": {},
   "outputs": [],
   "source": [
    "y_ = [assuming_func(x_, 11, 4) for x_ in x]"
   ]
  },
  {
   "cell_type": "code",
   "execution_count": 25,
   "metadata": {},
   "outputs": [
    {
     "data": {
      "text/plain": [
       "[5.425794434914404,\n",
       " 13.036311911763388,\n",
       " 6.297643717273708,\n",
       " 12.720466263854036,\n",
       " 3.6966582896509736,\n",
       " 4.046576293036411,\n",
       " 12.752837544648749,\n",
       " 3.00179065073808,\n",
       " 8.669160375512659,\n",
       " 15.165494353829773,\n",
       " 11.788461338669634,\n",
       " 11.680653880230947,\n",
       " 8.426108753386398,\n",
       " 3.43908404144823,\n",
       " 12.16757501276846,\n",
       " 4.632861573833942,\n",
       " 7.341215471290521,\n",
       " 6.2086729039228175,\n",
       " 8.599993355815545,\n",
       " 12.96214899476227]"
      ]
     },
     "execution_count": 25,
     "metadata": {},
     "output_type": "execute_result"
    }
   ],
   "source": [
    "y_"
   ]
  },
  {
   "cell_type": "code",
   "execution_count": 26,
   "metadata": {},
   "outputs": [
    {
     "data": {
      "text/plain": [
       "<matplotlib.collections.PathCollection at 0x116c8be10>"
      ]
     },
     "execution_count": 26,
     "metadata": {},
     "output_type": "execute_result"
    },
    {
     "data": {
      "image/png": "[encoded data removed]",
      "text/plain": [
       "<Figure size 432x288 with 1 Axes>"
      ]
     },
     "metadata": {
      "needs_background": "light"
     },
     "output_type": "display_data"
    }
   ],
   "source": [
    "plt.scatter(x, y_)"
   ]
  },
  {
   "cell_type": "markdown",
   "metadata": {},
   "source": [
    "### *\n",
    "为什么要用numpy\n",
    "\n",
    "    Python中提供了list容器，可以当作数组使用。但列表中的元素可以是任何对象，因此列表中保存的是对象的指针，这样一来，为了保存一个简单的列表[1,2,3]。就需要三个指针和三个整数对象。对于数值运算来说，这种结构显然不够高效。\n",
    "    Python虽然也提供了array模块，但其只支持一维数组，不支持多维数组(在TensorFlow里面偏向于矩阵理解)，也没有各种运算函数。因而不适合数值运算。\n",
    "    NumPy的出现弥补了这些不足。\n",
    "\n",
    "（——摘自张若愚的《Python科学计算》）\n",
    "————————————————\n",
    "版权声明：本文为CSDN博主「furuit」的原创文章，遵循 CC 4.0 BY-SA 版权协议，转载请附上原文出处链接及本声明。\n",
    "原文链接：https://blog.csdn.net/fu6543210/article/details/83240024"
   ]
  },
  {
   "cell_type": "code",
   "execution_count": 27,
   "metadata": {},
   "outputs": [],
   "source": [
    "y_ = np.array(y_)"
   ]
  },
  {
   "cell_type": "code",
   "execution_count": 28,
   "metadata": {},
   "outputs": [
    {
     "data": {
      "text/plain": [
       "array([ 5.42579443, 13.03631191,  6.29764372, 12.72046626,  3.69665829,\n",
       "        4.04657629, 12.75283754,  3.00179065,  8.66916038, 15.16549435,\n",
       "       11.78846134, 11.68065388,  8.42610875,  3.43908404, 12.16757501,\n",
       "        4.63286157,  7.34121547,  6.2086729 ,  8.59999336, 12.96214899])"
      ]
     },
     "execution_count": 28,
     "metadata": {},
     "output_type": "execute_result"
    }
   ],
   "source": [
    "y_"
   ]
  },
  {
   "cell_type": "markdown",
   "metadata": {},
   "source": [
    "## 1.3 调用线性模型"
   ]
  },
  {
   "cell_type": "code",
   "execution_count": 29,
   "metadata": {},
   "outputs": [],
   "source": [
    "from sklearn.linear_model import LinearRegression"
   ]
  },
  {
   "cell_type": "code",
   "execution_count": 30,
   "metadata": {},
   "outputs": [
    {
     "data": {
      "text/plain": [
       "array([1.29617676e-01, 4.57846537e-01, 5.72513065e-01, 9.74587842e-01,\n",
       "       6.33325718e-02, 1.86052390e-01, 7.95712504e-01, 1.62786431e-04,\n",
       "       1.51741852e-01, 6.51408578e-01, 6.17132849e-01, 7.89150353e-01,\n",
       "       4.02373523e-01, 2.21734913e-01, 6.51597728e-01, 3.30260143e-01,\n",
       "       4.85565043e-01, 5.64424809e-01, 1.45453941e-01, 5.42013545e-01])"
      ]
     },
     "execution_count": 30,
     "metadata": {},
     "output_type": "execute_result"
    }
   ],
   "source": [
    "x"
   ]
  },
  {
   "cell_type": "markdown",
   "metadata": {},
   "source": [
    "### reshape(-1, 1)\n",
    "列数变成1，行数自动计算"
   ]
  },
  {
   "cell_type": "code",
   "execution_count": 31,
   "metadata": {},
   "outputs": [
    {
     "data": {
      "text/plain": [
       "array([[1.29617676e-01],\n",
       "       [4.57846537e-01],\n",
       "       [5.72513065e-01],\n",
       "       [9.74587842e-01],\n",
       "       [6.33325718e-02],\n",
       "       [1.86052390e-01],\n",
       "       [7.95712504e-01],\n",
       "       [1.62786431e-04],\n",
       "       [1.51741852e-01],\n",
       "       [6.51408578e-01],\n",
       "       [6.17132849e-01],\n",
       "       [7.89150353e-01],\n",
       "       [4.02373523e-01],\n",
       "       [2.21734913e-01],\n",
       "       [6.51597728e-01],\n",
       "       [3.30260143e-01],\n",
       "       [4.85565043e-01],\n",
       "       [5.64424809e-01],\n",
       "       [1.45453941e-01],\n",
       "       [5.42013545e-01]])"
      ]
     },
     "execution_count": 31,
     "metadata": {},
     "output_type": "execute_result"
    }
   ],
   "source": [
    "x.reshape(-1, 1)"
   ]
  },
  {
   "cell_type": "code",
   "execution_count": 32,
   "metadata": {},
   "outputs": [],
   "source": [
    "# 输入数据，标签，训练模型\n",
    "model = LinearRegression().fit(x.reshape(-1, 1), y_)"
   ]
  },
  {
   "cell_type": "code",
   "execution_count": 33,
   "metadata": {},
   "outputs": [
    {
     "data": {
      "text/plain": [
       "0.5680675885657651"
      ]
     },
     "execution_count": 33,
     "metadata": {},
     "output_type": "execute_result"
    }
   ],
   "source": [
    "#线性回归的scroe方法得到的是决定系数R平方\n",
    "#评估模型:决定系数R平方\n",
    "model.score(x.reshape(-1, 1), y_)"
   ]
  },
  {
   "cell_type": "code",
   "execution_count": 34,
   "metadata": {},
   "outputs": [],
   "source": [
    "# 回归系数\n",
    "a = model.coef_"
   ]
  },
  {
   "cell_type": "code",
   "execution_count": 35,
   "metadata": {},
   "outputs": [],
   "source": [
    "# 截距\n",
    "b = model.intercept_"
   ]
  },
  {
   "cell_type": "code",
   "execution_count": 36,
   "metadata": {},
   "outputs": [],
   "source": [
    "# 获得线性函数\n",
    "def f(x):\n",
    "    return a*x + b"
   ]
  },
  {
   "cell_type": "code",
   "execution_count": 37,
   "metadata": {},
   "outputs": [
    {
     "data": {
      "text/plain": [
       "[<matplotlib.lines.Line2D at 0x1a19465320>]"
      ]
     },
     "execution_count": 37,
     "metadata": {},
     "output_type": "execute_result"
    },
    {
     "data": {
      "image/png": "[encoded data removed]",
      "text/plain": [
       "<Figure size 432x288 with 1 Axes>"
      ]
     },
     "metadata": {
      "needs_background": "light"
     },
     "output_type": "display_data"
    }
   ],
   "source": [
    "plt.scatter(x, y)\n",
    "plt.plot(x, f(x), color='red')"
   ]
  },
  {
   "cell_type": "markdown",
   "metadata": {},
   "source": [
    "## 1.4 模型预测"
   ]
  },
  {
   "cell_type": "code",
   "execution_count": 38,
   "metadata": {},
   "outputs": [],
   "source": [
    "y_train_pred = model.predict(x.reshape(-1, 1))"
   ]
  },
  {
   "cell_type": "code",
   "execution_count": 39,
   "metadata": {},
   "outputs": [],
   "source": [
    "# 训练值-预测值，可视化图"
   ]
  },
  {
   "cell_type": "code",
   "execution_count": 40,
   "metadata": {},
   "outputs": [
    {
     "data": {
      "text/plain": [
       "[<matplotlib.lines.Line2D at 0x1a19598e10>]"
      ]
     },
     "execution_count": 40,
     "metadata": {},
     "output_type": "execute_result"
    },
    {
     "data": {
      "image/png": "[encoded data removed]",
      "text/plain": [
       "<Figure size 432x288 with 1 Axes>"
      ]
     },
     "metadata": {
      "needs_background": "light"
     },
     "output_type": "display_data"
    }
   ],
   "source": [
    "plt.scatter(x.reshape(-1, 1), y_train_pred)\n",
    "plt.scatter(x.reshape(-1, 1), y_, color='yellow')\n",
    "plt.plot(x, f(x), color='red')"
   ]
  },
  {
   "cell_type": "markdown",
   "metadata": {},
   "source": [
    "# 2. Complete the unfinished KNN Model using pure python to solve the previous Line-Regression problem. (8 points)"
   ]
  },
  {
   "cell_type": "markdown",
   "metadata": {},
   "source": [
    "<评阅点>:\n",
    "> + 是否完成了KNN模型 (4')\n",
    "+ 是否能够预测新的数据 (4')"
   ]
  },
  {
   "cell_type": "markdown",
   "metadata": {},
   "source": [
    "### 算法描述\n",
    "1）计算测试数据与各个训练数据之间的距离；\n",
    "\n",
    "2）按照距离的递增关系进行排序；\n",
    "\n",
    "3）选取距离最小的K个点；\n",
    "\n",
    "4）确定前K个点所在类别的出现频率；\n",
    "\n",
    "5）返回前K个点中出现频率最高的类别作为测试数据的预测分类。"
   ]
  },
  {
   "cell_type": "code",
   "execution_count": 41,
   "metadata": {},
   "outputs": [],
   "source": [
    "def model(x, y):\n",
    "    return [(xi, yi) for xi, yi in zip(x, y)]"
   ]
  },
  {
   "cell_type": "code",
   "execution_count": 42,
   "metadata": {},
   "outputs": [
    {
     "data": {
      "text/plain": [
       "[(0.12961767590130946, 0.05207923765528222),\n",
       " (0.45784653743303527, 0.6360503399565344),\n",
       " (0.5725130652067008, 0.01674640189178722),\n",
       " (0.9745878421685487, 0.753986092936857),\n",
       " (0.06333257178645213, 0.6134848321376926),\n",
       " (0.18605239027603737, 0.6144074012994564),\n",
       " (0.7957125040589772, 0.7681125040918174),\n",
       " (0.00016278643073452947, 0.278860838524145),\n",
       " (0.15174185231933268, 0.1859256707078305),\n",
       " (0.6514085776208884, 0.6317258864492381),\n",
       " (0.6171328489699667, 0.3430572558497964),\n",
       " (0.789150352748268, 0.251046052751009),\n",
       " (0.40237352303512697, 0.2417932895443352),\n",
       " (0.22173491285893, 0.3647025277300099),\n",
       " (0.6515977284334963, 0.5247349158456543),\n",
       " (0.330260143075813, 0.29008990648624766),\n",
       " (0.4855650428445929, 0.43979168217026776),\n",
       " (0.5644248094475289, 0.40237409513901845),\n",
       " (0.1454539414377768, 0.19637030877208694),\n",
       " (0.5420135449783883, 0.4119082375398476)]"
      ]
     },
     "execution_count": 42,
     "metadata": {},
     "output_type": "execute_result"
    }
   ],
   "source": [
    "model(x,y)"
   ]
  },
  {
   "cell_type": "code",
   "execution_count": 43,
   "metadata": {},
   "outputs": [],
   "source": [
    "# 计算一维数组之间的余弦距离\n",
    "from scipy.spatial.distance import cosine"
   ]
  },
  {
   "cell_type": "code",
   "execution_count": 44,
   "metadata": {},
   "outputs": [],
   "source": [
    "def distance(x1, x2):\n",
    "    return cosine(x1, x2)"
   ]
  },
  {
   "cell_type": "code",
   "execution_count": 45,
   "metadata": {},
   "outputs": [],
   "source": [
    "def predict(x_, k=6):\n",
    "    most_simiars = sorted(model(x, y), key=lambda xi: distance(xi[0], x_))[:k]\n",
    "    print(most_simiars)\n",
    "    y_hats = [_y for x, _y in most_simiars]\n",
    "    return np.mean(y_hats)"
   ]
  },
  {
   "cell_type": "markdown",
   "metadata": {},
   "source": [
    "### 预测新数据"
   ]
  },
  {
   "cell_type": "code",
   "execution_count": 46,
   "metadata": {},
   "outputs": [
    {
     "name": "stdout",
     "output_type": "stream",
     "text": [
      "[(0.1454539414377768, 0.19637030877208694), (0.45784653743303527, 0.6360503399565344), (0.5725130652067008, 0.01674640189178722), (0.9745878421685487, 0.753986092936857), (0.06333257178645213, 0.6134848321376926), (0.18605239027603737, 0.6144074012994564)]\n"
     ]
    },
    {
     "data": {
      "text/plain": [
       "0.4718408961657357"
      ]
     },
     "execution_count": 46,
     "metadata": {},
     "output_type": "execute_result"
    }
   ],
   "source": [
    "predict(0.8)"
   ]
  },
  {
   "cell_type": "markdown",
   "metadata": {},
   "source": [
    "# 3. Re-code the Decision Tree, which could sort the features by salience. (12 points)"
   ]
  },
  {
   "cell_type": "markdown",
   "metadata": {},
   "source": [
    "<评阅点>\n",
    "> + 是否实现了信息熵 (1' )\n",
    "+ 是否实现了最优先特征点的选择(5')\n",
    "+ 是否实现了持续的特征选则(6')"
   ]
  },
  {
   "cell_type": "markdown",
   "metadata": {},
   "source": [
    "## 3.1 信息熵"
   ]
  },
  {
   "cell_type": "code",
   "execution_count": 47,
   "metadata": {},
   "outputs": [],
   "source": [
    "from collections import Counter"
   ]
  },
  {
   "cell_type": "code",
   "execution_count": 48,
   "metadata": {},
   "outputs": [
    {
     "name": "stdout",
     "output_type": "stream",
     "text": [
      "Requirement already satisfied: icecream in /Users/stone/anaconda3/lib/python3.7/site-packages (2.0.0)\n",
      "Requirement already satisfied: executing>=0.3.1 in /Users/stone/anaconda3/lib/python3.7/site-packages (from icecream) (0.4.1)\n",
      "Requirement already satisfied: asttokens>=2.0.1 in /Users/stone/anaconda3/lib/python3.7/site-packages (from icecream) (2.0.3)\n",
      "Requirement already satisfied: pygments>=2.2.0 in /Users/stone/anaconda3/lib/python3.7/site-packages (from icecream) (2.3.1)\n",
      "Requirement already satisfied: colorama>=0.3.9 in /Users/stone/anaconda3/lib/python3.7/site-packages (from icecream) (0.4.1)\n",
      "Requirement already satisfied: six in /Users/stone/anaconda3/lib/python3.7/site-packages (from asttokens>=2.0.1->icecream) (1.12.0)\n"
     ]
    }
   ],
   "source": [
    "!pip install icecream"
   ]
  },
  {
   "cell_type": "code",
   "execution_count": 49,
   "metadata": {},
   "outputs": [],
   "source": [
    "from icecream import ic"
   ]
  },
  {
   "cell_type": "markdown",
   "metadata": {},
   "source": [
    "$$ Entropy = -\\sum_i^n Pr(x_i)log(Pr(x_i)) $$"
   ]
  },
  {
   "cell_type": "code",
   "execution_count": 50,
   "metadata": {},
   "outputs": [],
   "source": [
    "def entropy(elements_list):\n",
    "    length = len(elements_list)\n",
    "    counter = Counter(elements_list)\n",
    "    probs = [counter[c] / length for c in set(elements_list)]\n",
    "#     print(probs)\n",
    "    ic(probs)\n",
    "    # 不写底数时默认以e为底\n",
    "    return -sum(p * np.log(p) for p in probs)"
   ]
  },
  {
   "cell_type": "code",
   "execution_count": 51,
   "metadata": {},
   "outputs": [],
   "source": [
    "elements_list = [[1, 3, 4, 1], [1, 3, -4, 1], [1, 2, 2, 1], [1, 1, 1, 1]]"
   ]
  },
  {
   "cell_type": "code",
   "execution_count": 52,
   "metadata": {},
   "outputs": [
    {
     "name": "stderr",
     "output_type": "stream",
     "text": [
      "ic| probs: [0.5, 0.25, 0.25]\n",
      "ic| probs: [0.5, 0.25, 0.25]\n",
      "ic| probs: [0.5, 0.5]\n",
      "ic| probs: [1.0]\n"
     ]
    },
    {
     "name": "stdout",
     "output_type": "stream",
     "text": [
      "[1, 3, 4, 1] ==> 1.0397207708399179\n",
      "[1, 3, -4, 1] ==> 1.0397207708399179\n",
      "[1, 2, 2, 1] ==> 0.6931471805599453\n",
      "[1, 1, 1, 1] ==> -0.0\n"
     ]
    }
   ],
   "source": [
    "for e in elements_list:\n",
    "    print(str(e),'==>', entropy(e))"
   ]
  },
  {
   "cell_type": "markdown",
   "metadata": {},
   "source": [
    "## 3.2 决策树"
   ]
  },
  {
   "cell_type": "code",
   "execution_count": 53,
   "metadata": {},
   "outputs": [],
   "source": [
    "mock_data = {\n",
    "    'gender':['F', 'F', 'F', 'F', 'M', 'M', 'M'],\n",
    "    'income': ['+10', '-10', '+10', '+10', '+10', '+10', '-10'],\n",
    "    'family_number': [1, 1, 2, 1, 1, 1, 2],\n",
    "    'bought': [1, 1, 1, 0, 0, 0, 1],\n",
    "}"
   ]
  },
  {
   "cell_type": "code",
   "execution_count": 54,
   "metadata": {},
   "outputs": [],
   "source": [
    "import pandas as pd"
   ]
  },
  {
   "cell_type": "code",
   "execution_count": 55,
   "metadata": {},
   "outputs": [],
   "source": [
    "dataset = pd.DataFrame.from_dict(mock_data)"
   ]
  },
  {
   "cell_type": "code",
   "execution_count": 56,
   "metadata": {},
   "outputs": [
    {
     "data": {
      "text/html": [
       "<div>\n",
       "<style scoped>\n",
       "    .dataframe tbody tr th:only-of-type {\n",
       "        vertical-align: middle;\n",
       "    }\n",
       "\n",
       "    .dataframe tbody tr th {\n",
       "        vertical-align: top;\n",
       "    }\n",
       "\n",
       "    .dataframe thead th {\n",
       "        text-align: right;\n",
       "    }\n",
       "</style>\n",
       "<table border=\"1\" class=\"dataframe\">\n",
       "  <thead>\n",
       "    <tr style=\"text-align: right;\">\n",
       "      <th></th>\n",
       "      <th>gender</th>\n",
       "      <th>income</th>\n",
       "      <th>family_number</th>\n",
       "      <th>bought</th>\n",
       "    </tr>\n",
       "  </thead>\n",
       "  <tbody>\n",
       "    <tr>\n",
       "      <th>0</th>\n",
       "      <td>F</td>\n",
       "      <td>+10</td>\n",
       "      <td>1</td>\n",
       "      <td>1</td>\n",
       "    </tr>\n",
       "    <tr>\n",
       "      <th>1</th>\n",
       "      <td>F</td>\n",
       "      <td>-10</td>\n",
       "      <td>1</td>\n",
       "      <td>1</td>\n",
       "    </tr>\n",
       "    <tr>\n",
       "      <th>2</th>\n",
       "      <td>F</td>\n",
       "      <td>+10</td>\n",
       "      <td>2</td>\n",
       "      <td>1</td>\n",
       "    </tr>\n",
       "    <tr>\n",
       "      <th>3</th>\n",
       "      <td>F</td>\n",
       "      <td>+10</td>\n",
       "      <td>1</td>\n",
       "      <td>0</td>\n",
       "    </tr>\n",
       "    <tr>\n",
       "      <th>4</th>\n",
       "      <td>M</td>\n",
       "      <td>+10</td>\n",
       "      <td>1</td>\n",
       "      <td>0</td>\n",
       "    </tr>\n",
       "    <tr>\n",
       "      <th>5</th>\n",
       "      <td>M</td>\n",
       "      <td>+10</td>\n",
       "      <td>1</td>\n",
       "      <td>0</td>\n",
       "    </tr>\n",
       "    <tr>\n",
       "      <th>6</th>\n",
       "      <td>M</td>\n",
       "      <td>-10</td>\n",
       "      <td>2</td>\n",
       "      <td>1</td>\n",
       "    </tr>\n",
       "  </tbody>\n",
       "</table>\n",
       "</div>"
      ],
      "text/plain": [
       "  gender income  family_number  bought\n",
       "0      F    +10              1       1\n",
       "1      F    -10              1       1\n",
       "2      F    +10              2       1\n",
       "3      F    +10              1       0\n",
       "4      M    +10              1       0\n",
       "5      M    +10              1       0\n",
       "6      M    -10              2       1"
      ]
     },
     "execution_count": 56,
     "metadata": {},
     "output_type": "execute_result"
    }
   ],
   "source": [
    "dataset"
   ]
  },
  {
   "cell_type": "code",
   "execution_count": 57,
   "metadata": {},
   "outputs": [
    {
     "name": "stderr",
     "output_type": "stream",
     "text": [
      "ic| probs: [0.25, 0.75]\n",
      "ic| probs: [0.6666666666666666, 0.3333333333333333]\n",
      "ic| probs: [0.6, 0.4]\n",
      "ic| probs: [1.0]\n",
      "ic| probs: [0.6, 0.4]\n",
      "ic| probs: [1.0]\n",
      "ic| probs: [1.0]\n",
      "ic| probs: [1.0]\n"
     ]
    },
    {
     "name": "stdout",
     "output_type": "stream",
     "text": [
      "split_by_gender: 1.198849312913621\n",
      "split_by_income: 0.6730116670092565\n",
      "split_by_family_number 0.6730116670092565\n",
      "split_by_pet: -0.0\n"
     ]
    }
   ],
   "source": [
    "# split_by_gender: \n",
    "print(\"split_by_gender:\",entropy([1, 1, 1, 0]) + entropy([0, 0, 1]))\n",
    "\n",
    "# split_by_income:\n",
    "print(\"split_by_income:\",entropy([1, 1, 0, 0, 0]) + entropy([1, 1]))\n",
    "\n",
    "# split_by_family_number\n",
    "print(\"split_by_family_number\",entropy([1, 1, 0, 0, 0]) + entropy([1, 1]))\n",
    "\n",
    "# split_by_pet\n",
    "print(\"split_by_pet:\",entropy([1, 1, 1, 1]) + entropy([0, 0, 0]))"
   ]
  },
  {
   "cell_type": "code",
   "execution_count": 58,
   "metadata": {},
   "outputs": [
    {
     "name": "stdout",
     "output_type": "stream",
     "text": [
      "0     True\n",
      "1     True\n",
      "2    False\n",
      "3     True\n",
      "4     True\n",
      "5     True\n",
      "6    False\n",
      "Name: family_number, dtype: bool\n"
     ]
    }
   ],
   "source": [
    "print(dataset['family_number'] == 1)"
   ]
  },
  {
   "cell_type": "code",
   "execution_count": 59,
   "metadata": {},
   "outputs": [
    {
     "data": {
      "text/plain": [
       "0    1\n",
       "1    1\n",
       "2    1\n",
       "3    0\n",
       "4    0\n",
       "5    0\n",
       "6    1\n",
       "Name: bought, dtype: int64"
      ]
     },
     "execution_count": 59,
     "metadata": {},
     "output_type": "execute_result"
    }
   ],
   "source": [
    "dataset['bought']"
   ]
  },
  {
   "cell_type": "code",
   "execution_count": 60,
   "metadata": {},
   "outputs": [],
   "source": [
    "sub_split_1 = dataset[dataset['family_number'] == 1]['bought'].tolist()"
   ]
  },
  {
   "cell_type": "code",
   "execution_count": 61,
   "metadata": {},
   "outputs": [
    {
     "data": {
      "text/plain": [
       "[1, 1, 0, 0, 0]"
      ]
     },
     "execution_count": 61,
     "metadata": {},
     "output_type": "execute_result"
    }
   ],
   "source": [
    "sub_split_1"
   ]
  },
  {
   "cell_type": "code",
   "execution_count": 62,
   "metadata": {},
   "outputs": [],
   "source": [
    "splited_data = dataset[dataset['family_number'] == 1]"
   ]
  },
  {
   "cell_type": "code",
   "execution_count": 63,
   "metadata": {},
   "outputs": [
    {
     "data": {
      "text/html": [
       "<div>\n",
       "<style scoped>\n",
       "    .dataframe tbody tr th:only-of-type {\n",
       "        vertical-align: middle;\n",
       "    }\n",
       "\n",
       "    .dataframe tbody tr th {\n",
       "        vertical-align: top;\n",
       "    }\n",
       "\n",
       "    .dataframe thead th {\n",
       "        text-align: right;\n",
       "    }\n",
       "</style>\n",
       "<table border=\"1\" class=\"dataframe\">\n",
       "  <thead>\n",
       "    <tr style=\"text-align: right;\">\n",
       "      <th></th>\n",
       "      <th>gender</th>\n",
       "      <th>income</th>\n",
       "      <th>family_number</th>\n",
       "      <th>bought</th>\n",
       "    </tr>\n",
       "  </thead>\n",
       "  <tbody>\n",
       "    <tr>\n",
       "      <th>0</th>\n",
       "      <td>F</td>\n",
       "      <td>+10</td>\n",
       "      <td>1</td>\n",
       "      <td>1</td>\n",
       "    </tr>\n",
       "    <tr>\n",
       "      <th>1</th>\n",
       "      <td>F</td>\n",
       "      <td>-10</td>\n",
       "      <td>1</td>\n",
       "      <td>1</td>\n",
       "    </tr>\n",
       "    <tr>\n",
       "      <th>3</th>\n",
       "      <td>F</td>\n",
       "      <td>+10</td>\n",
       "      <td>1</td>\n",
       "      <td>0</td>\n",
       "    </tr>\n",
       "    <tr>\n",
       "      <th>4</th>\n",
       "      <td>M</td>\n",
       "      <td>+10</td>\n",
       "      <td>1</td>\n",
       "      <td>0</td>\n",
       "    </tr>\n",
       "    <tr>\n",
       "      <th>5</th>\n",
       "      <td>M</td>\n",
       "      <td>+10</td>\n",
       "      <td>1</td>\n",
       "      <td>0</td>\n",
       "    </tr>\n",
       "  </tbody>\n",
       "</table>\n",
       "</div>"
      ],
      "text/plain": [
       "  gender income  family_number  bought\n",
       "0      F    +10              1       1\n",
       "1      F    -10              1       1\n",
       "3      F    +10              1       0\n",
       "4      M    +10              1       0\n",
       "5      M    +10              1       0"
      ]
     },
     "execution_count": 63,
     "metadata": {},
     "output_type": "execute_result"
    }
   ],
   "source": [
    "splited_data"
   ]
  },
  {
   "cell_type": "code",
   "execution_count": 64,
   "metadata": {},
   "outputs": [
    {
     "data": {
      "text/html": [
       "<div>\n",
       "<style scoped>\n",
       "    .dataframe tbody tr th:only-of-type {\n",
       "        vertical-align: middle;\n",
       "    }\n",
       "\n",
       "    .dataframe tbody tr th {\n",
       "        vertical-align: top;\n",
       "    }\n",
       "\n",
       "    .dataframe thead th {\n",
       "        text-align: right;\n",
       "    }\n",
       "</style>\n",
       "<table border=\"1\" class=\"dataframe\">\n",
       "  <thead>\n",
       "    <tr style=\"text-align: right;\">\n",
       "      <th></th>\n",
       "      <th>gender</th>\n",
       "      <th>income</th>\n",
       "      <th>family_number</th>\n",
       "      <th>bought</th>\n",
       "    </tr>\n",
       "  </thead>\n",
       "  <tbody>\n",
       "    <tr>\n",
       "      <th>0</th>\n",
       "      <td>F</td>\n",
       "      <td>+10</td>\n",
       "      <td>1</td>\n",
       "      <td>1</td>\n",
       "    </tr>\n",
       "    <tr>\n",
       "      <th>3</th>\n",
       "      <td>F</td>\n",
       "      <td>+10</td>\n",
       "      <td>1</td>\n",
       "      <td>0</td>\n",
       "    </tr>\n",
       "    <tr>\n",
       "      <th>4</th>\n",
       "      <td>M</td>\n",
       "      <td>+10</td>\n",
       "      <td>1</td>\n",
       "      <td>0</td>\n",
       "    </tr>\n",
       "    <tr>\n",
       "      <th>5</th>\n",
       "      <td>M</td>\n",
       "      <td>+10</td>\n",
       "      <td>1</td>\n",
       "      <td>0</td>\n",
       "    </tr>\n",
       "  </tbody>\n",
       "</table>\n",
       "</div>"
      ],
      "text/plain": [
       "  gender income  family_number  bought\n",
       "0      F    +10              1       1\n",
       "3      F    +10              1       0\n",
       "4      M    +10              1       0\n",
       "5      M    +10              1       0"
      ]
     },
     "execution_count": 64,
     "metadata": {},
     "output_type": "execute_result"
    }
   ],
   "source": [
    "splited_data[splited_data['income'] == '+10']"
   ]
  },
  {
   "cell_type": "code",
   "execution_count": 73,
   "metadata": {},
   "outputs": [],
   "source": [
    "def find_optimal_spilter(train_data: pd.DataFrame, target: str) -> str:\n",
    "    # set(train_data.columns.tolist()): {'family_number', 'income', 'gender', 'pet', 'bought'}\n",
    "    x_fields = set(train_data.columns.tolist()) - {target}\n",
    "#     print(x_fields)\n",
    "    spliter = None\n",
    "    min_entropy = float('inf')\n",
    "    for f in x_fields:\n",
    "        \"\"\"\n",
    "            values:\n",
    "                {'M', 'F'}\n",
    "                {1, 2}\n",
    "                {'-10', '+10'}\n",
    "                {0, 1}\n",
    "        \"\"\"\n",
    "        values = set(train_data[f])\n",
    "        print(values)\n",
    "        for v in values:\n",
    "            sub_spliter_1 = train_data[train_data[f] == v][target].tolist()\n",
    "            ic(sub_spliter_1)\n",
    "            entropy_1 = entropy(sub_spliter_1)\n",
    "            \n",
    "            sub_spliter_2 = train_data[train_data[f] != v][target].tolist()\n",
    "            ic(sub_spliter_2)\n",
    "            entropy_2 = entropy(sub_spliter_2)\n",
    "            \n",
    "            entropy_v = entropy_1 + entropy_2\n",
    "            ic(entropy_v)\n",
    "            \n",
    "            if entropy_v <= min_entropy:\n",
    "                min_entropy = entropy_v\n",
    "                spliter = (f, v)\n",
    "    print('spliter is: {}'.format(spliter))\n",
    "    print('the min entropy is: {}'.format(min_entropy))\n",
    "    \n",
    "    return spliter, min_entropy     \n",
    "        "
   ]
  },
  {
   "cell_type": "code",
   "execution_count": 66,
   "metadata": {},
   "outputs": [
    {
     "name": "stderr",
     "output_type": "stream",
     "text": [
      "ic| sub_spliter_1: [1, 1, 1, 0]\n",
      "ic| probs: [0.25, 0.75]\n",
      "ic| sub_spliter_2: [0, 0, 1]\n",
      "ic| probs: [0.6666666666666666, 0.3333333333333333]\n",
      "ic| entropy_v: 1.198849312913621\n",
      "ic| sub_spliter_1: [0, 0, 1]\n",
      "ic| probs: [0.6666666666666666, 0.3333333333333333]\n",
      "ic| sub_spliter_2: [1, 1, 1, 0]\n",
      "ic| probs: [0.25, 0.75]\n",
      "ic| entropy_v: 1.198849312913621\n"
     ]
    },
    {
     "name": "stdout",
     "output_type": "stream",
     "text": [
      "{'F', 'M'}\n",
      "{'+10', '-10'}\n"
     ]
    },
    {
     "name": "stderr",
     "output_type": "stream",
     "text": [
      "ic| sub_spliter_1: [1, 1, 0, 0, 0]\n",
      "ic| probs: [0.6, 0.4]\n",
      "ic| sub_spliter_2: [1, 1]\n",
      "ic| probs: [1.0]\n",
      "ic| entropy_v: 0.6730116670092565\n",
      "ic| sub_spliter_1: [1, 1]\n",
      "ic| probs: [1.0]\n",
      "ic| sub_spliter_2: [1, 1, 0, 0, 0]\n",
      "ic| probs: [0.6, 0.4]\n",
      "ic| entropy_v: 0.6730116670092565\n",
      "ic| sub_spliter_1: [1, 1, 0, 0, 0]\n",
      "ic| probs: [0.6, 0.4]\n",
      "ic| sub_spliter_2: [1, 1]\n",
      "ic| probs: [1.0]\n",
      "ic| entropy_v: 0.6730116670092565\n",
      "ic| sub_spliter_1: [1, 1]\n",
      "ic| probs: [1.0]\n",
      "ic| sub_spliter_2: [1, 1, 0, 0, 0]\n",
      "ic| probs: [0.6, 0.4]\n",
      "ic| entropy_v: 0.6730116670092565\n"
     ]
    },
    {
     "name": "stdout",
     "output_type": "stream",
     "text": [
      "{1, 2}\n",
      "spliter is: ('family_number', 2)\n",
      "the min entropy is: 0.6730116670092565\n"
     ]
    },
    {
     "data": {
      "text/plain": [
       "('family_number', 2)"
      ]
     },
     "execution_count": 66,
     "metadata": {},
     "output_type": "execute_result"
    }
   ],
   "source": [
    "find_optimal_spilter(train_data=dataset, target='bought')"
   ]
  },
  {
   "cell_type": "markdown",
   "metadata": {},
   "source": [
    "### - 先按照(family_number, 2), 进行划分"
   ]
  },
  {
   "cell_type": "code",
   "execution_count": 67,
   "metadata": {},
   "outputs": [
    {
     "name": "stderr",
     "output_type": "stream",
     "text": [
      "ic| sub_spliter_1: [1, 1, 0]\n",
      "ic| probs: [0.3333333333333333, 0.6666666666666666]\n",
      "ic| sub_spliter_2: [0, 0]\n",
      "ic| probs: [1.0]\n",
      "ic| entropy_v: 0.6365141682948128\n",
      "ic| sub_spliter_1: [0, 0]\n",
      "ic| probs: [1.0]\n",
      "ic| sub_spliter_2: [1, 1, 0]\n",
      "ic| probs: [0.3333333333333333, 0.6666666666666666]\n",
      "ic| entropy_v: 0.6365141682948128\n",
      "ic| sub_spliter_1: [1"
     ]
    },
    {
     "name": "stdout",
     "output_type": "stream",
     "text": [
      "{'F', 'M'}\n",
      "{'+10', '-10'}\n"
     ]
    },
    {
     "name": "stderr",
     "output_type": "stream",
     "text": [
      ", 0, 0, 0]\n",
      "ic| probs: [0.75, 0.25]\n",
      "ic| sub_spliter_2: [1]\n",
      "ic| probs: [1.0]\n",
      "ic| entropy_v: 0.5623351446188083\n",
      "ic| sub_spliter_1: [1]\n",
      "ic| probs: [1.0]\n",
      "ic| sub_spliter_2: [1, 0, 0, 0]\n",
      "ic| probs: [0.75, 0.25]\n",
      "ic| entropy_v: 0.5623351446188083\n",
      "ic| sub_spliter_1: [1, 1, 0, 0, 0]\n",
      "ic| probs: [0.6, 0.4]\n",
      "ic| sub_spliter_2: []\n",
      "ic| probs: []\n",
      "ic| entropy_v: 0.6730116670092565\n"
     ]
    },
    {
     "name": "stdout",
     "output_type": "stream",
     "text": [
      "{1}\n",
      "spliter is: ('income', '-10')\n",
      "the min entropy is: 0.5623351446188083\n"
     ]
    },
    {
     "data": {
      "text/plain": [
       "('income', '-10')"
      ]
     },
     "execution_count": 67,
     "metadata": {},
     "output_type": "execute_result"
    }
   ],
   "source": [
    "find_optimal_spilter(dataset[dataset['family_number'] == 1], 'bought')"
   ]
  },
  {
   "cell_type": "code",
   "execution_count": 68,
   "metadata": {},
   "outputs": [],
   "source": [
    "fm_n_1 = dataset[dataset['family_number'] == 1]"
   ]
  },
  {
   "cell_type": "code",
   "execution_count": 69,
   "metadata": {},
   "outputs": [
    {
     "data": {
      "text/html": [
       "<div>\n",
       "<style scoped>\n",
       "    .dataframe tbody tr th:only-of-type {\n",
       "        vertical-align: middle;\n",
       "    }\n",
       "\n",
       "    .dataframe tbody tr th {\n",
       "        vertical-align: top;\n",
       "    }\n",
       "\n",
       "    .dataframe thead th {\n",
       "        text-align: right;\n",
       "    }\n",
       "</style>\n",
       "<table border=\"1\" class=\"dataframe\">\n",
       "  <thead>\n",
       "    <tr style=\"text-align: right;\">\n",
       "      <th></th>\n",
       "      <th>gender</th>\n",
       "      <th>income</th>\n",
       "      <th>family_number</th>\n",
       "      <th>bought</th>\n",
       "    </tr>\n",
       "  </thead>\n",
       "  <tbody>\n",
       "    <tr>\n",
       "      <th>0</th>\n",
       "      <td>F</td>\n",
       "      <td>+10</td>\n",
       "      <td>1</td>\n",
       "      <td>1</td>\n",
       "    </tr>\n",
       "    <tr>\n",
       "      <th>1</th>\n",
       "      <td>F</td>\n",
       "      <td>-10</td>\n",
       "      <td>1</td>\n",
       "      <td>1</td>\n",
       "    </tr>\n",
       "    <tr>\n",
       "      <th>3</th>\n",
       "      <td>F</td>\n",
       "      <td>+10</td>\n",
       "      <td>1</td>\n",
       "      <td>0</td>\n",
       "    </tr>\n",
       "    <tr>\n",
       "      <th>4</th>\n",
       "      <td>M</td>\n",
       "      <td>+10</td>\n",
       "      <td>1</td>\n",
       "      <td>0</td>\n",
       "    </tr>\n",
       "    <tr>\n",
       "      <th>5</th>\n",
       "      <td>M</td>\n",
       "      <td>+10</td>\n",
       "      <td>1</td>\n",
       "      <td>0</td>\n",
       "    </tr>\n",
       "  </tbody>\n",
       "</table>\n",
       "</div>"
      ],
      "text/plain": [
       "  gender income  family_number  bought\n",
       "0      F    +10              1       1\n",
       "1      F    -10              1       1\n",
       "3      F    +10              1       0\n",
       "4      M    +10              1       0\n",
       "5      M    +10              1       0"
      ]
     },
     "execution_count": 69,
     "metadata": {},
     "output_type": "execute_result"
    }
   ],
   "source": [
    "fm_n_1"
   ]
  },
  {
   "cell_type": "code",
   "execution_count": 70,
   "metadata": {},
   "outputs": [
    {
     "data": {
      "text/html": [
       "<div>\n",
       "<style scoped>\n",
       "    .dataframe tbody tr th:only-of-type {\n",
       "        vertical-align: middle;\n",
       "    }\n",
       "\n",
       "    .dataframe tbody tr th {\n",
       "        vertical-align: top;\n",
       "    }\n",
       "\n",
       "    .dataframe thead th {\n",
       "        text-align: right;\n",
       "    }\n",
       "</style>\n",
       "<table border=\"1\" class=\"dataframe\">\n",
       "  <thead>\n",
       "    <tr style=\"text-align: right;\">\n",
       "      <th></th>\n",
       "      <th>gender</th>\n",
       "      <th>income</th>\n",
       "      <th>family_number</th>\n",
       "      <th>bought</th>\n",
       "    </tr>\n",
       "  </thead>\n",
       "  <tbody>\n",
       "    <tr>\n",
       "      <th>0</th>\n",
       "      <td>F</td>\n",
       "      <td>+10</td>\n",
       "      <td>1</td>\n",
       "      <td>1</td>\n",
       "    </tr>\n",
       "    <tr>\n",
       "      <th>3</th>\n",
       "      <td>F</td>\n",
       "      <td>+10</td>\n",
       "      <td>1</td>\n",
       "      <td>0</td>\n",
       "    </tr>\n",
       "    <tr>\n",
       "      <th>4</th>\n",
       "      <td>M</td>\n",
       "      <td>+10</td>\n",
       "      <td>1</td>\n",
       "      <td>0</td>\n",
       "    </tr>\n",
       "    <tr>\n",
       "      <th>5</th>\n",
       "      <td>M</td>\n",
       "      <td>+10</td>\n",
       "      <td>1</td>\n",
       "      <td>0</td>\n",
       "    </tr>\n",
       "  </tbody>\n",
       "</table>\n",
       "</div>"
      ],
      "text/plain": [
       "  gender income  family_number  bought\n",
       "0      F    +10              1       1\n",
       "3      F    +10              1       0\n",
       "4      M    +10              1       0\n",
       "5      M    +10              1       0"
      ]
     },
     "execution_count": 70,
     "metadata": {},
     "output_type": "execute_result"
    }
   ],
   "source": [
    "fm_n_1[fm_n_1['income'] == '+10']"
   ]
  },
  {
   "cell_type": "code",
   "execution_count": 71,
   "metadata": {},
   "outputs": [
    {
     "data": {
      "text/html": [
       "<div>\n",
       "<style scoped>\n",
       "    .dataframe tbody tr th:only-of-type {\n",
       "        vertical-align: middle;\n",
       "    }\n",
       "\n",
       "    .dataframe tbody tr th {\n",
       "        vertical-align: top;\n",
       "    }\n",
       "\n",
       "    .dataframe thead th {\n",
       "        text-align: right;\n",
       "    }\n",
       "</style>\n",
       "<table border=\"1\" class=\"dataframe\">\n",
       "  <thead>\n",
       "    <tr style=\"text-align: right;\">\n",
       "      <th></th>\n",
       "      <th>gender</th>\n",
       "      <th>income</th>\n",
       "      <th>family_number</th>\n",
       "      <th>bought</th>\n",
       "    </tr>\n",
       "  </thead>\n",
       "  <tbody>\n",
       "    <tr>\n",
       "      <th>1</th>\n",
       "      <td>F</td>\n",
       "      <td>-10</td>\n",
       "      <td>1</td>\n",
       "      <td>1</td>\n",
       "    </tr>\n",
       "  </tbody>\n",
       "</table>\n",
       "</div>"
      ],
      "text/plain": [
       "  gender income  family_number  bought\n",
       "1      F    -10              1       1"
      ]
     },
     "execution_count": 71,
     "metadata": {},
     "output_type": "execute_result"
    }
   ],
   "source": [
    "fm_n_1[fm_n_1['income'] != '+10']"
   ]
  },
  {
   "cell_type": "code",
   "execution_count": 72,
   "metadata": {},
   "outputs": [
    {
     "name": "stderr",
     "output_type": "stream",
     "text": [
      "ic| sub_spliter_1: [1, 0]\n",
      "ic| probs: [0.5, 0.5]\n",
      "ic| sub_spliter_2: [0, 0]\n",
      "ic| probs: [1.0]\n",
      "ic| entropy_v: 0.6931471805599453\n",
      "ic| sub_spliter_1: [0, 0]\n",
      "ic| probs: [1.0]\n",
      "ic| sub_spliter_2: [1, 0]\n",
      "ic| probs: [0.5, 0.5]\n",
      "ic| entropy_v: 0.6931471805599453\n",
      "ic| sub_spliter_1: [1,"
     ]
    },
    {
     "name": "stdout",
     "output_type": "stream",
     "text": [
      "{'F', 'M'}\n",
      "{'+10'}\n"
     ]
    },
    {
     "name": "stderr",
     "output_type": "stream",
     "text": [
      " 0, 0, 0]\n",
      "ic| probs: [0.75, 0.25]\n",
      "ic| sub_spliter_2: []\n",
      "ic| probs: []\n",
      "ic| entropy_v: 0.5623351446188083\n",
      "ic| sub_spliter_1: [1, 0, 0, 0]\n",
      "ic| probs: [0.75, 0.25]\n",
      "ic| sub_spliter_2: []\n",
      "ic| probs: []\n",
      "ic| entropy_v: 0.5623351446188083\n"
     ]
    },
    {
     "name": "stdout",
     "output_type": "stream",
     "text": [
      "{1}\n",
      "spliter is: ('family_number', 1)\n",
      "the min entropy is: 0.5623351446188083\n"
     ]
    },
    {
     "data": {
      "text/plain": [
       "('family_number', 1)"
      ]
     },
     "execution_count": 72,
     "metadata": {},
     "output_type": "execute_result"
    }
   ],
   "source": [
    "find_optimal_spilter(fm_n_1[fm_n_1['income'] == '+10'], 'bought')"
   ]
  },
  {
   "cell_type": "code",
   "execution_count": 98,
   "metadata": {},
   "outputs": [],
   "source": [
    "# 反复调用find_optimal_spilter， 获取整个完整决策树，存放进dict中\n",
    "def get_tree(train_data: pd.DataFrame, target: str):\n",
    "    tree = {}\n",
    "    while True:\n",
    "        # 寻找最优划分\n",
    "        (k, v), min_entropy = find_optimal_spilter(train_data=train_data, target=target)\n",
    "        tree[k] = v\n",
    "        if min_entropy == 0:\n",
    "            break\n",
    "        # 获取下一数据表\n",
    "        train_data = train_data[train_data[k] != v]\n",
    "        print(train_data)\n",
    "        train_data = train_data.drop([k],axis=1)\n",
    "        # 直到为0\n",
    "        if len(train_data.columns) == 1:\n",
    "            break\n",
    "        if train_data.shape[0] == 0:\n",
    "            break     \n",
    "    i = 0\n",
    "    print(\"划分如下：\")\n",
    "    for k,v in tree.items():\n",
    "        i += 1\n",
    "        print(\"第(%d)次，为(%s)\" %(i,(k,v)))    \n",
    "    return tree        "
   ]
  },
  {
   "cell_type": "code",
   "execution_count": 99,
   "metadata": {},
   "outputs": [
    {
     "name": "stderr",
     "output_type": "stream",
     "text": [
      "ic| sub_spliter_1: [1, 1, 1, 0]\n",
      "ic| probs: [0.25, 0.75]\n",
      "ic| sub_spliter_2: [0, 0, 1]\n",
      "ic| probs: [0.6666666666666666, 0.3333333333333333]\n",
      "ic| entropy_v: 1.198849312913621\n",
      "ic| sub_spliter_1: [0, 0, 1]\n",
      "ic| probs: [0.6666666666666666, 0.3333333333333333]\n",
      "ic| sub_spliter_2: [1, 1, 1, 0]\n",
      "ic| probs: [0.25, 0.75]\n",
      "ic| entropy_v: 1.198849312913621\n"
     ]
    },
    {
     "name": "stdout",
     "output_type": "stream",
     "text": [
      "{'F', 'M'}\n"
     ]
    },
    {
     "name": "stderr",
     "output_type": "stream",
     "text": [
      "ic| sub_spliter_1: [1, 1, 0, 0, 0]\n",
      "ic| probs: [0.6, 0.4]\n",
      "ic| sub_spliter_2: [1, 1]\n",
      "ic| probs: [1.0]\n",
      "ic| entropy_v: 0.6730116670092565\n",
      "ic| sub_spliter_1: [1, 1]\n",
      "ic| probs: [1.0]\n",
      "ic| sub_spliter_2: [1, 1, 0, 0, 0]\n",
      "ic| probs: [0.6, 0.4]\n",
      "ic| entropy_v: 0.6730116670092565\n",
      "ic| sub_spliter_1: [1, 1, 0, 0, 0]\n",
      "ic| probs: [0.6, 0.4]\n",
      "ic| sub_spliter_2: [1, 1]\n",
      "ic| probs: [1.0]\n",
      "ic| entropy_v: 0.6730116670092565\n",
      "ic| sub_spliter_1: [1, 1]\n",
      "ic| probs: [1.0]\n",
      "ic| sub_spliter_2: [1, 1, 0, 0, 0]\n",
      "ic| probs: [0.6, 0.4]\n",
      "ic| entropy_v: 0.6730116670092565\n",
      "ic| sub_spliter_1: [1, 1, 0]\n",
      "ic|"
     ]
    },
    {
     "name": "stdout",
     "output_type": "stream",
     "text": [
      "{'+10', '-10'}\n",
      "{1, 2}\n",
      "spliter is: ('family_number', 2)\n",
      "the min entropy is: 0.6730116670092565\n",
      "  gender income  family_number  bought\n",
      "0      F    +10              1       1\n",
      "1      F    -10              1       1\n",
      "3      F    +10              1       0\n",
      "4      M    +10              1       0\n",
      "5      M    +10              1       0\n",
      "{'F', 'M'}\n"
     ]
    },
    {
     "name": "stderr",
     "output_type": "stream",
     "text": [
      " probs: [0.3333333333333333, 0.6666666666666666]\n",
      "ic| sub_spliter_2: [0, 0]\n",
      "ic| probs: [1.0]\n",
      "ic| entropy_v: 0.6365141682948128\n",
      "ic| sub_spliter_1: [0, 0]\n",
      "ic| probs: [1.0]\n",
      "ic| sub_spliter_2: [1, 1, 0]\n",
      "ic| probs: [0.3333333333333333, 0.6666666666666666]\n",
      "ic| entropy_v: 0.6365141682948128\n",
      "ic| sub_spliter_1: [1, 0, 0, 0]\n",
      "ic| probs: [0.75, 0.25]\n",
      "ic| sub_spliter_2: [1]\n",
      "ic| probs: [1.0]\n",
      "ic| entropy_v: 0.5623351446188083\n",
      "ic| sub_spliter_1: [1]\n",
      "ic| probs: [1.0]\n",
      "ic| sub_spliter_2: [1, 0, 0, 0]\n",
      "ic| probs: [0.75, 0.25]\n",
      "ic| entropy_v: 0.5623351446188083\n",
      "ic| sub_spliter_1: [1, 0]\n",
      "ic| probs: [0.5, 0.5]\n"
     ]
    },
    {
     "name": "stdout",
     "output_type": "stream",
     "text": [
      "{'+10', '-10'}\n",
      "spliter is: ('income', '-10')\n",
      "the min entropy is: 0.5623351446188083\n",
      "  gender income  bought\n",
      "0      F    +10       1\n",
      "3      F    +10       0\n",
      "4      M    +10       0\n",
      "5      M    +10       0\n",
      "{'F', 'M'}\n"
     ]
    },
    {
     "name": "stderr",
     "output_type": "stream",
     "text": [
      "ic| sub_spliter_2: [0, 0]\n",
      "ic| probs: [1.0]\n",
      "ic| entropy_v: 0.6931471805599453\n",
      "ic| sub_spliter_1: [0, 0]\n",
      "ic| probs: [1.0]\n",
      "ic| sub_spliter_2: [1, 0]\n",
      "ic| probs: [0.5, 0.5]\n",
      "ic| entropy_v: 0.6931471805599453\n"
     ]
    },
    {
     "name": "stdout",
     "output_type": "stream",
     "text": [
      "spliter is: ('gender', 'M')\n",
      "the min entropy is: 0.6931471805599453\n",
      "  gender  bought\n",
      "0      F       1\n",
      "3      F       0\n",
      "划分如下：\n",
      "第(1)次，为(('family_number', 2))\n",
      "第(2)次，为(('income', '-10'))\n",
      "第(3)次，为(('gender', 'M'))\n"
     ]
    },
    {
     "data": {
      "text/plain": [
       "{'family_number': 2, 'income': '-10', 'gender': 'M'}"
      ]
     },
     "execution_count": 99,
     "metadata": {},
     "output_type": "execute_result"
    }
   ],
   "source": [
    "get_tree(train_data=dataset, target='bought')"
   ]
  },
  {
   "cell_type": "markdown",
   "metadata": {},
   "source": [
    "# 4. Finish the K-Means using 2-D matplotlib (8 points)"
   ]
  },
  {
   "cell_type": "markdown",
   "metadata": {},
   "source": [
    "<评阅点>\n",
    "> + 是否完成了KMeans模型，基于scikit-learning (3')\n",
    "+ 是否完成了可视化任务（5'）"
   ]
  },
  {
   "cell_type": "code",
   "execution_count": 159,
   "metadata": {},
   "outputs": [],
   "source": [
    "from sklearn.cluster import KMeans"
   ]
  },
  {
   "cell_type": "code",
   "execution_count": 169,
   "metadata": {},
   "outputs": [],
   "source": [
    "x_test_random = random.randint(0, 10)"
   ]
  },
  {
   "cell_type": "code",
   "execution_count": 170,
   "metadata": {},
   "outputs": [
    {
     "data": {
      "text/plain": [
       "5"
      ]
     },
     "execution_count": 170,
     "metadata": {},
     "output_type": "execute_result"
    }
   ],
   "source": [
    "x_test_random"
   ]
  },
  {
   "cell_type": "code",
   "execution_count": 176,
   "metadata": {},
   "outputs": [],
   "source": [
    "X1 = [random.randint(0, 100) for _ in range(100)]\n",
    "X2 = [random.randint(0, 100) for _ in range(100)]"
   ]
  },
  {
   "cell_type": "code",
   "execution_count": 177,
   "metadata": {
    "scrolled": true
   },
   "outputs": [
    {
     "data": {
      "text/plain": [
       "[100,\n",
       " 21,\n",
       " 72,\n",
       " 20,\n",
       " 96,\n",
       " 94,\n",
       " 20,\n",
       " 15,\n",
       " 24,\n",
       " 48,\n",
       " 31,\n",
       " 23,\n",
       " 36,\n",
       " 17,\n",
       " 66,\n",
       " 26,\n",
       " 47,\n",
       " 41,\n",
       " 46,\n",
       " 89,\n",
       " 98,\n",
       " 7,\n",
       " 94,\n",
       " 64,\n",
       " 13,\n",
       " 92,\n",
       " 71,\n",
       " 44,\n",
       " 6,\n",
       " 28,\n",
       " 57,\n",
       " 31,\n",
       " 92,\n",
       " 90,\n",
       " 46,\n",
       " 0,\n",
       " 17,\n",
       " 68,\n",
       " 41,\n",
       " 2,\n",
       " 48,\n",
       " 80,\n",
       " 35,\n",
       " 53,\n",
       " 53,\n",
       " 83,\n",
       " 0,\n",
       " 54,\n",
       " 16,\n",
       " 21,\n",
       " 40,\n",
       " 7,\n",
       " 48,\n",
       " 18,\n",
       " 81,\n",
       " 27,\n",
       " 4,\n",
       " 30,\n",
       " 20,\n",
       " 59,\n",
       " 97,\n",
       " 21,\n",
       " 9,\n",
       " 76,\n",
       " 41,\n",
       " 37,\n",
       " 71,\n",
       " 45,\n",
       " 34,\n",
       " 22,\n",
       " 97,\n",
       " 0,\n",
       " 83,\n",
       " 24,\n",
       " 4,\n",
       " 54,\n",
       " 59,\n",
       " 44,\n",
       " 57,\n",
       " 94,\n",
       " 25,\n",
       " 52,\n",
       " 71,\n",
       " 43,\n",
       " 54,\n",
       " 50,\n",
       " 98,\n",
       " 27,\n",
       " 50,\n",
       " 86,\n",
       " 24,\n",
       " 49,\n",
       " 0,\n",
       " 38,\n",
       " 7,\n",
       " 11,\n",
       " 40,\n",
       " 40,\n",
       " 0,\n",
       " 10]"
      ]
     },
     "execution_count": 177,
     "metadata": {},
     "output_type": "execute_result"
    }
   ],
   "source": [
    "X1"
   ]
  },
  {
   "cell_type": "code",
   "execution_count": 178,
   "metadata": {},
   "outputs": [
    {
     "data": {
      "text/plain": [
       "<matplotlib.collections.PathCollection at 0x1a21eae208>"
      ]
     },
     "execution_count": 178,
     "metadata": {},
     "output_type": "execute_result"
    },
    {
     "data": {
      "image/png": "[encoded data removed]",
      "text/plain": [
       "<Figure size 432x288 with 1 Axes>"
      ]
     },
     "metadata": {
      "needs_background": "light"
     },
     "output_type": "display_data"
    }
   ],
   "source": [
    "# 画出散点图\n",
    "plt.scatter(x1, x2)"
   ]
  },
  {
   "cell_type": "code",
   "execution_count": 179,
   "metadata": {},
   "outputs": [],
   "source": [
    "train_data = [[x1, x2] for x1, x2 in zip(X1, X2)]"
   ]
  },
  {
   "cell_type": "code",
   "execution_count": 180,
   "metadata": {
    "scrolled": true
   },
   "outputs": [
    {
     "data": {
      "text/plain": [
       "[[100, 39],\n",
       " [21, 77],\n",
       " [72, 38],\n",
       " [20, 42],\n",
       " [96, 75],\n",
       " [94, 31],\n",
       " [20, 32],\n",
       " [15, 58],\n",
       " [24, 55],\n",
       " [48, 40],\n",
       " [31, 60],\n",
       " [23, 93],\n",
       " [36, 23],\n",
       " [17, 89],\n",
       " [66, 98],\n",
       " [26, 22],\n",
       " [47, 47],\n",
       " [41, 73],\n",
       " [46, 45],\n",
       " [89, 18],\n",
       " [98, 49],\n",
       " [7, 1],\n",
       " [94, 51],\n",
       " [64, 30],\n",
       " [13, 50],\n",
       " [92, 58],\n",
       " [71, 15],\n",
       " [44, 19],\n",
       " [6, 26],\n",
       " [28, 39],\n",
       " [57, 29],\n",
       " [31, 99],\n",
       " [92, 2],\n",
       " [90, 33],\n",
       " [46, 50],\n",
       " [0, 16],\n",
       " [17, 35],\n",
       " [68, 68],\n",
       " [41, 69],\n",
       " [2, 84],\n",
       " [48, 8],\n",
       " [80, 20],\n",
       " [35, 59],\n",
       " [53, 28],\n",
       " [53, 35],\n",
       " [83, 68],\n",
       " [0, 61],\n",
       " [54, 30],\n",
       " [16, 74],\n",
       " [21, 62],\n",
       " [40, 43],\n",
       " [7, 9],\n",
       " [48, 87],\n",
       " [18, 25],\n",
       " [81, 2],\n",
       " [27, 25],\n",
       " [4, 3],\n",
       " [30, 81],\n",
       " [20, 96],\n",
       " [59, 9],\n",
       " [97, 22],\n",
       " [21, 94],\n",
       " [9, 46],\n",
       " [76, 64],\n",
       " [41, 11],\n",
       " [37, 21],\n",
       " [71, 90],\n",
       " [45, 26],\n",
       " [34, 68],\n",
       " [22, 30],\n",
       " [97, 71],\n",
       " [0, 88],\n",
       " [83, 100],\n",
       " [24, 15],\n",
       " [4, 64],\n",
       " [54, 45],\n",
       " [59, 47],\n",
       " [44, 97],\n",
       " [57, 12],\n",
       " [94, 40],\n",
       " [25, 100],\n",
       " [52, 22],\n",
       " [71, 46],\n",
       " [43, 6],\n",
       " [54, 19],\n",
       " [50, 35],\n",
       " [98, 34],\n",
       " [27, 40],\n",
       " [50, 92],\n",
       " [86, 85],\n",
       " [24, 55],\n",
       " [49, 44],\n",
       " [0, 69],\n",
       " [38, 91],\n",
       " [7, 16],\n",
       " [11, 41],\n",
       " [40, 24],\n",
       " [40, 86],\n",
       " [0, 30],\n",
       " [10, 88]]"
      ]
     },
     "execution_count": 180,
     "metadata": {},
     "output_type": "execute_result"
    }
   ],
   "source": [
    "train_data"
   ]
  },
  {
   "cell_type": "code",
   "execution_count": 183,
   "metadata": {},
   "outputs": [],
   "source": [
    "cluster = KMeans(n_clusters=6, max_iter=500)"
   ]
  },
  {
   "cell_type": "code",
   "execution_count": 184,
   "metadata": {},
   "outputs": [
    {
     "data": {
      "text/plain": [
       "KMeans(algorithm='auto', copy_x=True, init='k-means++', max_iter=500,\n",
       "    n_clusters=6, n_init=10, n_jobs=None, precompute_distances='auto',\n",
       "    random_state=None, tol=0.0001, verbose=0)"
      ]
     },
     "execution_count": 184,
     "metadata": {},
     "output_type": "execute_result"
    }
   ],
   "source": [
    "cluster.fit(train_data)"
   ]
  },
  {
   "cell_type": "code",
   "execution_count": 185,
   "metadata": {},
   "outputs": [
    {
     "data": {
      "text/plain": [
       "array([[49.07692308, 28.76923077],\n",
       "       [27.6       , 86.3       ],\n",
       "       [81.8       , 77.7       ],\n",
       "       [17.46666667, 53.4       ],\n",
       "       [88.06666667, 29.33333333],\n",
       "       [13.21428571, 20.35714286]])"
      ]
     },
     "execution_count": 185,
     "metadata": {},
     "output_type": "execute_result"
    }
   ],
   "source": [
    "cluster.cluster_centers_"
   ]
  },
  {
   "cell_type": "code",
   "execution_count": 186,
   "metadata": {},
   "outputs": [
    {
     "data": {
      "text/plain": [
       "array([4, 1, 4, 3, 2, 4, 5, 3, 3, 0, 3, 1, 0, 1, 2, 5, 0, 1, 0, 4, 4, 5,\n",
       "       4, 0, 3, 2, 4, 0, 5, 3, 0, 1, 4, 4, 0, 5, 5, 2, 1, 1, 0, 4, 3, 0,\n",
       "       0, 2, 3, 0, 1, 3, 0, 5, 1, 5, 4, 5, 5, 1, 1, 0, 4, 1, 3, 2, 0, 0,\n",
       "       2, 0, 1, 5, 2, 1, 2, 5, 3, 0, 0, 1, 0, 4, 1, 0, 4, 0, 0, 0, 4, 3,\n",
       "       1, 2, 3, 0, 3, 1, 5, 3, 0, 1, 5, 1], dtype=int32)"
      ]
     },
     "execution_count": 186,
     "metadata": {},
     "output_type": "execute_result"
    }
   ],
   "source": [
    "cluster.labels_"
   ]
  },
  {
   "cell_type": "code",
   "execution_count": 187,
   "metadata": {},
   "outputs": [],
   "source": [
    "from collections import defaultdict"
   ]
  },
  {
   "cell_type": "code",
   "execution_count": 188,
   "metadata": {},
   "outputs": [],
   "source": [
    "centers = defaultdict(list)"
   ]
  },
  {
   "cell_type": "code",
   "execution_count": 192,
   "metadata": {},
   "outputs": [],
   "source": [
    "for label, location in zip(cluster.labels_, train_data):\n",
    "    centers[label].append(location)\n",
    "# print(centers)"
   ]
  },
  {
   "cell_type": "code",
   "execution_count": 193,
   "metadata": {},
   "outputs": [
    {
     "data": {
      "text/plain": [
       "defaultdict(list,\n",
       "            {4: [[100, 39],\n",
       "              [72, 38],\n",
       "              [94, 31],\n",
       "              [89, 18],\n",
       "              [98, 49],\n",
       "              [94, 51],\n",
       "              [71, 15],\n",
       "              [92, 2],\n",
       "              [90, 33],\n",
       "              [80, 20],\n",
       "              [81, 2],\n",
       "              [97, 22],\n",
       "              [94, 40],\n",
       "              [71, 46],\n",
       "              [98, 34],\n",
       "              [100, 39],\n",
       "              [72, 38],\n",
       "              [94, 31],\n",
       "              [89, 18],\n",
       "              [98, 49],\n",
       "              [94, 51],\n",
       "              [71, 15],\n",
       "              [92, 2],\n",
       "              [90, 33],\n",
       "              [80, 20],\n",
       "              [81, 2],\n",
       "              [97, 22],\n",
       "              [94, 40],\n",
       "              [71, 46],\n",
       "              [98, 34],\n",
       "              [100, 39],\n",
       "              [72, 38],\n",
       "              [94, 31],\n",
       "              [89, 18],\n",
       "              [98, 49],\n",
       "              [94, 51],\n",
       "              [71, 15],\n",
       "              [92, 2],\n",
       "              [90, 33],\n",
       "              [80, 20],\n",
       "              [81, 2],\n",
       "              [97, 22],\n",
       "              [94, 40],\n",
       "              [71, 46],\n",
       "              [98, 34]],\n",
       "             1: [[21, 77],\n",
       "              [23, 93],\n",
       "              [17, 89],\n",
       "              [41, 73],\n",
       "              [31, 99],\n",
       "              [41, 69],\n",
       "              [2, 84],\n",
       "              [16, 74],\n",
       "              [48, 87],\n",
       "              [30, 81],\n",
       "              [20, 96],\n",
       "              [21, 94],\n",
       "              [34, 68],\n",
       "              [0, 88],\n",
       "              [44, 97],\n",
       "              [25, 100],\n",
       "              [50, 92],\n",
       "              [38, 91],\n",
       "              [40, 86],\n",
       "              [10, 88],\n",
       "              [21, 77],\n",
       "              [23, 93],\n",
       "              [17, 89],\n",
       "              [41, 73],\n",
       "              [31, 99],\n",
       "              [41, 69],\n",
       "              [2, 84],\n",
       "              [16, 74],\n",
       "              [48, 87],\n",
       "              [30, 81],\n",
       "              [20, 96],\n",
       "              [21, 94],\n",
       "              [34, 68],\n",
       "              [0, 88],\n",
       "              [44, 97],\n",
       "              [25, 100],\n",
       "              [50, 92],\n",
       "              [38, 91],\n",
       "              [40, 86],\n",
       "              [10, 88],\n",
       "              [21, 77],\n",
       "              [23, 93],\n",
       "              [17, 89],\n",
       "              [41, 73],\n",
       "              [31, 99],\n",
       "              [41, 69],\n",
       "              [2, 84],\n",
       "              [16, 74],\n",
       "              [48, 87],\n",
       "              [30, 81],\n",
       "              [20, 96],\n",
       "              [21, 94],\n",
       "              [34, 68],\n",
       "              [0, 88],\n",
       "              [44, 97],\n",
       "              [25, 100],\n",
       "              [50, 92],\n",
       "              [38, 91],\n",
       "              [40, 86],\n",
       "              [10, 88]],\n",
       "             3: [[20, 42],\n",
       "              [15, 58],\n",
       "              [24, 55],\n",
       "              [31, 60],\n",
       "              [13, 50],\n",
       "              [28, 39],\n",
       "              [35, 59],\n",
       "              [0, 61],\n",
       "              [21, 62],\n",
       "              [9, 46],\n",
       "              [4, 64],\n",
       "              [27, 40],\n",
       "              [24, 55],\n",
       "              [0, 69],\n",
       "              [11, 41],\n",
       "              [20, 42],\n",
       "              [15, 58],\n",
       "              [24, 55],\n",
       "              [31, 60],\n",
       "              [13, 50],\n",
       "              [28, 39],\n",
       "              [35, 59],\n",
       "              [0, 61],\n",
       "              [21, 62],\n",
       "              [9, 46],\n",
       "              [4, 64],\n",
       "              [27, 40],\n",
       "              [24, 55],\n",
       "              [0, 69],\n",
       "              [11, 41],\n",
       "              [20, 42],\n",
       "              [15, 58],\n",
       "              [24, 55],\n",
       "              [31, 60],\n",
       "              [13, 50],\n",
       "              [28, 39],\n",
       "              [35, 59],\n",
       "              [0, 61],\n",
       "              [21, 62],\n",
       "              [9, 46],\n",
       "              [4, 64],\n",
       "              [27, 40],\n",
       "              [24, 55],\n",
       "              [0, 69],\n",
       "              [11, 41]],\n",
       "             2: [[96, 75],\n",
       "              [66, 98],\n",
       "              [92, 58],\n",
       "              [68, 68],\n",
       "              [83, 68],\n",
       "              [76, 64],\n",
       "              [71, 90],\n",
       "              [97, 71],\n",
       "              [83, 100],\n",
       "              [86, 85],\n",
       "              [96, 75],\n",
       "              [66, 98],\n",
       "              [92, 58],\n",
       "              [68, 68],\n",
       "              [83, 68],\n",
       "              [76, 64],\n",
       "              [71, 90],\n",
       "              [97, 71],\n",
       "              [83, 100],\n",
       "              [86, 85],\n",
       "              [96, 75],\n",
       "              [66, 98],\n",
       "              [92, 58],\n",
       "              [68, 68],\n",
       "              [83, 68],\n",
       "              [76, 64],\n",
       "              [71, 90],\n",
       "              [97, 71],\n",
       "              [83, 100],\n",
       "              [86, 85]],\n",
       "             5: [[20, 32],\n",
       "              [26, 22],\n",
       "              [7, 1],\n",
       "              [6, 26],\n",
       "              [0, 16],\n",
       "              [17, 35],\n",
       "              [7, 9],\n",
       "              [18, 25],\n",
       "              [27, 25],\n",
       "              [4, 3],\n",
       "              [22, 30],\n",
       "              [24, 15],\n",
       "              [7, 16],\n",
       "              [0, 30],\n",
       "              [20, 32],\n",
       "              [26, 22],\n",
       "              [7, 1],\n",
       "              [6, 26],\n",
       "              [0, 16],\n",
       "              [17, 35],\n",
       "              [7, 9],\n",
       "              [18, 25],\n",
       "              [27, 25],\n",
       "              [4, 3],\n",
       "              [22, 30],\n",
       "              [24, 15],\n",
       "              [7, 16],\n",
       "              [0, 30],\n",
       "              [20, 32],\n",
       "              [26, 22],\n",
       "              [7, 1],\n",
       "              [6, 26],\n",
       "              [0, 16],\n",
       "              [17, 35],\n",
       "              [7, 9],\n",
       "              [18, 25],\n",
       "              [27, 25],\n",
       "              [4, 3],\n",
       "              [22, 30],\n",
       "              [24, 15],\n",
       "              [7, 16],\n",
       "              [0, 30]],\n",
       "             0: [[48, 40],\n",
       "              [36, 23],\n",
       "              [47, 47],\n",
       "              [46, 45],\n",
       "              [64, 30],\n",
       "              [44, 19],\n",
       "              [57, 29],\n",
       "              [46, 50],\n",
       "              [48, 8],\n",
       "              [53, 28],\n",
       "              [53, 35],\n",
       "              [54, 30],\n",
       "              [40, 43],\n",
       "              [59, 9],\n",
       "              [41, 11],\n",
       "              [37, 21],\n",
       "              [45, 26],\n",
       "              [54, 45],\n",
       "              [59, 47],\n",
       "              [57, 12],\n",
       "              [52, 22],\n",
       "              [43, 6],\n",
       "              [54, 19],\n",
       "              [50, 35],\n",
       "              [49, 44],\n",
       "              [40, 24],\n",
       "              [48, 40],\n",
       "              [36, 23],\n",
       "              [47, 47],\n",
       "              [46, 45],\n",
       "              [64, 30],\n",
       "              [44, 19],\n",
       "              [57, 29],\n",
       "              [46, 50],\n",
       "              [48, 8],\n",
       "              [53, 28],\n",
       "              [53, 35],\n",
       "              [54, 30],\n",
       "              [40, 43],\n",
       "              [59, 9],\n",
       "              [41, 11],\n",
       "              [37, 21],\n",
       "              [45, 26],\n",
       "              [54, 45],\n",
       "              [59, 47],\n",
       "              [57, 12],\n",
       "              [52, 22],\n",
       "              [43, 6],\n",
       "              [54, 19],\n",
       "              [50, 35],\n",
       "              [49, 44],\n",
       "              [40, 24],\n",
       "              [48, 40],\n",
       "              [36, 23],\n",
       "              [47, 47],\n",
       "              [46, 45],\n",
       "              [64, 30],\n",
       "              [44, 19],\n",
       "              [57, 29],\n",
       "              [46, 50],\n",
       "              [48, 8],\n",
       "              [53, 28],\n",
       "              [53, 35],\n",
       "              [54, 30],\n",
       "              [40, 43],\n",
       "              [59, 9],\n",
       "              [41, 11],\n",
       "              [37, 21],\n",
       "              [45, 26],\n",
       "              [54, 45],\n",
       "              [59, 47],\n",
       "              [57, 12],\n",
       "              [52, 22],\n",
       "              [43, 6],\n",
       "              [54, 19],\n",
       "              [50, 35],\n",
       "              [49, 44],\n",
       "              [40, 24]]})"
      ]
     },
     "execution_count": 193,
     "metadata": {},
     "output_type": "execute_result"
    }
   ],
   "source": [
    "centers"
   ]
  },
  {
   "cell_type": "code",
   "execution_count": 194,
   "metadata": {},
   "outputs": [],
   "source": [
    "color = ['red', 'green', 'grey', 'black', 'yellow', 'orange']"
   ]
  },
  {
   "cell_type": "code",
   "execution_count": 195,
   "metadata": {},
   "outputs": [
    {
     "data": {
      "image/png": "[encoded data removed]",
      "text/plain": [
       "<Figure size 432x288 with 1 Axes>"
      ]
     },
     "metadata": {
      "needs_background": "light"
     },
     "output_type": "display_data"
    }
   ],
   "source": [
    "for i, c in enumerate(centers):\n",
    "    for location in centers[c]:\n",
    "        plt.scatter(*location, c = color[i]) "
   ]
  },
  {
   "cell_type": "code",
   "execution_count": 198,
   "metadata": {},
   "outputs": [
    {
     "data": {
      "image/png": "[encoded data removed]",
      "text/plain": [
       "<Figure size 432x288 with 1 Axes>"
      ]
     },
     "metadata": {
      "needs_background": "light"
     },
     "output_type": "display_data"
    }
   ],
   "source": [
    "for center in cluster.cluster_centers_:\n",
    "    plt.scatter(*center, s=200)"
   ]
  },
  {
   "cell_type": "code",
   "execution_count": 197,
   "metadata": {},
   "outputs": [
    {
     "data": {
      "image/png": "[encoded data removed]",
      "text/plain": [
       "<Figure size 432x288 with 1 Axes>"
      ]
     },
     "metadata": {
      "needs_background": "light"
     },
     "output_type": "display_data"
    }
   ],
   "source": [
    "for i, c in enumerate(centers):\n",
    "    for location in centers[c]:\n",
    "        plt.scatter(*location, c = color[i]) \n",
    "for center in cluster.cluster_centers_:\n",
    "    plt.scatter(*center, s=100)        "
   ]
  },
  {
   "cell_type": "code",
   "execution_count": 202,
   "metadata": {},
   "outputs": [],
   "source": [
    "# Kmeans距离计算， 就是求解两点之间的距离\n",
    "def distance():\n",
    "    return np.sqrt(x1, x2) ** 2 + (y1 - y2) ** 2"
   ]
  }
 ],
 "metadata": {
  "kernelspec": {
   "display_name": "Python 3",
   "language": "python",
   "name": "python3"
  },
  "language_info": {
   "codemirror_mode": {
    "name": "ipython",
    "version": 3
   },
   "file_extension": ".py",
   "mimetype": "text/x-python",
   "name": "python",
   "nbconvert_exporter": "python",
   "pygments_lexer": "ipython3",
   "version": "3.7.3"
  }
 },
 "nbformat": 4,
 "nbformat_minor": 2
}
