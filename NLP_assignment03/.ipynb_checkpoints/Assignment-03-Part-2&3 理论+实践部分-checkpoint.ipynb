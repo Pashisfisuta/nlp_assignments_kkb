{
 "cells": [
  {
   "cell_type": "markdown",
   "metadata": {},
   "source": [
    "# Assignment-03 First Step of Machine Learning: Model and Evaluation"
   ]
  },
  {
   "cell_type": "markdown",
   "metadata": {},
   "source": [
    "# Part-2 Question and Answer 问答"
   ]
  },
  {
   "cell_type": "markdown",
   "metadata": {},
   "source": [
    "#### 1. What's the *model*? why  all the models are wrong, but some are useful? (5 points) "
   ]
  },
  {
   "cell_type": "markdown",
   "metadata": {},
   "source": [
    "Ans: \n",
    "##### What's the *model*? \n",
    "1. 本质上是一个函数，实现从样本x到标签y的映射\n",
    "2. 解决问题的一种人为构造的方法，不同类型的问题可以定义不同的模型\n",
    "3. 一般基于假设的前提，然后通过数据不断更新参数\n",
    "* 参考网址: <https://www.zhihu.com/question/285520177>\n",
    "\n",
    "##### why  all the models are wrong, but some are useful?\n",
    "1. 此话来自于George E. P. Box\n",
    "2. 受影响的features很多，但是往往我们考虑的点都很片面\n",
    "3. 唯一正确的模型是现实本身\n",
    "* 参考网址：<https://www.zhihu.com/question/35786261>"
   ]
  },
  {
   "cell_type": "markdown",
   "metadata": {},
   "source": [
    "<评阅点>\n",
    "> + 对模型的理解是否正确,对模型的抽象性是否正确(5')"
   ]
  },
  {
   "cell_type": "markdown",
   "metadata": {},
   "source": [
    "#### 2. What's the underfitting and overfitting? List the reasons that could make model overfitting or underfitting. (10 points)"
   ]
  },
  {
   "cell_type": "markdown",
   "metadata": {},
   "source": [
    "Ans:\n",
    "\n",
    "*过拟合：*特征纬度过多，或者模型过于复杂，训练迭代次数过多，导致的模型过度学习，拟合的函数完美的经过训练集，但是对新数据的预测结果则较差。\n",
    "*欠拟合：*特征纬度过少，或者模型训练次数太少，导致模型没有很好的学习，模型泛化效果不好，拟合的函数无法满足训练集，误差较大。"
   ]
  },
  {
   "cell_type": "markdown",
   "metadata": {},
   "source": [
    "<评阅点>\n",
    "> + 对过拟合和欠拟合的理解是否正确 (3')\n",
    "+ 对欠拟合产生的原因是否理解正确(2')\n",
    "+ 对过拟合产生的原因是否理解正确(5')"
   ]
  },
  {
   "cell_type": "markdown",
   "metadata": {},
   "source": [
    "#### 3. What's the precision, recall, AUC, F1, F2score. What are they mainly target on? (12')"
   ]
  },
  {
   "cell_type": "markdown",
   "metadata": {},
   "source": [
    "Ans:\n",
    "```\n",
    "真正例（True Positive，TP）：真实类别为正例，预测类别为正例。\n",
    "假正例（False Positive，FP）：真实类别为负例，预测类别为正例。\n",
    "假负例（False Negative，FN）：真实类别为正例，预测类别为负例。\n",
    "真负例（True Negative，TN）：真实类别为负例，预测类别为负例。\n",
    "```\n",
    "**precision:** 预测正确的正例数据占预测为正例数据的比例, 看重预测正样本预测的准确度\n",
    "$$ P=\\frac{TP}{TP+FP}$$ \n",
    "\n",
    "**recall:** 预测为正例的数据占实际为正例数据的比例, 看重真实为正样本被正确预测的比例\n",
    "\n",
    "$$ R=\\frac{TP}{TP+FN} $$  \n",
    "**AUC:** Area Under roc Curve，就是ROC曲线的积分，也是ROC曲线下面的面积。一般用于分类问题的评估。\n",
    "\n",
    "\n",
    "**F1:** F1的核心思想在于，在尽可能地提高精确度(Precision)和召回率(Recall)的同时，也希望两者之间的差异尽可能的小。\n",
    "\n",
    "$$ F1 = \\frac{2*precision*recall}{precision + recall} $$\n",
    "\n",
    "\n",
    "\n",
    "**Fi:**\n",
    "    $$ F_i = (1+i)^2 * \\frac{P*R}{i^2*P + R} $$"
   ]
  },
  {
   "cell_type": "markdown",
   "metadata": {},
   "source": [
    "* 参考网址：<https://www.zhihu.com/question/30643044>"
   ]
  },
  {
   "cell_type": "markdown",
   "metadata": {},
   "source": [
    "<评阅点>\n",
    "> + 对precision, recall, AUC, F1, F2 理解是否正确(6‘)\n",
    "+ 对precision, recall, AUC, F1, F2的使用侧重点是否理解正确 (6’)"
   ]
  },
  {
   "cell_type": "markdown",
   "metadata": {},
   "source": [
    "#### 4. Based on our course and yourself mind, what's the machine learning?  (8')"
   ]
  },
  {
   "cell_type": "markdown",
   "metadata": {},
   "source": [
    "Ans:\n",
    "\n",
    "1. 机器学习，是让机器学会人的思维，给其数据、特征，让机器学会人“识别事物的方法”。\n",
    "2. 机器学习就是模仿人识别事物的过程，即：学习、提取特征、识别、分类。\n",
    "3. 不同于分析式编程，传统的分析式编程，是对数据进行编程，人为的选取合适的模型方法，进行编程。"
   ]
  },
  {
   "cell_type": "markdown",
   "metadata": {},
   "source": [
    "<评阅点> 开放式问题，是否能说出来机器学习这种思维方式和传统的分析式编程的区别（8'）"
   ]
  },
  {
   "cell_type": "markdown",
   "metadata": {},
   "source": [
    "#### 5. \"正确定义了机器学习模型的评价标准(evaluation)， 问题基本上就已经解决一半\". 这句话是否正确？你是怎么看待的？ (8‘)"
   ]
  },
  {
   "cell_type": "markdown",
   "metadata": {},
   "source": [
    "我觉得正确。针对不同的问题，有对应的衡量评价指标，选择正确合适的评估指标，有利于对于结果的观察，评估，从而做进一步改进优化。如果选取的不对，可能会导致后续评估观察等产生问题，不利于做进一步的改进"
   ]
  },
  {
   "cell_type": "markdown",
   "metadata": {},
   "source": [
    "<评阅点> 开放式问题，主要看能理解评价指标对机器学习模型的重要性."
   ]
  },
  {
   "cell_type": "markdown",
   "metadata": {},
   "source": [
    "# Part-03 Programming Practice 编程练习"
   ]
  },
  {
   "cell_type": "markdown",
   "metadata": {},
   "source": [
    "### 1. In our course and previous practice, we complete some importance components of Decision Tree. In this problem, you need to build a **completed** Decision Tree Model. You show finish a `predicate()` function, which accepts three parameters **<gender, income, family_number>**, and outputs the predicated 'bought': 1 or 0.  (20 points)"
   ]
  },
  {
   "cell_type": "code",
   "execution_count": 35,
   "metadata": {},
   "outputs": [],
   "source": [
    "import pandas as pd"
   ]
  },
  {
   "cell_type": "code",
   "execution_count": 36,
   "metadata": {},
   "outputs": [],
   "source": [
    "from icecream import ic"
   ]
  },
  {
   "cell_type": "code",
   "execution_count": 37,
   "metadata": {},
   "outputs": [],
   "source": [
    "import numpy as np"
   ]
  },
  {
   "cell_type": "code",
   "execution_count": 38,
   "metadata": {},
   "outputs": [],
   "source": [
    "from collections import Counter"
   ]
  },
  {
   "cell_type": "code",
   "execution_count": 39,
   "metadata": {},
   "outputs": [],
   "source": [
    "def entropy(elements_list):\n",
    "    length = len(elements_list)\n",
    "    counter = Counter(elements_list)\n",
    "    probs = [counter[c] / length for c in set(elements_list)]\n",
    "#     print(probs)\n",
    "    ic(probs)\n",
    "    # 不写底数时默认以e为底\n",
    "    return -sum(p * np.log(p) for p in probs)"
   ]
  },
  {
   "cell_type": "code",
   "execution_count": 52,
   "metadata": {},
   "outputs": [],
   "source": [
    "mock_data = {\n",
    "    'gender':['F', 'F', 'F', 'F', 'M', 'M', 'M'],\n",
    "    'income': ['+10', '-10', '+10', '+10', '+10', '+10', '-10'],\n",
    "    'family_number': [1, 1, 2, 1, 1, 1, 2],\n",
    "    'bought': [1, 1, 1, 0, 0, 0, 1],\n",
    "}\n",
    "dataset = pd.DataFrame.from_dict(mock_data)"
   ]
  },
  {
   "cell_type": "code",
   "execution_count": 53,
   "metadata": {},
   "outputs": [
    {
     "data": {
      "text/html": [
       "<div>\n",
       "<style scoped>\n",
       "    .dataframe tbody tr th:only-of-type {\n",
       "        vertical-align: middle;\n",
       "    }\n",
       "\n",
       "    .dataframe tbody tr th {\n",
       "        vertical-align: top;\n",
       "    }\n",
       "\n",
       "    .dataframe thead th {\n",
       "        text-align: right;\n",
       "    }\n",
       "</style>\n",
       "<table border=\"1\" class=\"dataframe\">\n",
       "  <thead>\n",
       "    <tr style=\"text-align: right;\">\n",
       "      <th></th>\n",
       "      <th>gender</th>\n",
       "      <th>income</th>\n",
       "      <th>family_number</th>\n",
       "      <th>bought</th>\n",
       "    </tr>\n",
       "  </thead>\n",
       "  <tbody>\n",
       "    <tr>\n",
       "      <th>0</th>\n",
       "      <td>F</td>\n",
       "      <td>+10</td>\n",
       "      <td>1</td>\n",
       "      <td>1</td>\n",
       "    </tr>\n",
       "    <tr>\n",
       "      <th>1</th>\n",
       "      <td>F</td>\n",
       "      <td>-10</td>\n",
       "      <td>1</td>\n",
       "      <td>1</td>\n",
       "    </tr>\n",
       "    <tr>\n",
       "      <th>2</th>\n",
       "      <td>F</td>\n",
       "      <td>+10</td>\n",
       "      <td>2</td>\n",
       "      <td>1</td>\n",
       "    </tr>\n",
       "    <tr>\n",
       "      <th>3</th>\n",
       "      <td>F</td>\n",
       "      <td>+10</td>\n",
       "      <td>1</td>\n",
       "      <td>0</td>\n",
       "    </tr>\n",
       "    <tr>\n",
       "      <th>4</th>\n",
       "      <td>M</td>\n",
       "      <td>+10</td>\n",
       "      <td>1</td>\n",
       "      <td>0</td>\n",
       "    </tr>\n",
       "    <tr>\n",
       "      <th>5</th>\n",
       "      <td>M</td>\n",
       "      <td>+10</td>\n",
       "      <td>1</td>\n",
       "      <td>0</td>\n",
       "    </tr>\n",
       "    <tr>\n",
       "      <th>6</th>\n",
       "      <td>M</td>\n",
       "      <td>-10</td>\n",
       "      <td>2</td>\n",
       "      <td>1</td>\n",
       "    </tr>\n",
       "  </tbody>\n",
       "</table>\n",
       "</div>"
      ],
      "text/plain": [
       "  gender income  family_number  bought\n",
       "0      F    +10              1       1\n",
       "1      F    -10              1       1\n",
       "2      F    +10              2       1\n",
       "3      F    +10              1       0\n",
       "4      M    +10              1       0\n",
       "5      M    +10              1       0\n",
       "6      M    -10              2       1"
      ]
     },
     "execution_count": 53,
     "metadata": {},
     "output_type": "execute_result"
    }
   ],
   "source": [
    "dataset"
   ]
  },
  {
   "cell_type": "code",
   "execution_count": 57,
   "metadata": {},
   "outputs": [],
   "source": [
    "def find_optimal_spilter(train_data: pd.DataFrame, target: str) -> str:\n",
    "    # set(train_data.columns.tolist()): {'family_number', 'income', 'gender', 'bought'}\n",
    "    x_fields = set(train_data.columns.tolist()) - {target}\n",
    "#     print(x_fields)\n",
    "    spliter = None\n",
    "    min_entropy = float('inf')\n",
    "    for f in x_fields:\n",
    "        \"\"\"\n",
    "            values:\n",
    "                {'M', 'F'}\n",
    "                {1, 2}\n",
    "                {'-10', '+10'}\n",
    "                {0, 1}\n",
    "        \"\"\"\n",
    "        values = set(train_data[f])\n",
    "        print(values)\n",
    "        for v in values:\n",
    "            sub_spliter_1 = train_data[train_data[f] == v][target].tolist()\n",
    "            ic(sub_spliter_1)\n",
    "            entropy_1 = entropy(sub_spliter_1)\n",
    "            \n",
    "            sub_spliter_2 = train_data[train_data[f] != v][target].tolist()\n",
    "            ic(sub_spliter_2)\n",
    "            entropy_2 = entropy(sub_spliter_2)\n",
    "            \n",
    "            entropy_v = entropy_1 + entropy_2\n",
    "            ic(entropy_v)\n",
    "            \n",
    "            if entropy_v <= min_entropy:\n",
    "                min_entropy = entropy_v\n",
    "                spliter = (f, v)\n",
    "    print('spliter is: {}'.format(spliter))\n",
    "    print('the min entropy is: {}'.format(min_entropy))    \n",
    "    return spliter, min_entropy             "
   ]
  },
  {
   "cell_type": "code",
   "execution_count": 58,
   "metadata": {},
   "outputs": [],
   "source": [
    "# 反复调用find_optimal_spilter， 获取整个完整决策树，存放进dict中\n",
    "def get_tree(train_data: pd.DataFrame, target: str):\n",
    "    tree = {}\n",
    "    while True:\n",
    "        # 寻找最优划分\n",
    "        (k, v), min_entropy = find_optimal_spilter(train_data=train_data, target=target)\n",
    "        tree[k] = v\n",
    "        if min_entropy == 0:\n",
    "            break\n",
    "        # 获取下一数据表\n",
    "        train_data = train_data[train_data[k] != v]\n",
    "        print(train_data)\n",
    "        train_data = train_data.drop([k],axis=1)\n",
    "        # 直到为0\n",
    "        if len(train_data.columns) == 1:\n",
    "            break\n",
    "        if train_data.shape[0] == 0:\n",
    "            break     \n",
    "    i = 0\n",
    "    print(\"划分如下：\")\n",
    "    for k,v in tree.items():\n",
    "        i += 1\n",
    "        print(\"第(%d)次，为(%s)\" %(i,(k,v)))    \n",
    "    return tree        "
   ]
  },
  {
   "cell_type": "code",
   "execution_count": 60,
   "metadata": {},
   "outputs": [
    {
     "name": "stderr",
     "output_type": "stream",
     "text": [
      "ic| sub_spliter_1: [1, 1, 0, 0, 0]\n",
      "ic| probs: [0.6, 0.4]\n",
      "ic| sub_spliter_2: [1, 1]\n",
      "ic| probs: [1.0]\n",
      "ic| entropy_v: 0.6730116670092565\n",
      "ic| sub_spliter_1: [1, 1]\n",
      "ic| probs: [1.0]\n",
      "ic"
     ]
    },
    {
     "name": "stdout",
     "output_type": "stream",
     "text": [
      "{1, 2}\n"
     ]
    },
    {
     "name": "stderr",
     "output_type": "stream",
     "text": [
      "| sub_spliter_2: [1, 1, 0, 0, 0]\n",
      "ic| probs: [0.6, 0.4]\n",
      "ic| entropy_v: 0.6730116670092565\n",
      "ic| sub_spliter_1: [1, 1]\n",
      "ic| probs: [1.0]\n",
      "ic| sub_spliter_2: [1, 1, 0, 0, 0]\n",
      "ic| probs: [0.6, 0.4]\n",
      "ic| entropy_v: 0.6730116670092565\n",
      "ic| sub_spliter_1: [1, 1, 0, 0, 0]\n",
      "ic| probs: [0.6, 0.4]\n",
      "ic| sub_spliter_2: [1, 1]\n",
      "ic| probs: [1.0]\n",
      "ic| entropy_v: 0.6730116670092565\n",
      "ic| sub_spliter_1: [1, 1, 1, 0]\n"
     ]
    },
    {
     "name": "stdout",
     "output_type": "stream",
     "text": [
      "{'-10', '+10'}\n",
      "{'F', 'M'}\n"
     ]
    },
    {
     "name": "stderr",
     "output_type": "stream",
     "text": [
      "ic| probs: [0.25, 0.75]\n",
      "ic| sub_spliter_2: [0, 0, 1]\n",
      "ic| probs: [0.6666666666666666, 0.3333333333333333]\n",
      "ic| entropy_v: 1.198849312913621\n",
      "ic| sub_spliter_1: [0, 0, 1]\n",
      "ic| probs: [0.6666666666666666, 0.3333333333333333]\n",
      "ic| sub_spliter_2: [1, 1, 1, 0]\n",
      "ic| probs: [0.25, 0.75]\n",
      "ic| entropy_v: 1.198849312913621\n",
      "ic| sub_spliter_1: [1]\n",
      "ic| probs: [1.0]\n",
      "ic| sub_spliter_2: [1]\n",
      "ic| probs: [1.0]\n",
      "ic| entropy_v: -0.0\n",
      "ic| sub_spliter_1: [1]\n",
      "ic| probs: [1.0]\n",
      "ic| sub_spliter_2: [1]\n",
      "ic| probs: [1.0]\n",
      "ic| entropy_v: -0.0\n",
      "ic| sub_spliter_1: [1]\n",
      "ic| probs: [1.0]\n",
      "ic| sub_spliter_2: [1]\n",
      "ic| probs: [1.0]\n"
     ]
    },
    {
     "name": "stdout",
     "output_type": "stream",
     "text": [
      "spliter is: ('income', '+10')\n",
      "the min entropy is: 0.6730116670092565\n",
      "  gender income  family_number  bought\n",
      "1      F    -10              1       1\n",
      "6      M    -10              2       1\n",
      "{1, 2}\n",
      "{'F', 'M'}\n"
     ]
    },
    {
     "name": "stderr",
     "output_type": "stream",
     "text": [
      "ic| entropy_v: -0.0\n",
      "ic| sub_spliter_1: [1]\n",
      "ic| probs: [1.0]\n",
      "ic| sub_spliter_2: [1]\n",
      "ic| probs: [1.0]\n",
      "ic| entropy_v: -0.0\n"
     ]
    },
    {
     "name": "stdout",
     "output_type": "stream",
     "text": [
      "spliter is: ('gender', 'M')\n",
      "the min entropy is: -0.0\n",
      "划分如下：\n",
      "第(1)次，为(('income', '+10'))\n",
      "第(2)次，为(('gender', 'M'))\n"
     ]
    }
   ],
   "source": [
    "decision_tree = get_tree(train_data=dataset, target='bought')"
   ]
  },
  {
   "cell_type": "code",
   "execution_count": 76,
   "metadata": {},
   "outputs": [],
   "source": [
    "def predicate(gender, income, family_number):\n",
    "    decisiontree = get_tree(train_data=dataset, target='bought')\n",
    "    bought = 0\n",
    "    data_list = [gender, income, family_number]\n",
    "#     data_list.append(gender)\n",
    "\n",
    "    for k in decisiontree:\n",
    "        print(k)\n",
    "        if decisiontree[k] in data_list:\n",
    "            bought = 1\n",
    "            break\n",
    "    if bought == 0:\n",
    "        print(str(data_list), \"会购买, bought==0\")\n",
    "    else:\n",
    "        print(str(data_list), \"不会购买, bought==1\")\n",
    "\n",
    "    return bought"
   ]
  },
  {
   "cell_type": "code",
   "execution_count": 77,
   "metadata": {},
   "outputs": [
    {
     "name": "stderr",
     "output_type": "stream",
     "text": [
      "ic| sub_spliter_1: [1, 1, 0, 0, 0]\n",
      "ic| probs: [0.6, 0.4]\n",
      "ic| sub_spliter_2: [1, 1]\n",
      "ic| probs: [1.0]\n",
      "ic| entropy_v: 0.6730116670092565\n",
      "ic| sub_spliter_1: [1, 1]\n",
      "ic| probs: [1.0]\n",
      "ic| sub_spliter_2: [1, 1, 0, 0, 0]\n",
      "ic| probs: [0.6, 0.4]\n",
      "ic| entropy_v: 0.6730116670092565\n",
      "ic| sub_spliter_1: [1, 1]"
     ]
    },
    {
     "name": "stdout",
     "output_type": "stream",
     "text": [
      "{1, 2}\n",
      "{'-10', '+10'}\n"
     ]
    },
    {
     "name": "stderr",
     "output_type": "stream",
     "text": [
      "\n",
      "ic| probs: [1.0]\n",
      "ic| sub_spliter_2: [1, 1, 0, 0, 0]\n",
      "ic| probs: [0.6, 0.4]\n",
      "ic| entropy_v: 0.6730116670092565\n",
      "ic| sub_spliter_1: [1, 1, 0, 0, 0]\n",
      "ic| probs: [0.6, 0.4]\n",
      "ic| sub_spliter_2: [1, 1]\n",
      "ic| probs: [1.0]\n",
      "ic| entropy_v: 0.6730116670092565\n",
      "ic| sub_spliter_1: [1, 1, 1, 0]\n",
      "ic| probs: [0.25, 0.75]\n",
      "ic| sub_spliter_2: [0, 0, 1]\n",
      "ic| probs: [0.6666666666666666, 0.3333333333333333]\n",
      "ic| entropy_v: 1.198849312913621\n",
      "ic| sub_spliter_1: [0, 0, 1]\n",
      "ic| probs: [0.6666666666666666, 0.3333333333333333]\n",
      "ic| sub_spliter_2: [1, 1, 1, 0]\n",
      "ic| probs: [0.25, 0.75]\n",
      "ic| entropy_v: 1.198849312913621\n",
      "ic| sub_spliter_1: [1]\n",
      "ic| probs: [1.0]\n",
      "ic| sub_spliter_2"
     ]
    },
    {
     "name": "stdout",
     "output_type": "stream",
     "text": [
      "{'F', 'M'}\n",
      "spliter is: ('income', '+10')\n",
      "the min entropy is: 0.6730116670092565\n",
      "  gender income  family_number  bought\n",
      "1      F    -10              1       1\n",
      "6      M    -10              2       1\n",
      "{1, 2}\n"
     ]
    },
    {
     "name": "stderr",
     "output_type": "stream",
     "text": [
      ": [1]\n",
      "ic| probs: [1.0]\n",
      "ic| entropy_v: -0.0\n",
      "ic| sub_spliter_1: [1]\n",
      "ic| probs: [1.0]\n",
      "ic| sub_spliter_2: [1]\n",
      "ic| probs: [1.0]\n",
      "ic| entropy_v: -0.0\n",
      "ic| sub_spliter_1: [1]\n",
      "ic| probs: [1.0]\n",
      "ic| sub_spliter_2: [1]\n",
      "ic| probs: [1.0]\n",
      "ic| entropy_v: -0.0\n",
      "ic| sub_spliter_1: [1]\n",
      "ic| probs: [1.0]\n",
      "ic| sub_spliter_2: [1]\n",
      "ic| probs: [1.0]\n",
      "ic| entropy_v: -0.0\n"
     ]
    },
    {
     "name": "stdout",
     "output_type": "stream",
     "text": [
      "{'F', 'M'}\n",
      "spliter is: ('gender', 'M')\n",
      "the min entropy is: -0.0\n",
      "划分如下：\n",
      "第(1)次，为(('income', '+10'))\n",
      "第(2)次，为(('gender', 'M'))\n",
      "income\n",
      "gender\n",
      "['M', '-10', 1] 不会购买, bought==1\n"
     ]
    },
    {
     "data": {
      "text/plain": [
       "1"
      ]
     },
     "execution_count": 77,
     "metadata": {},
     "output_type": "execute_result"
    }
   ],
   "source": [
    "predicate('M', '-10', 1)"
   ]
  },
  {
   "cell_type": "code",
   "execution_count": 78,
   "metadata": {},
   "outputs": [
    {
     "name": "stderr",
     "output_type": "stream",
     "text": [
      "ic| sub_spliter_1: [1, 1, 0, 0, 0]\n",
      "ic| probs: [0.6, 0.4]\n",
      "ic| sub_spliter_2: [1, 1]\n",
      "ic| probs: [1.0]\n",
      "ic| entropy_v: 0.6730116670092565\n",
      "ic| sub_spliter_1: [1, 1]\n",
      "ic| probs: [1.0]\n",
      "ic| sub_spliter_2: [1, 1, 0, 0, 0]\n",
      "ic| probs: [0.6, 0.4]\n",
      "ic| entropy_v: 0.6730116670092565\n"
     ]
    },
    {
     "name": "stdout",
     "output_type": "stream",
     "text": [
      "{1, 2}\n",
      "{'-10', '+10'}\n"
     ]
    },
    {
     "name": "stderr",
     "output_type": "stream",
     "text": [
      "ic| sub_spliter_1: [1, 1]\n",
      "ic| probs: [1.0]\n",
      "ic| sub_spliter_2: [1, 1, 0, 0, 0]\n",
      "ic| probs: [0.6, 0.4]\n",
      "ic| entropy_v: 0.6730116670092565\n",
      "ic| sub_spliter_1: [1, 1, 0, 0, 0]\n",
      "ic| probs: [0.6, 0.4]\n",
      "ic| sub_spliter_2: [1, 1]\n",
      "ic| probs: [1.0]\n",
      "ic| entropy_v: 0.6730116670092565\n",
      "ic| sub_spliter_1: [1, 1, 1, 0]\n",
      "ic| probs: [0.25, 0.75]\n",
      "ic| sub_spliter_2: [0, 0, 1]\n",
      "ic| probs: [0.6666666666666666, 0.3333333333333333]\n",
      "ic| entropy_v: 1.198849312913621\n",
      "ic| sub_spliter_1: [0, 0, 1]\n",
      "ic| probs: [0.6666666666666666, 0.3333333333333333]\n",
      "ic| sub_spliter_2: [1, 1, 1, 0]\n",
      "ic| probs: [0.25, 0.75]\n",
      "ic| entropy_v: 1.198849312913621\n",
      "ic| sub_spliter_1: [1]\n",
      "ic| probs: [1.0]\n"
     ]
    },
    {
     "name": "stdout",
     "output_type": "stream",
     "text": [
      "{'F', 'M'}\n",
      "spliter is: ('income', '+10')\n",
      "the min entropy is: 0.6730116670092565\n",
      "  gender income  family_number  bought\n",
      "1      F    -10              1       1\n",
      "6      M    -10              2       1\n",
      "{1, 2}\n"
     ]
    },
    {
     "name": "stderr",
     "output_type": "stream",
     "text": [
      "ic| sub_spliter_2: [1]\n",
      "ic| probs: [1.0]\n",
      "ic| entropy_v: -0.0\n",
      "ic| sub_spliter_1: [1]\n",
      "ic| probs: [1.0]\n",
      "ic| sub_spliter_2: [1]\n",
      "ic| probs: [1.0]\n",
      "ic| entropy_v: -0.0\n",
      "ic| sub_spliter_1: [1]\n",
      "ic| probs: [1.0]\n",
      "ic| sub_spliter_2: [1]\n",
      "ic| probs: [1.0]\n",
      "ic| entropy_v: -0.0\n",
      "ic| sub_spliter_1: [1]\n",
      "ic| probs: [1.0]\n",
      "ic| sub_spliter_2: [1]\n",
      "ic| probs: [1.0]\n",
      "ic| entropy_v: -0.0\n"
     ]
    },
    {
     "name": "stdout",
     "output_type": "stream",
     "text": [
      "{'F', 'M'}\n",
      "spliter is: ('gender', 'M')\n",
      "the min entropy is: -0.0\n",
      "划分如下：\n",
      "第(1)次，为(('income', '+10'))\n",
      "第(2)次，为(('gender', 'M'))\n",
      "income\n",
      "['M', '+10', 1] 不会购买, bought==1\n"
     ]
    },
    {
     "data": {
      "text/plain": [
       "1"
      ]
     },
     "execution_count": 78,
     "metadata": {},
     "output_type": "execute_result"
    }
   ],
   "source": [
    "predicate('M', '+10', 1)"
   ]
  },
  {
   "cell_type": "markdown",
   "metadata": {},
   "source": [
    "<评阅点>\n",
    "> + 是否将之前的决策树模型的部分进行合并组装， predicate函数能够顺利运行(8')\n",
    "+ 是够能够输入未曾见过的X变量，例如gender, income, family_number 分别是： <M, -10, 1>, 模型能够预测出结果 (12')"
   ]
  },
  {
   "cell_type": "markdown",
   "metadata": {},
   "source": [
    "### 2. 将上一节课(第二节课)的线性回归问题中的Loss函数改成\"绝对值\"，并且改变其偏导的求值方式，观察其结果的变化。(19 point)"
   ]
  },
  {
   "cell_type": "code",
   "execution_count": 82,
   "metadata": {},
   "outputs": [
    {
     "data": {
      "text/plain": [
       "<matplotlib.collections.PathCollection at 0x1a17c0c128>"
      ]
     },
     "execution_count": 82,
     "metadata": {},
     "output_type": "execute_result"
    },
    {
     "data": {
      "image/png": "[encoded data removed]",
      "text/plain": [
       "<Figure size 432x288 with 1 Axes>"
      ]
     },
     "metadata": {
      "needs_background": "light"
     },
     "output_type": "display_data"
    }
   ],
   "source": [
    "from sklearn.datasets import load_boston\n",
    "import matplotlib.pyplot as plt\n",
    "import random\n",
    "dataset = load_boston()\n",
    "x,y=dataset['data'],dataset['target']\n",
    "X_rm = x[:,5] # 为了方便，取用了前5个特征值\n",
    "# plot the RM with respect to y\n",
    "plt.scatter(X_rm,y)"
   ]
  },
  {
   "cell_type": "code",
   "execution_count": 83,
   "metadata": {},
   "outputs": [],
   "source": [
    "# 定义目标函数\n",
    "def price(rm, k, b):\n",
    "    return k * rm + b"
   ]
  },
  {
   "cell_type": "markdown",
   "metadata": {},
   "source": [
    "$$ loss = \\frac{1}{n} \\sum{|(y_i - \\hat{y_i})|}$$"
   ]
  },
  {
   "cell_type": "markdown",
   "metadata": {},
   "source": [
    "$$ loss = \\frac{1}{n} \\sum{|(y_i - (kx_i+b_i))|}$$"
   ]
  },
  {
   "cell_type": "code",
   "execution_count": 148,
   "metadata": {},
   "outputs": [],
   "source": [
    "# 损失函数改为绝对值\n",
    "# 定义损失函数\n",
    "def loss(y, y_hat):\n",
    "    n = len(y)\n",
    "    loss_ = 0\n",
    "    for y_i, y_hat_i in zip(list(y), list(y_hat)):\n",
    "        \n",
    "        if y_i >= y_hat_i:\n",
    "            loss_ += (y_i - y_hat_i)\n",
    "        else:\n",
    "            loss_ += (y_hat_i - y_i) \n",
    "    print(\"loss_ /n\", loss_ /n)\n",
    "    return loss_ /n"
   ]
  },
  {
   "cell_type": "code",
   "execution_count": 149,
   "metadata": {},
   "outputs": [],
   "source": [
    "# 求解关于k的偏导数\n",
    "def partial_derivative_k(x, y, y_hat): \n",
    "    n = len(y)\n",
    "    gradient = 0\n",
    "    for x_i, y_i, y_hat_i in zip(list(x),list(y),list(y_hat)):\n",
    "        if y_i >= y_hat_i:\n",
    "            gradient += -1 * x_i\n",
    "        else :\n",
    "            gradient += 1 * x_i\n",
    "    return 1/n * gradient"
   ]
  },
  {
   "cell_type": "code",
   "execution_count": 150,
   "metadata": {},
   "outputs": [],
   "source": [
    "# 求解关于b的偏导数\n",
    "def partial_derivative_b(y, y_hat): \n",
    "    n = len(y)\n",
    "    gradient = 0\n",
    "    for y_i, y_hat_i in zip(list(y),list(y_hat)):\n",
    "        if y_i >= y_hat_i:\n",
    "            gradient += -1\n",
    "        else :\n",
    "            gradient += 1\n",
    "    return 1 / n * gradient"
   ]
  },
  {
   "cell_type": "code",
   "execution_count": 151,
   "metadata": {},
   "outputs": [
    {
     "name": "stdout",
     "output_type": "stream",
     "text": [
      "loss_ /n 421.9467509435635\n",
      "Iteration 0, the loss is 421.9467509435635, parameters k is 61.51157215025401 and b is 57.90181571211795\n",
      "loss_ /n 421.9062543141808\n",
      "Iteration 1, the loss is 421.9062543141808, parameters k is 61.50528751586666 and b is 57.900815712117954\n",
      "loss_ /n 421.86575768479844\n",
      "Iteration 2, the loss is 421.86575768479844, parameters k is 61.49900288147931 and b is 57.899815712117956\n",
      "loss_ /n 421.8252610554156\n",
      "Iteration 3, the loss is 421.8252610554156, parameters k is 61.492718247091965 and b is 57.89881571211796\n",
      "loss_ /n 421.78476442603295\n",
      "Iteration 4, the loss is 421.78476442603295, parameters k is 61.486433612704616 and b is 57.89781571211796\n",
      "loss_ /n 421.7442677966502\n",
      "Iteration 5, the loss is 421.7442677966502, parameters k is 61.48014897831727 and b is 57.89681571211796\n",
      "loss_ /n 421.703771167268\n",
      "Iteration 6, the loss is 421.703771167268, parameters k is 61.47386434392992 and b is 57.895815712117965\n",
      "loss_ /n 421.663274537885\n",
      "Iteration 7, the loss is 421.663274537885, parameters k is 61.46757970954257 and b is 57.89481571211797\n",
      "loss_ /n 421.6227779085018\n",
      "Iteration 8, the loss is 421.6227779085018, parameters k is 61.46129507515522 and b is 57.89381571211797\n",
      "loss_ /n 421.58228127911934\n",
      "Iteration 9, the loss is 421.58228127911934, parameters k is 61.45501044076787 and b is 57.89281571211797\n",
      "loss_ /n 421.54178464973705\n",
      "Iteration 10, the loss is 421.54178464973705, parameters k is 61.44872580638052 and b is 57.891815712117975\n",
      "loss_ /n 421.50128802035425\n",
      "Iteration 11, the loss is 421.50128802035425, parameters k is 61.442441171993174 and b is 57.89081571211798\n",
      "loss_ /n 421.46079139097145\n",
      "Iteration 12, the loss is 421.46079139097145, parameters k is 61.436156537605825 and b is 57.88981571211798\n",
      "loss_ /n 421.42029476158865\n",
      "Iteration 13, the loss is 421.42029476158865, parameters k is 61.429871903218476 and b is 57.88881571211798\n",
      "loss_ /n 421.37979813220636\n",
      "Iteration 14, the loss is 421.37979813220636, parameters k is 61.42358726883113 and b is 57.887815712117984\n",
      "loss_ /n 421.3393015028241\n",
      "Iteration 15, the loss is 421.3393015028241, parameters k is 61.41730263444378 and b is 57.886815712117986\n",
      "loss_ /n 421.29880487344127\n",
      "Iteration 16, the loss is 421.29880487344127, parameters k is 61.41101800005643 and b is 57.88581571211799\n",
      "loss_ /n 421.2583082440584\n",
      "Iteration 17, the loss is 421.2583082440584, parameters k is 61.40473336566908 and b is 57.88481571211799\n",
      "loss_ /n 421.217811614676\n",
      "Iteration 18, the loss is 421.217811614676, parameters k is 61.39844873128173 and b is 57.88381571211799\n",
      "loss_ /n 421.1773149852927\n",
      "Iteration 19, the loss is 421.1773149852927, parameters k is 61.39216409689438 and b is 57.882815712117996\n",
      "loss_ /n 421.13681835591063\n",
      "Iteration 20, the loss is 421.13681835591063, parameters k is 61.385879462507035 and b is 57.881815712118\n",
      "loss_ /n 421.0963217265277\n",
      "Iteration 21, the loss is 421.0963217265277, parameters k is 61.379594828119686 and b is 57.880815712118\n",
      "loss_ /n 421.055825097145\n",
      "Iteration 22, the loss is 421.055825097145, parameters k is 61.37331019373234 and b is 57.879815712118\n",
      "loss_ /n 421.01532846776246\n",
      "Iteration 23, the loss is 421.01532846776246, parameters k is 61.36702555934499 and b is 57.878815712118005\n",
      "loss_ /n 420.9748318383796\n",
      "Iteration 24, the loss is 420.9748318383796, parameters k is 61.36074092495764 and b is 57.87781571211801\n",
      "loss_ /n 420.93433520899697\n",
      "Iteration 25, the loss is 420.93433520899697, parameters k is 61.35445629057029 and b is 57.87681571211801\n",
      "loss_ /n 420.89383857961434\n",
      "Iteration 26, the loss is 420.89383857961434, parameters k is 61.34817165618294 and b is 57.87581571211801\n",
      "loss_ /n 420.8533419502316\n",
      "Iteration 27, the loss is 420.8533419502316, parameters k is 61.34188702179559 and b is 57.874815712118014\n",
      "loss_ /n 420.8128453208486\n",
      "Iteration 28, the loss is 420.8128453208486, parameters k is 61.335602387408244 and b is 57.87381571211802\n",
      "loss_ /n 420.77234869146633\n",
      "Iteration 29, the loss is 420.77234869146633, parameters k is 61.329317753020895 and b is 57.87281571211802\n",
      "loss_ /n 420.7318520620836\n",
      "Iteration 30, the loss is 420.7318520620836, parameters k is 61.323033118633546 and b is 57.87181571211802\n",
      "loss_ /n 420.691355432701\n",
      "Iteration 31, the loss is 420.691355432701, parameters k is 61.3167484842462 and b is 57.870815712118024\n",
      "loss_ /n 420.650858803318\n",
      "Iteration 32, the loss is 420.650858803318, parameters k is 61.31046384985885 and b is 57.869815712118026\n",
      "loss_ /n 420.61036217393604\n",
      "Iteration 33, the loss is 420.61036217393604, parameters k is 61.3041792154715 and b is 57.86881571211803\n",
      "loss_ /n 420.5698655445529\n",
      "Iteration 34, the loss is 420.5698655445529, parameters k is 61.29789458108415 and b is 57.86781571211803\n",
      "loss_ /n 420.52936891517004\n",
      "Iteration 35, the loss is 420.52936891517004, parameters k is 61.2916099466968 and b is 57.86681571211803\n",
      "loss_ /n 420.48887228578764\n",
      "Iteration 36, the loss is 420.48887228578764, parameters k is 61.28532531230945 and b is 57.865815712118035\n",
      "loss_ /n 420.4483756564047\n",
      "Iteration 37, the loss is 420.4483756564047, parameters k is 61.279040677922104 and b is 57.86481571211804\n",
      "loss_ /n 420.4078790270225\n",
      "Iteration 38, the loss is 420.4078790270225, parameters k is 61.272756043534756 and b is 57.86381571211804\n",
      "loss_ /n 420.36738239764003\n",
      "Iteration 39, the loss is 420.36738239764003, parameters k is 61.26647140914741 and b is 57.86281571211804\n",
      "loss_ /n 420.32688576825683\n",
      "Iteration 40, the loss is 420.32688576825683, parameters k is 61.26018677476006 and b is 57.861815712118045\n",
      "loss_ /n 420.28638913887494\n",
      "Iteration 41, the loss is 420.28638913887494, parameters k is 61.25390214037271 and b is 57.86081571211805\n",
      "loss_ /n 420.2458925094916\n",
      "Iteration 42, the loss is 420.2458925094916, parameters k is 61.24761750598536 and b is 57.85981571211805\n",
      "loss_ /n 420.2053958801091\n",
      "Iteration 43, the loss is 420.2053958801091, parameters k is 61.24133287159801 and b is 57.85881571211805\n",
      "loss_ /n 420.1648992507264\n",
      "Iteration 44, the loss is 420.1648992507264, parameters k is 61.23504823721066 and b is 57.857815712118054\n",
      "loss_ /n 420.12440262134373\n",
      "Iteration 45, the loss is 420.12440262134373, parameters k is 61.228763602823314 and b is 57.856815712118056\n",
      "loss_ /n 420.0839059919615\n",
      "Iteration 46, the loss is 420.0839059919615, parameters k is 61.222478968435965 and b is 57.85581571211806\n",
      "loss_ /n 420.04340936257836\n",
      "Iteration 47, the loss is 420.04340936257836, parameters k is 61.216194334048616 and b is 57.85481571211806\n",
      "loss_ /n 420.0029127331956\n",
      "Iteration 48, the loss is 420.0029127331956, parameters k is 61.20990969966127 and b is 57.85381571211806\n",
      "loss_ /n 419.9624161038129\n",
      "Iteration 49, the loss is 419.9624161038129, parameters k is 61.20362506527392 and b is 57.852815712118066\n",
      "loss_ /n 419.9219194744309\n",
      "Iteration 50, the loss is 419.9219194744309, parameters k is 61.19734043088657 and b is 57.85181571211807\n",
      "loss_ /n 419.8814228450481\n",
      "Iteration 51, the loss is 419.8814228450481, parameters k is 61.19105579649922 and b is 57.85081571211807\n",
      "loss_ /n 419.84092621566526\n",
      "Iteration 52, the loss is 419.84092621566526, parameters k is 61.18477116211187 and b is 57.84981571211807\n",
      "loss_ /n 419.8004295862821\n",
      "Iteration 53, the loss is 419.8004295862821, parameters k is 61.17848652772452 and b is 57.848815712118075\n",
      "loss_ /n 419.75993295689983\n",
      "Iteration 54, the loss is 419.75993295689983, parameters k is 61.172201893337174 and b is 57.84781571211808\n",
      "loss_ /n 419.71943632751686\n",
      "Iteration 55, the loss is 419.71943632751686, parameters k is 61.165917258949825 and b is 57.84681571211808\n",
      "loss_ /n 419.678939698135\n",
      "Iteration 56, the loss is 419.678939698135, parameters k is 61.15963262456248 and b is 57.84581571211808\n",
      "loss_ /n 419.6384430687519\n",
      "Iteration 57, the loss is 419.6384430687519, parameters k is 61.15334799017513 and b is 57.844815712118084\n",
      "loss_ /n 419.59794643936937\n",
      "Iteration 58, the loss is 419.59794643936937, parameters k is 61.14706335578778 and b is 57.84381571211809\n",
      "loss_ /n 419.5574498099863\n",
      "Iteration 59, the loss is 419.5574498099863, parameters k is 61.14077872140043 and b is 57.84281571211809\n",
      "loss_ /n 419.516953180604\n",
      "Iteration 60, the loss is 419.516953180604, parameters k is 61.13449408701308 and b is 57.84181571211809\n",
      "loss_ /n 419.4764565512217\n",
      "Iteration 61, the loss is 419.4764565512217, parameters k is 61.12820945262573 and b is 57.84081571211809\n",
      "loss_ /n 419.4359599218384\n",
      "Iteration 62, the loss is 419.4359599218384, parameters k is 61.121924818238384 and b is 57.839815712118096\n",
      "loss_ /n 419.3954632924559\n",
      "Iteration 63, the loss is 419.3954632924559, parameters k is 61.115640183851035 and b is 57.8388157121181\n",
      "loss_ /n 419.35496666307307\n",
      "Iteration 64, the loss is 419.35496666307307, parameters k is 61.109355549463686 and b is 57.8378157121181\n",
      "loss_ /n 419.31447003369027\n",
      "Iteration 65, the loss is 419.31447003369027, parameters k is 61.10307091507634 and b is 57.8368157121181\n",
      "loss_ /n 419.2739734043076\n",
      "Iteration 66, the loss is 419.2739734043076, parameters k is 61.09678628068899 and b is 57.835815712118105\n",
      "loss_ /n 419.23347677492507\n",
      "Iteration 67, the loss is 419.23347677492507, parameters k is 61.09050164630164 and b is 57.83481571211811\n",
      "loss_ /n 419.1929801455427\n",
      "Iteration 68, the loss is 419.1929801455427, parameters k is 61.08421701191429 and b is 57.83381571211811\n",
      "loss_ /n 419.15248351616\n",
      "Iteration 69, the loss is 419.15248351616, parameters k is 61.07793237752694 and b is 57.83281571211811\n",
      "loss_ /n 419.11198688677723\n",
      "Iteration 70, the loss is 419.11198688677723, parameters k is 61.07164774313959 and b is 57.831815712118114\n",
      "loss_ /n 419.07149025739443\n",
      "Iteration 71, the loss is 419.07149025739443, parameters k is 61.065363108752244 and b is 57.83081571211812\n",
      "loss_ /n 419.0309936280119\n",
      "Iteration 72, the loss is 419.0309936280119, parameters k is 61.059078474364895 and b is 57.82981571211812\n",
      "loss_ /n 418.99049699862906\n",
      "Iteration 73, the loss is 418.99049699862906, parameters k is 61.05279383997755 and b is 57.82881571211812\n",
      "loss_ /n 418.9500003692468\n",
      "Iteration 74, the loss is 418.9500003692468, parameters k is 61.0465092055902 and b is 57.827815712118124\n",
      "loss_ /n 418.90950373986357\n",
      "Iteration 75, the loss is 418.90950373986357, parameters k is 61.04022457120285 and b is 57.826815712118126\n",
      "loss_ /n 418.86900711048116\n",
      "Iteration 76, the loss is 418.86900711048116, parameters k is 61.0339399368155 and b is 57.82581571211813\n",
      "loss_ /n 418.8285104810982\n",
      "Iteration 77, the loss is 418.8285104810982, parameters k is 61.02765530242815 and b is 57.82481571211813\n",
      "loss_ /n 418.7880138517159\n",
      "Iteration 78, the loss is 418.7880138517159, parameters k is 61.0213706680408 and b is 57.82381571211813\n",
      "loss_ /n 418.74751722233344\n",
      "Iteration 79, the loss is 418.74751722233344, parameters k is 61.01508603365345 and b is 57.822815712118135\n",
      "loss_ /n 418.7070205929501\n",
      "Iteration 80, the loss is 418.7070205929501, parameters k is 61.008801399266105 and b is 57.82181571211814\n",
      "loss_ /n 418.6665239635678\n",
      "Iteration 81, the loss is 418.6665239635678, parameters k is 61.002516764878756 and b is 57.82081571211814\n",
      "loss_ /n 418.6260273341856\n",
      "Iteration 82, the loss is 418.6260273341856, parameters k is 60.99623213049141 and b is 57.81981571211814\n",
      "loss_ /n 418.5855307048025\n",
      "Iteration 83, the loss is 418.5855307048025, parameters k is 60.98994749610406 and b is 57.818815712118145\n",
      "loss_ /n 418.54503407541995\n",
      "Iteration 84, the loss is 418.54503407541995, parameters k is 60.98366286171671 and b is 57.81781571211815\n",
      "loss_ /n 418.5045374460374\n",
      "Iteration 85, the loss is 418.5045374460374, parameters k is 60.97737822732936 and b is 57.81681571211815\n",
      "loss_ /n 418.4640408166546\n",
      "Iteration 86, the loss is 418.4640408166546, parameters k is 60.97109359294201 and b is 57.81581571211815\n",
      "loss_ /n 418.4235441872717\n",
      "Iteration 87, the loss is 418.4235441872717, parameters k is 60.96480895855466 and b is 57.814815712118154\n",
      "loss_ /n 418.3830475578897\n",
      "Iteration 88, the loss is 418.3830475578897, parameters k is 60.958524324167314 and b is 57.813815712118156\n",
      "loss_ /n 418.34255092850634\n",
      "Iteration 89, the loss is 418.34255092850634, parameters k is 60.952239689779965 and b is 57.81281571211816\n",
      "loss_ /n 418.30205429912377\n",
      "Iteration 90, the loss is 418.30205429912377, parameters k is 60.945955055392616 and b is 57.81181571211816\n",
      "loss_ /n 418.26155766974114\n",
      "Iteration 91, the loss is 418.26155766974114, parameters k is 60.93967042100527 and b is 57.81081571211816\n",
      "loss_ /n 418.2210610403588\n",
      "Iteration 92, the loss is 418.2210610403588, parameters k is 60.93338578661792 and b is 57.809815712118166\n",
      "loss_ /n 418.1805644109757\n",
      "Iteration 93, the loss is 418.1805644109757, parameters k is 60.92710115223057 and b is 57.80881571211817\n",
      "loss_ /n 418.14006778159296\n",
      "Iteration 94, the loss is 418.14006778159296, parameters k is 60.92081651784322 and b is 57.80781571211817\n",
      "loss_ /n 418.09957115221073\n",
      "Iteration 95, the loss is 418.09957115221073, parameters k is 60.91453188345587 and b is 57.80681571211817\n",
      "loss_ /n 418.0590745228278\n",
      "Iteration 96, the loss is 418.0590745228278, parameters k is 60.90824724906852 and b is 57.805815712118175\n",
      "loss_ /n 418.0185778934452\n",
      "Iteration 97, the loss is 418.0185778934452, parameters k is 60.901962614681175 and b is 57.80481571211818\n",
      "loss_ /n 417.9780812640623\n",
      "Iteration 98, the loss is 417.9780812640623, parameters k is 60.895677980293826 and b is 57.80381571211818\n",
      "loss_ /n 417.9375846346803\n",
      "Iteration 99, the loss is 417.9375846346803, parameters k is 60.88939334590648 and b is 57.80281571211818\n",
      "loss_ /n 417.89708800529746\n",
      "Iteration 100, the loss is 417.89708800529746, parameters k is 60.88310871151913 and b is 57.801815712118184\n",
      "loss_ /n 417.85659137591483\n",
      "Iteration 101, the loss is 417.85659137591483, parameters k is 60.87682407713178 and b is 57.80081571211819\n",
      "loss_ /n 417.8160947465318\n",
      "Iteration 102, the loss is 417.8160947465318, parameters k is 60.87053944274443 and b is 57.79981571211819\n",
      "loss_ /n 417.77559811714946\n",
      "Iteration 103, the loss is 417.77559811714946, parameters k is 60.86425480835708 and b is 57.79881571211819\n",
      "loss_ /n 417.735101487767\n",
      "Iteration 104, the loss is 417.735101487767, parameters k is 60.85797017396973 and b is 57.797815712118194\n",
      "loss_ /n 417.69460485838385\n",
      "Iteration 105, the loss is 417.69460485838385, parameters k is 60.851685539582384 and b is 57.796815712118196\n",
      "loss_ /n 417.65410822900145\n",
      "Iteration 106, the loss is 417.65410822900145, parameters k is 60.845400905195035 and b is 57.7958157121182\n",
      "loss_ /n 417.6136115996189\n",
      "Iteration 107, the loss is 417.6136115996189, parameters k is 60.839116270807686 and b is 57.7948157121182\n",
      "loss_ /n 417.5731149702357\n",
      "Iteration 108, the loss is 417.5731149702357, parameters k is 60.83283163642034 and b is 57.7938157121182\n",
      "loss_ /n 417.5326183408533\n",
      "Iteration 109, the loss is 417.5326183408533, parameters k is 60.82654700203299 and b is 57.792815712118205\n",
      "loss_ /n 417.49212171147025\n",
      "Iteration 110, the loss is 417.49212171147025, parameters k is 60.82026236764564 and b is 57.79181571211821\n",
      "loss_ /n 417.4516250820883\n",
      "Iteration 111, the loss is 417.4516250820883, parameters k is 60.81397773325829 and b is 57.79081571211821\n",
      "loss_ /n 417.41112845270544\n",
      "Iteration 112, the loss is 417.41112845270544, parameters k is 60.80769309887094 and b is 57.78981571211821\n",
      "loss_ /n 417.37063182332275\n",
      "Iteration 113, the loss is 417.37063182332275, parameters k is 60.80140846448359 and b is 57.788815712118215\n",
      "loss_ /n 417.33013519393984\n",
      "Iteration 114, the loss is 417.33013519393984, parameters k is 60.795123830096244 and b is 57.78781571211822\n",
      "loss_ /n 417.2896385645576\n",
      "Iteration 115, the loss is 417.2896385645576, parameters k is 60.788839195708896 and b is 57.78681571211822\n",
      "loss_ /n 417.2491419351747\n",
      "Iteration 116, the loss is 417.2491419351747, parameters k is 60.78255456132155 and b is 57.78581571211822\n",
      "loss_ /n 417.2086453057924\n",
      "Iteration 117, the loss is 417.2086453057924, parameters k is 60.7762699269342 and b is 57.784815712118224\n",
      "loss_ /n 417.16814867640915\n",
      "Iteration 118, the loss is 417.16814867640915, parameters k is 60.76998529254685 and b is 57.783815712118226\n",
      "loss_ /n 417.1276520470267\n",
      "Iteration 119, the loss is 417.1276520470267, parameters k is 60.7637006581595 and b is 57.78281571211823\n",
      "loss_ /n 417.08715541764366\n",
      "Iteration 120, the loss is 417.08715541764366, parameters k is 60.75741602377215 and b is 57.78181571211823\n",
      "loss_ /n 417.046658788261\n",
      "Iteration 121, the loss is 417.046658788261, parameters k is 60.7511313893848 and b is 57.78081571211823\n",
      "loss_ /n 417.0061621588786\n",
      "Iteration 122, the loss is 417.0061621588786, parameters k is 60.744846754997454 and b is 57.779815712118236\n",
      "loss_ /n 416.96566552949605\n",
      "Iteration 123, the loss is 416.96566552949605, parameters k is 60.738562120610105 and b is 57.77881571211824\n",
      "loss_ /n 416.92516890011404\n",
      "Iteration 124, the loss is 416.92516890011404, parameters k is 60.732277486222756 and b is 57.77781571211824\n",
      "loss_ /n 416.88467227073\n",
      "Iteration 125, the loss is 416.88467227073, parameters k is 60.72599285183541 and b is 57.77681571211824\n",
      "loss_ /n 416.84417564134753\n",
      "Iteration 126, the loss is 416.84417564134753, parameters k is 60.71970821744806 and b is 57.775815712118245\n",
      "loss_ /n 416.80367901196536\n",
      "Iteration 127, the loss is 416.80367901196536, parameters k is 60.71342358306071 and b is 57.77481571211825\n",
      "loss_ /n 416.76318238258267\n",
      "Iteration 128, the loss is 416.76318238258267, parameters k is 60.70713894867336 and b is 57.77381571211825\n",
      "loss_ /n 416.7226857532\n",
      "Iteration 129, the loss is 416.7226857532, parameters k is 60.70085431428601 and b is 57.77281571211825\n",
      "loss_ /n 416.68218912381735\n",
      "Iteration 130, the loss is 416.68218912381735, parameters k is 60.69456967989866 and b is 57.771815712118254\n",
      "loss_ /n 416.64169249443455\n",
      "Iteration 131, the loss is 416.64169249443455, parameters k is 60.688285045511314 and b is 57.77081571211826\n",
      "loss_ /n 416.601195865052\n",
      "Iteration 132, the loss is 416.601195865052, parameters k is 60.682000411123965 and b is 57.76981571211826\n",
      "loss_ /n 416.5606992356698\n",
      "Iteration 133, the loss is 416.5606992356698, parameters k is 60.67571577673662 and b is 57.76881571211826\n",
      "loss_ /n 416.520202606287\n",
      "Iteration 134, the loss is 416.520202606287, parameters k is 60.66943114234927 and b is 57.767815712118264\n",
      "loss_ /n 416.4797059769043\n",
      "Iteration 135, the loss is 416.4797059769043, parameters k is 60.66314650796192 and b is 57.766815712118266\n",
      "loss_ /n 416.43920934752146\n",
      "Iteration 136, the loss is 416.43920934752146, parameters k is 60.65686187357457 and b is 57.76581571211827\n",
      "loss_ /n 416.3987127181384\n",
      "Iteration 137, the loss is 416.3987127181384, parameters k is 60.65057723918722 and b is 57.76481571211827\n",
      "loss_ /n 416.3582160887557\n",
      "Iteration 138, the loss is 416.3582160887557, parameters k is 60.64429260479987 and b is 57.76381571211827\n",
      "loss_ /n 416.31771945937345\n",
      "Iteration 139, the loss is 416.31771945937345, parameters k is 60.638007970412524 and b is 57.762815712118275\n",
      "loss_ /n 416.27722282999054\n",
      "Iteration 140, the loss is 416.27722282999054, parameters k is 60.631723336025175 and b is 57.76181571211828\n",
      "loss_ /n 416.23672620060773\n",
      "Iteration 141, the loss is 416.23672620060773, parameters k is 60.625438701637826 and b is 57.76081571211828\n",
      "loss_ /n 416.1962295712254\n",
      "Iteration 142, the loss is 416.1962295712254, parameters k is 60.61915406725048 and b is 57.75981571211828\n",
      "loss_ /n 416.1557329418431\n",
      "Iteration 143, the loss is 416.1557329418431, parameters k is 60.61286943286313 and b is 57.758815712118285\n",
      "loss_ /n 416.11523631246\n",
      "Iteration 144, the loss is 416.11523631246, parameters k is 60.60658479847578 and b is 57.75781571211829\n",
      "loss_ /n 416.0747396830773\n",
      "Iteration 145, the loss is 416.0747396830773, parameters k is 60.60030016408843 and b is 57.75681571211829\n",
      "loss_ /n 416.03424305369447\n",
      "Iteration 146, the loss is 416.03424305369447, parameters k is 60.59401552970108 and b is 57.75581571211829\n",
      "loss_ /n 415.9937464243121\n",
      "Iteration 147, the loss is 415.9937464243121, parameters k is 60.58773089531373 and b is 57.754815712118294\n",
      "loss_ /n 415.95324979492915\n",
      "Iteration 148, the loss is 415.95324979492915, parameters k is 60.581446260926384 and b is 57.753815712118296\n",
      "loss_ /n 415.9127531655466\n",
      "Iteration 149, the loss is 415.9127531655466, parameters k is 60.575161626539035 and b is 57.7528157121183\n",
      "loss_ /n 415.87225653616366\n",
      "Iteration 150, the loss is 415.87225653616366, parameters k is 60.56887699215169 and b is 57.7518157121183\n",
      "loss_ /n 415.83175990678103\n",
      "Iteration 151, the loss is 415.83175990678103, parameters k is 60.56259235776434 and b is 57.7508157121183\n",
      "loss_ /n 415.7912632773984\n",
      "Iteration 152, the loss is 415.7912632773984, parameters k is 60.55630772337699 and b is 57.749815712118306\n",
      "loss_ /n 415.7507666480158\n",
      "Iteration 153, the loss is 415.7507666480158, parameters k is 60.55002308898964 and b is 57.74881571211831\n",
      "loss_ /n 415.71027001863325\n",
      "Iteration 154, the loss is 415.71027001863325, parameters k is 60.54373845460229 and b is 57.74781571211831\n",
      "loss_ /n 415.6697733892509\n",
      "Iteration 155, the loss is 415.6697733892509, parameters k is 60.53745382021494 and b is 57.74681571211831\n",
      "loss_ /n 415.6292767598677\n",
      "Iteration 156, the loss is 415.6292767598677, parameters k is 60.53116918582759 and b is 57.745815712118315\n",
      "loss_ /n 415.5887801304855\n",
      "Iteration 157, the loss is 415.5887801304855, parameters k is 60.524884551440245 and b is 57.74481571211832\n",
      "loss_ /n 415.5482835011028\n",
      "Iteration 158, the loss is 415.5482835011028, parameters k is 60.518599917052896 and b is 57.74381571211832\n",
      "loss_ /n 415.50778687171976\n",
      "Iteration 159, the loss is 415.50778687171976, parameters k is 60.51231528266555 and b is 57.74281571211832\n",
      "loss_ /n 415.467290242338\n",
      "Iteration 160, the loss is 415.467290242338, parameters k is 60.5060306482782 and b is 57.741815712118324\n",
      "loss_ /n 415.4267936129548\n",
      "Iteration 161, the loss is 415.4267936129548, parameters k is 60.49974601389085 and b is 57.74081571211833\n",
      "loss_ /n 415.3862969835723\n",
      "Iteration 162, the loss is 415.3862969835723, parameters k is 60.4934613795035 and b is 57.73981571211833\n",
      "loss_ /n 415.3458003541898\n",
      "Iteration 163, the loss is 415.3458003541898, parameters k is 60.48717674511615 and b is 57.73881571211833\n",
      "loss_ /n 415.30530372480627\n",
      "Iteration 164, the loss is 415.30530372480627, parameters k is 60.4808921107288 and b is 57.73781571211833\n",
      "loss_ /n 415.2648070954244\n",
      "Iteration 165, the loss is 415.2648070954244, parameters k is 60.474607476341454 and b is 57.736815712118336\n",
      "loss_ /n 415.22431046604163\n",
      "Iteration 166, the loss is 415.22431046604163, parameters k is 60.468322841954105 and b is 57.73581571211834\n",
      "loss_ /n 415.1838138366589\n",
      "Iteration 167, the loss is 415.1838138366589, parameters k is 60.462038207566756 and b is 57.73481571211834\n",
      "loss_ /n 415.14331720727637\n",
      "Iteration 168, the loss is 415.14331720727637, parameters k is 60.45575357317941 and b is 57.73381571211834\n",
      "loss_ /n 415.10282057789306\n",
      "Iteration 169, the loss is 415.10282057789306, parameters k is 60.44946893879206 and b is 57.732815712118345\n",
      "loss_ /n 415.0623239485104\n",
      "Iteration 170, the loss is 415.0623239485104, parameters k is 60.44318430440471 and b is 57.73181571211835\n",
      "loss_ /n 415.0218273191285\n",
      "Iteration 171, the loss is 415.0218273191285, parameters k is 60.43689967001736 and b is 57.73081571211835\n",
      "loss_ /n 414.98133068974516\n",
      "Iteration 172, the loss is 414.98133068974516, parameters k is 60.43061503563001 and b is 57.72981571211835\n",
      "loss_ /n 414.9408340603633\n",
      "Iteration 173, the loss is 414.9408340603633, parameters k is 60.42433040124266 and b is 57.728815712118354\n",
      "loss_ /n 414.90033743098013\n",
      "Iteration 174, the loss is 414.90033743098013, parameters k is 60.418045766855315 and b is 57.72781571211836\n",
      "loss_ /n 414.85984080159744\n",
      "Iteration 175, the loss is 414.85984080159744, parameters k is 60.411761132467966 and b is 57.72681571211836\n",
      "loss_ /n 414.819344172215\n",
      "Iteration 176, the loss is 414.819344172215, parameters k is 60.40547649808062 and b is 57.72581571211836\n",
      "loss_ /n 414.77884754283207\n",
      "Iteration 177, the loss is 414.77884754283207, parameters k is 60.39919186369327 and b is 57.724815712118364\n",
      "loss_ /n 414.73835091344915\n",
      "Iteration 178, the loss is 414.73835091344915, parameters k is 60.39290722930592 and b is 57.723815712118366\n",
      "loss_ /n 414.69785428406675\n",
      "Iteration 179, the loss is 414.69785428406675, parameters k is 60.38662259491857 and b is 57.72281571211837\n",
      "loss_ /n 414.65735765468395\n",
      "Iteration 180, the loss is 414.65735765468395, parameters k is 60.38033796053122 and b is 57.72181571211837\n",
      "loss_ /n 414.61686102530126\n",
      "Iteration 181, the loss is 414.61686102530126, parameters k is 60.37405332614387 and b is 57.72081571211837\n",
      "loss_ /n 414.5763643959189\n",
      "Iteration 182, the loss is 414.5763643959189, parameters k is 60.367768691756524 and b is 57.719815712118375\n",
      "loss_ /n 414.5358677665364\n",
      "Iteration 183, the loss is 414.5358677665364, parameters k is 60.361484057369175 and b is 57.71881571211838\n",
      "loss_ /n 414.49537113715337\n",
      "Iteration 184, the loss is 414.49537113715337, parameters k is 60.355199422981826 and b is 57.71781571211838\n",
      "loss_ /n 414.45487450777057\n",
      "Iteration 185, the loss is 414.45487450777057, parameters k is 60.34891478859448 and b is 57.71681571211838\n",
      "loss_ /n 414.41437787838805\n",
      "Iteration 186, the loss is 414.41437787838805, parameters k is 60.34263015420713 and b is 57.715815712118385\n",
      "loss_ /n 414.3738812490059\n",
      "Iteration 187, the loss is 414.3738812490059, parameters k is 60.33634551981978 and b is 57.71481571211839\n",
      "loss_ /n 414.33338461962273\n",
      "Iteration 188, the loss is 414.33338461962273, parameters k is 60.33006088543243 and b is 57.71381571211839\n",
      "loss_ /n 414.29288799023993\n",
      "Iteration 189, the loss is 414.29288799023993, parameters k is 60.32377625104508 and b is 57.71281571211839\n",
      "loss_ /n 414.25239136085804\n",
      "Iteration 190, the loss is 414.25239136085804, parameters k is 60.31749161665773 and b is 57.711815712118394\n",
      "loss_ /n 414.2118947314751\n",
      "Iteration 191, the loss is 414.2118947314751, parameters k is 60.311206982270384 and b is 57.7108157121184\n",
      "loss_ /n 414.1713981020924\n",
      "Iteration 192, the loss is 414.1713981020924, parameters k is 60.304922347883036 and b is 57.7098157121184\n",
      "loss_ /n 414.1309014727099\n",
      "Iteration 193, the loss is 414.1309014727099, parameters k is 60.29863771349569 and b is 57.7088157121184\n",
      "loss_ /n 414.09040484332695\n",
      "Iteration 194, the loss is 414.09040484332695, parameters k is 60.29235307910834 and b is 57.7078157121184\n",
      "loss_ /n 414.049908213944\n",
      "Iteration 195, the loss is 414.049908213944, parameters k is 60.28606844472099 and b is 57.706815712118406\n",
      "loss_ /n 414.009411584562\n",
      "Iteration 196, the loss is 414.009411584562, parameters k is 60.27978381033364 and b is 57.70581571211841\n",
      "loss_ /n 413.9689149551791\n",
      "Iteration 197, the loss is 413.9689149551791, parameters k is 60.27349917594629 and b is 57.70481571211841\n",
      "loss_ /n 413.92841832579654\n",
      "Iteration 198, the loss is 413.92841832579654, parameters k is 60.26721454155894 and b is 57.70381571211841\n",
      "loss_ /n 413.88792169641357\n",
      "Iteration 199, the loss is 413.88792169641357, parameters k is 60.260929907171594 and b is 57.702815712118415\n"
     ]
    }
   ],
   "source": [
    "# 参数初始化\n",
    "k = random.random() * 200 - 100 \n",
    "b = random.random() * 200 - 100\n",
    "learning_rate = 1e-3\n",
    "iteration_num = 200\n",
    "losses = []\n",
    "for i in range(iteration_num):\n",
    "    price_use_current_parameters = [price(r, k, b) for r in X_rm]\n",
    "    current_loss = loss(y, price_use_current_parameters)\n",
    "    losses.append(current_loss)\n",
    "    print(\"Iteration {}, the loss is {}, parameters k is {} and b is {}\".format(i, current_loss, k, b))\n",
    "    k_gradient = partial_derivative_k(X_rm, y, price_use_current_parameters)\n",
    "    b_gradient = partial_derivative_b(y, price_use_current_parameters)\n",
    "    k = k + (-1 * k_gradient) * learning_rate\n",
    "    b = b + (-1 * b_gradient) * learning_rate\n",
    "best_k = k\n",
    "best_b = b"
   ]
  },
  {
   "cell_type": "markdown",
   "metadata": {},
   "source": [
    "### *结果产生问题，losses无法收敛\n",
    "问题解决，loss 计算那边公式写的有问题"
   ]
  },
  {
   "cell_type": "code",
   "execution_count": 152,
   "metadata": {},
   "outputs": [
    {
     "data": {
      "text/plain": [
       "[<matplotlib.lines.Line2D at 0x1a190e8940>]"
      ]
     },
     "execution_count": 152,
     "metadata": {},
     "output_type": "execute_result"
    },
    {
     "data": {
      "image/png": "[encoded data removed]",
      "text/plain": [
       "<Figure size 432x288 with 1 Axes>"
      ]
     },
     "metadata": {
      "needs_background": "light"
     },
     "output_type": "display_data"
    }
   ],
   "source": [
    "plt.plot(list(range(iteration_num)), losses)"
   ]
  },
  {
   "cell_type": "markdown",
   "metadata": {},
   "source": [
    "<评阅点>\n",
    "+ 是否将Loss改成了“绝对值”(3')\n",
    "+ 是否完成了偏导的重新定义(5')\n",
    "+ 新的模型Loss是否能够收敛 (11’)"
   ]
  },
  {
   "cell_type": "markdown",
   "metadata": {},
   "source": []
  }
 ],
 "metadata": {
  "kernelspec": {
   "display_name": "Python 3",
   "language": "python",
   "name": "python3"
  },
  "language_info": {
   "codemirror_mode": {
    "name": "ipython",
    "version": 3
   },
   "file_extension": ".py",
   "mimetype": "text/x-python",
   "name": "python",
   "nbconvert_exporter": "python",
   "pygments_lexer": "ipython3",
   "version": "3.7.3"
  }
 },
 "nbformat": 4,
 "nbformat_minor": 2
}
