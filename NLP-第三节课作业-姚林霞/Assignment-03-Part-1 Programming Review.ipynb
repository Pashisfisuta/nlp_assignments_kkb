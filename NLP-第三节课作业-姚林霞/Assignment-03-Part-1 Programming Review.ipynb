{
 "cells": [
  {
   "cell_type": "markdown",
   "metadata": {},
   "source": [
    "## Assignment-03 First Step of Machine Learning: Model and Evaluation"
   ]
  },
  {
   "cell_type": "markdown",
   "metadata": {},
   "source": [
    "同学们，今天我们的学习了基本的机器学习概念，相比你已经对机器学习的这些方法有一个基本的认识了。值得说明的是，机器学习不仅仅是一系列方法，更重要的是一种思维体系，即：依据以往的、现有的数据，构建某种方法来解决未见过的问题。而且决策树，贝叶斯只是实现这个目标的一个方法，包括之后的神经网络。很有可能有一天，神经网络也会被淘汰，但是重要的是我们要理解机器学习的目标，就是尽可能的自动化解决未知的问题。"
   ]
  },
  {
   "cell_type": "markdown",
   "metadata": {},
   "source": [
    "![](https://timgsa.baidu.com/timg?image&quality=80&size=b9999_10000&sec=1571556399207&di=4a97dc15ad08dd49d3748d1edf6109b3&imgtype=0&src=http%3A%2F%2Fc.hiphotos.baidu.com%2Fzhidao%2Fwh%3D450%2C600%2Fsign%3Dae742c6aedcd7b89e93932873a146e91%2F5d6034a85edf8db1b16050c40223dd54574e74c7.jpg)"
   ]
  },
  {
   "cell_type": "markdown",
   "metadata": {},
   "source": [
    "# Part-1 Programming Review 编程回顾"
   ]
  },
  {
   "cell_type": "markdown",
   "metadata": {},
   "source": [
    "# 1. Re-code the Linear-Regression Model using scikit-learning(10 points)"
   ]
  },
  {
   "cell_type": "markdown",
   "metadata": {},
   "source": [
    "<评阅点>： \n",
    "> + 是否完成线性回归模型 (4')\n",
    "+ 能够进行预测新数据(3')\n",
    "+ 能够进行可视化操作(3')"
   ]
  },
  {
   "cell_type": "markdown",
   "metadata": {},
   "source": [
    "## 1.1 输入数据，标签数据随机生成"
   ]
  },
  {
   "cell_type": "code",
   "execution_count": 1,
   "metadata": {},
   "outputs": [],
   "source": [
    "# you code here\n",
    "%matplotlib inline"
   ]
  },
  {
   "cell_type": "code",
   "execution_count": 3,
   "metadata": {},
   "outputs": [],
   "source": [
    "import numpy as np"
   ]
  },
  {
   "cell_type": "code",
   "execution_count": 4,
   "metadata": {},
   "outputs": [],
   "source": [
    "random_data = np.random.random((20, 2))"
   ]
  },
  {
   "cell_type": "code",
   "execution_count": 5,
   "metadata": {},
   "outputs": [
    {
     "data": {
      "text/plain": [
       "array([[0.8662369 , 0.8565669 ],\n",
       "       [0.96389841, 0.665614  ],\n",
       "       [0.25552968, 0.73575064],\n",
       "       [0.19287037, 0.18688624],\n",
       "       [0.79118239, 0.10071363],\n",
       "       [0.86695606, 0.3405539 ],\n",
       "       [0.96607909, 0.60381636],\n",
       "       [0.79276952, 0.86490657],\n",
       "       [0.02632913, 0.08236626],\n",
       "       [0.7640365 , 0.00154634],\n",
       "       [0.00919732, 0.06703663],\n",
       "       [0.84481608, 0.40042929],\n",
       "       [0.48693136, 0.65718149],\n",
       "       [0.01691653, 0.64031332],\n",
       "       [0.38285448, 0.41750137],\n",
       "       [0.47650578, 0.24455777],\n",
       "       [0.15712659, 0.081945  ],\n",
       "       [0.71681367, 0.49158336],\n",
       "       [0.40674058, 0.02738279],\n",
       "       [0.78255733, 0.91000144]])"
      ]
     },
     "execution_count": 5,
     "metadata": {},
     "output_type": "execute_result"
    }
   ],
   "source": [
    "random_data"
   ]
  },
  {
   "cell_type": "code",
   "execution_count": 6,
   "metadata": {},
   "outputs": [],
   "source": [
    "import matplotlib.pyplot as plt"
   ]
  },
  {
   "cell_type": "code",
   "execution_count": 8,
   "metadata": {},
   "outputs": [],
   "source": [
    "# 取每个列表中的第一个值，作为输入\n",
    "x = random_data[:,0]"
   ]
  },
  {
   "cell_type": "code",
   "execution_count": 10,
   "metadata": {},
   "outputs": [
    {
     "data": {
      "text/plain": [
       "array([0.8662369 , 0.96389841, 0.25552968, 0.19287037, 0.79118239,\n",
       "       0.86695606, 0.96607909, 0.79276952, 0.02632913, 0.7640365 ,\n",
       "       0.00919732, 0.84481608, 0.48693136, 0.01691653, 0.38285448,\n",
       "       0.47650578, 0.15712659, 0.71681367, 0.40674058, 0.78255733])"
      ]
     },
     "execution_count": 10,
     "metadata": {},
     "output_type": "execute_result"
    }
   ],
   "source": [
    "x"
   ]
  },
  {
   "cell_type": "code",
   "execution_count": 11,
   "metadata": {},
   "outputs": [],
   "source": [
    "# 取每个元素的第二个值，作为标签\n",
    "y = random_data[:,1]"
   ]
  },
  {
   "cell_type": "code",
   "execution_count": 12,
   "metadata": {},
   "outputs": [
    {
     "data": {
      "text/plain": [
       "array([0.8565669 , 0.665614  , 0.73575064, 0.18688624, 0.10071363,\n",
       "       0.3405539 , 0.60381636, 0.86490657, 0.08236626, 0.00154634,\n",
       "       0.06703663, 0.40042929, 0.65718149, 0.64031332, 0.41750137,\n",
       "       0.24455777, 0.081945  , 0.49158336, 0.02738279, 0.91000144])"
      ]
     },
     "execution_count": 12,
     "metadata": {},
     "output_type": "execute_result"
    }
   ],
   "source": [
    "y"
   ]
  },
  {
   "cell_type": "code",
   "execution_count": 52,
   "metadata": {},
   "outputs": [
    {
     "data": {
      "text/plain": [
       "<matplotlib.collections.PathCollection at 0x1a1a019208>"
      ]
     },
     "execution_count": 52,
     "metadata": {},
     "output_type": "execute_result"
    },
    {
     "data": {
      "image/png": "[encoded data removed]",
      "text/plain": [
       "<Figure size 432x288 with 1 Axes>"
      ]
     },
     "metadata": {
      "needs_background": "light"
     },
     "output_type": "display_data"
    }
   ],
   "source": [
    "plt.scatter(x, y)"
   ]
  },
  {
   "cell_type": "markdown",
   "metadata": {},
   "source": [
    "## 1.2 假设函数定义"
   ]
  },
  {
   "cell_type": "code",
   "execution_count": 13,
   "metadata": {},
   "outputs": [],
   "source": [
    "import random"
   ]
  },
  {
   "cell_type": "code",
   "execution_count": 25,
   "metadata": {},
   "outputs": [],
   "source": [
    "# 定义假设函数,随便定义一个假设函数，生成y\n",
    "def assuming_func(x, k, b):\n",
    "    return k*x + b + random.randint(-4, 4)"
   ]
  },
  {
   "cell_type": "code",
   "execution_count": 32,
   "metadata": {},
   "outputs": [],
   "source": [
    "y_ = [assuming_func(x_, 11, 4) for x_ in x]"
   ]
  },
  {
   "cell_type": "code",
   "execution_count": 33,
   "metadata": {},
   "outputs": [
    {
     "data": {
      "text/plain": [
       "[13.528605899765578,\n",
       " 16.60288250212927,\n",
       " 5.810826526462586,\n",
       " 6.121574105745322,\n",
       " 16.70300630121816,\n",
       " 11.53651667370438,\n",
       " 11.626870019954795,\n",
       " 11.720464713400862,\n",
       " 3.2896204242629192,\n",
       " 8.404401509133361,\n",
       " 8.101170543861361,\n",
       " 17.29297690946655,\n",
       " 10.356244937457042,\n",
       " 2.1860818440374317,\n",
       " 4.211399313016258,\n",
       " 8.241563568405951,\n",
       " 8.728392482234497,\n",
       " 14.884950336987426,\n",
       " 5.4741463851764784,\n",
       " 8.608130658800663]"
      ]
     },
     "execution_count": 33,
     "metadata": {},
     "output_type": "execute_result"
    }
   ],
   "source": [
    "y_"
   ]
  },
  {
   "cell_type": "code",
   "execution_count": 34,
   "metadata": {},
   "outputs": [
    {
     "data": {
      "text/plain": [
       "<matplotlib.collections.PathCollection at 0x1a19f38dd8>"
      ]
     },
     "execution_count": 34,
     "metadata": {},
     "output_type": "execute_result"
    },
    {
     "data": {
      "image/png": "[encoded data removed]",
      "text/plain": [
       "<Figure size 432x288 with 1 Axes>"
      ]
     },
     "metadata": {
      "needs_background": "light"
     },
     "output_type": "display_data"
    }
   ],
   "source": [
    "plt.scatter(x, y_)"
   ]
  },
  {
   "cell_type": "markdown",
   "metadata": {},
   "source": [
    "### *\n",
    "为什么要用numpy\n",
    "\n",
    "    Python中提供了list容器，可以当作数组使用。但列表中的元素可以是任何对象，因此列表中保存的是对象的指针，这样一来，为了保存一个简单的列表[1,2,3]。就需要三个指针和三个整数对象。对于数值运算来说，这种结构显然不够高效。\n",
    "    Python虽然也提供了array模块，但其只支持一维数组，不支持多维数组(在TensorFlow里面偏向于矩阵理解)，也没有各种运算函数。因而不适合数值运算。\n",
    "    NumPy的出现弥补了这些不足。\n",
    "\n",
    "（——摘自张若愚的《Python科学计算》）\n",
    "————————————————\n",
    "版权声明：本文为CSDN博主「furuit」的原创文章，遵循 CC 4.0 BY-SA 版权协议，转载请附上原文出处链接及本声明。\n",
    "原文链接：https://blog.csdn.net/fu6543210/article/details/83240024"
   ]
  },
  {
   "cell_type": "code",
   "execution_count": 36,
   "metadata": {},
   "outputs": [],
   "source": [
    "y_ = np.array(y_)"
   ]
  },
  {
   "cell_type": "code",
   "execution_count": 37,
   "metadata": {},
   "outputs": [
    {
     "data": {
      "text/plain": [
       "array([13.5286059 , 16.6028825 ,  5.81082653,  6.12157411, 16.7030063 ,\n",
       "       11.53651667, 11.62687002, 11.72046471,  3.28962042,  8.40440151,\n",
       "        8.10117054, 17.29297691, 10.35624494,  2.18608184,  4.21139931,\n",
       "        8.24156357,  8.72839248, 14.88495034,  5.47414639,  8.60813066])"
      ]
     },
     "execution_count": 37,
     "metadata": {},
     "output_type": "execute_result"
    }
   ],
   "source": [
    "y_"
   ]
  },
  {
   "cell_type": "markdown",
   "metadata": {},
   "source": [
    "## 1.3 调用线性模型"
   ]
  },
  {
   "cell_type": "code",
   "execution_count": 31,
   "metadata": {},
   "outputs": [],
   "source": [
    "from sklearn.linear_model import LinearRegression"
   ]
  },
  {
   "cell_type": "code",
   "execution_count": 41,
   "metadata": {},
   "outputs": [
    {
     "data": {
      "text/plain": [
       "array([0.8662369 , 0.96389841, 0.25552968, 0.19287037, 0.79118239,\n",
       "       0.86695606, 0.96607909, 0.79276952, 0.02632913, 0.7640365 ,\n",
       "       0.00919732, 0.84481608, 0.48693136, 0.01691653, 0.38285448,\n",
       "       0.47650578, 0.15712659, 0.71681367, 0.40674058, 0.78255733])"
      ]
     },
     "execution_count": 41,
     "metadata": {},
     "output_type": "execute_result"
    }
   ],
   "source": [
    "x"
   ]
  },
  {
   "cell_type": "markdown",
   "metadata": {},
   "source": [
    "### reshape(-1, 1)\n",
    "列数变成1，行数自动计算"
   ]
  },
  {
   "cell_type": "code",
   "execution_count": 40,
   "metadata": {},
   "outputs": [
    {
     "data": {
      "text/plain": [
       "array([[0.8662369 ],\n",
       "       [0.96389841],\n",
       "       [0.25552968],\n",
       "       [0.19287037],\n",
       "       [0.79118239],\n",
       "       [0.86695606],\n",
       "       [0.96607909],\n",
       "       [0.79276952],\n",
       "       [0.02632913],\n",
       "       [0.7640365 ],\n",
       "       [0.00919732],\n",
       "       [0.84481608],\n",
       "       [0.48693136],\n",
       "       [0.01691653],\n",
       "       [0.38285448],\n",
       "       [0.47650578],\n",
       "       [0.15712659],\n",
       "       [0.71681367],\n",
       "       [0.40674058],\n",
       "       [0.78255733]])"
      ]
     },
     "execution_count": 40,
     "metadata": {},
     "output_type": "execute_result"
    }
   ],
   "source": [
    "x.reshape(-1, 1)"
   ]
  },
  {
   "cell_type": "code",
   "execution_count": 53,
   "metadata": {},
   "outputs": [],
   "source": [
    "# 输入数据，标签，训练模型\n",
    "model = LinearRegression().fit(x.reshape(-1, 1), y_)"
   ]
  },
  {
   "cell_type": "code",
   "execution_count": 54,
   "metadata": {},
   "outputs": [
    {
     "data": {
      "text/plain": [
       "0.6214568099872274"
      ]
     },
     "execution_count": 54,
     "metadata": {},
     "output_type": "execute_result"
    }
   ],
   "source": [
    "#线性回归的scroe方法得到的是决定系数R平方\n",
    "#评估模型:决定系数R平方\n",
    "model.score(x.reshape(-1, 1), y_)"
   ]
  },
  {
   "cell_type": "code",
   "execution_count": 55,
   "metadata": {},
   "outputs": [],
   "source": [
    "# 回归系数\n",
    "a = model.coef_"
   ]
  },
  {
   "cell_type": "code",
   "execution_count": 56,
   "metadata": {},
   "outputs": [],
   "source": [
    "# 截距\n",
    "b = model.intercept_"
   ]
  },
  {
   "cell_type": "code",
   "execution_count": 57,
   "metadata": {},
   "outputs": [],
   "source": [
    "# 获得线性函数\n",
    "def f(x):\n",
    "    return a*x + b"
   ]
  },
  {
   "cell_type": "code",
   "execution_count": 58,
   "metadata": {},
   "outputs": [
    {
     "data": {
      "text/plain": [
       "[<matplotlib.lines.Line2D at 0x1159b0128>]"
      ]
     },
     "execution_count": 58,
     "metadata": {},
     "output_type": "execute_result"
    },
    {
     "data": {
      "image/png": "[encoded data removed]",
      "text/plain": [
       "<Figure size 432x288 with 1 Axes>"
      ]
     },
     "metadata": {
      "needs_background": "light"
     },
     "output_type": "display_data"
    }
   ],
   "source": [
    "plt.scatter(x, y)\n",
    "plt.plot(x, f(x), color='red')"
   ]
  },
  {
   "cell_type": "markdown",
   "metadata": {},
   "source": [
    "## 1.4 模型预测"
   ]
  },
  {
   "cell_type": "code",
   "execution_count": 60,
   "metadata": {},
   "outputs": [],
   "source": [
    "y_train_pred = model.predict(x.reshape(-1, 1))"
   ]
  },
  {
   "cell_type": "code",
   "execution_count": null,
   "metadata": {},
   "outputs": [],
   "source": [
    "# 训练值-预测值，可视化图"
   ]
  },
  {
   "cell_type": "code",
   "execution_count": 67,
   "metadata": {},
   "outputs": [
    {
     "data": {
      "text/plain": [
       "[<matplotlib.lines.Line2D at 0x1a1acbeb38>]"
      ]
     },
     "execution_count": 67,
     "metadata": {},
     "output_type": "execute_result"
    },
    {
     "data": {
      "image/png": "[encoded data removed]",
      "text/plain": [
       "<Figure size 432x288 with 1 Axes>"
      ]
     },
     "metadata": {
      "needs_background": "light"
     },
     "output_type": "display_data"
    }
   ],
   "source": [
    "plt.scatter(x.reshape(-1, 1), y_train_pred)\n",
    "plt.scatter(x.reshape(-1, 1), y_, color='yellow')\n",
    "plt.plot(x, f(x), color='red')"
   ]
  },
  {
   "cell_type": "markdown",
   "metadata": {},
   "source": [
    "# 2. Complete the unfinished KNN Model using pure python to solve the previous Line-Regression problem. (8 points)"
   ]
  },
  {
   "cell_type": "markdown",
   "metadata": {},
   "source": [
    "<评阅点>:\n",
    "> + 是否完成了KNN模型 (4')\n",
    "+ 是否能够预测新的数据 (4')"
   ]
  },
  {
   "cell_type": "markdown",
   "metadata": {},
   "source": [
    "### 算法描述\n",
    "1）计算测试数据与各个训练数据之间的距离；\n",
    "\n",
    "2）按照距离的递增关系进行排序；\n",
    "\n",
    "3）选取距离最小的K个点；\n",
    "\n",
    "4）确定前K个点所在类别的出现频率；\n",
    "\n",
    "5）返回前K个点中出现频率最高的类别作为测试数据的预测分类。"
   ]
  },
  {
   "cell_type": "code",
   "execution_count": 68,
   "metadata": {},
   "outputs": [],
   "source": [
    "def model(x, y):\n",
    "    return [(xi, yi) for xi, yi in zip(x, y)]"
   ]
  },
  {
   "cell_type": "code",
   "execution_count": 69,
   "metadata": {},
   "outputs": [
    {
     "data": {
      "text/plain": [
       "[(0.8662368999786889, 15.528605899765578),\n",
       " (0.9638984092844792, 17.60288250212927),\n",
       " (0.25552968422387146, 9.810826526462586),\n",
       " (0.19287037324957468, 2.1215741057453217),\n",
       " (0.7911823910198326, 11.703006301218158),\n",
       " (0.8669560612458527, 14.53651667370438),\n",
       " (0.9660790927231632, 15.626870019954795),\n",
       " (0.7927695194000783, 12.720464713400862),\n",
       " (0.026329129478447233, 1.2896204242629192),\n",
       " (0.7640365008303055, 8.404401509133361),\n",
       " (0.00919732216921465, 6.101170543861361),\n",
       " (0.8448160826787772, 16.29297690946655),\n",
       " (0.48693135795064013, 11.356244937457042),\n",
       " (0.01691653127613013, 0.18608184403743167),\n",
       " (0.38285448300147795, 9.211399313016258),\n",
       " (0.47650577894599544, 10.241563568405951),\n",
       " (0.15712658929404522, 8.728392482234497),\n",
       " (0.7168136669988568, 12.884950336987426),\n",
       " (0.4067405804705889, 11.474146385176478),\n",
       " (0.7825573326182421, 13.608130658800663)]"
      ]
     },
     "execution_count": 69,
     "metadata": {},
     "output_type": "execute_result"
    }
   ],
   "source": [
    "model(x,y)"
   ]
  },
  {
   "cell_type": "code",
   "execution_count": 70,
   "metadata": {},
   "outputs": [],
   "source": [
    "# 计算一维数组之间的余弦距离\n",
    "from scipy.spatial.distance import cosine"
   ]
  },
  {
   "cell_type": "code",
   "execution_count": 72,
   "metadata": {},
   "outputs": [],
   "source": [
    "def distance(x1, x2):\n",
    "    return cosine(x1, x2)"
   ]
  },
  {
   "cell_type": "code",
   "execution_count": 82,
   "metadata": {},
   "outputs": [],
   "source": [
    "def predict(x_, k=6):\n",
    "    most_simiars = sorted(model(x, y), key=lambda xi: distance(xi[0], x_))[:k]\n",
    "    print(most_simiars)\n",
    "    y_hats = [_y for x, _y in most_simiars]\n",
    "    return np.mean(y_hats)"
   ]
  },
  {
   "cell_type": "markdown",
   "metadata": {},
   "source": [
    "### 预测新数据"
   ]
  },
  {
   "cell_type": "code",
   "execution_count": 84,
   "metadata": {},
   "outputs": [
    {
     "name": "stdout",
     "output_type": "stream",
     "text": [
      "[(0.8662368999786889, 15.528605899765578), (0.9638984092844792, 17.60288250212927), (0.25552968422387146, 9.810826526462586), (0.19287037324957468, 2.1215741057453217), (0.7911823910198326, 11.703006301218158), (0.9660790927231632, 15.626870019954795)]\n"
     ]
    },
    {
     "data": {
      "text/plain": [
       "12.06562755921262"
      ]
     },
     "execution_count": 84,
     "metadata": {},
     "output_type": "execute_result"
    }
   ],
   "source": [
    "predict(0.8)"
   ]
  },
  {
   "cell_type": "markdown",
   "metadata": {},
   "source": [
    "# 3. Re-code the Decision Tree, which could sort the features by salience. (12 points)"
   ]
  },
  {
   "cell_type": "markdown",
   "metadata": {},
   "source": [
    "<评阅点>\n",
    "> + 是否实现了信息熵 (1' )\n",
    "+ 是否实现了最优先特征点的选择(5')\n",
    "+ 是否实现了持续的特征选则(6')"
   ]
  },
  {
   "cell_type": "markdown",
   "metadata": {},
   "source": [
    "## 3.1 信息熵"
   ]
  },
  {
   "cell_type": "code",
   "execution_count": 85,
   "metadata": {},
   "outputs": [],
   "source": [
    "from collections import Counter"
   ]
  },
  {
   "cell_type": "code",
   "execution_count": 87,
   "metadata": {},
   "outputs": [
    {
     "name": "stdout",
     "output_type": "stream",
     "text": [
      "Collecting icecream\n",
      "  Downloading https://files.pythonhosted.org/packages/8c/ec/821ef939e8e4f4306e7263afa7e2ce0b4c5da9e6e53d1cc97b01606035f8/icecream-2.0.0-py2.py3-none-any.whl\n",
      "Requirement already satisfied: pygments>=2.2.0 in /Users/stone/anaconda3/lib/python3.7/site-packages (from icecream) (2.3.1)\n",
      "Collecting asttokens>=2.0.1 (from icecream)\n",
      "  Downloading https://files.pythonhosted.org/packages/e8/18/41e95b4a6b4fd3ae704e672da5d070272518995f580be79d772be312c4af/asttokens-2.0.3-py2.py3-none-any.whl\n",
      "Collecting executing>=0.3.1 (from icecream)\n",
      "  Downloading https://files.pythonhosted.org/packages/79/a1/f85482473b12b2b0e1fa10da84d4280930dbd6e4e149cedf7ae91f894138/executing-0.4.1.tar.gz\n",
      "Requirement already satisfied: colorama>=0.3.9 in /Users/stone/anaconda3/lib/python3.7/site-packages (from icecream) (0.4.1)\n",
      "Requirement already satisfied: six in /Users/stone/anaconda3/lib/python3.7/site-packages (from asttokens>=2.0.1->icecream) (1.12.0)\n",
      "Building wheels for collected packages: executing\n",
      "  Building wheel for executing (setup.py) ... \u001b[?25ldone\n",
      "\u001b[?25h  Stored in directory: /Users/stone/Library/Caches/pip/wheels/b0/71/dc/c1bdcd4b384c4458b639dfa905bc093979b8779f2e0df78792\n",
      "Successfully built executing\n",
      "Installing collected packages: asttokens, executing, icecream\n",
      "Successfully installed asttokens-2.0.3 executing-0.4.1 icecream-2.0.0\n"
     ]
    }
   ],
   "source": [
    "!pip install icecream"
   ]
  },
  {
   "cell_type": "code",
   "execution_count": 88,
   "metadata": {},
   "outputs": [],
   "source": [
    "from icecream import ic"
   ]
  },
  {
   "cell_type": "markdown",
   "metadata": {},
   "source": [
    "$$ Entropy = -\\sum_i^n Pr(x_i)log(Pr(x_i)) $$"
   ]
  },
  {
   "cell_type": "code",
   "execution_count": 114,
   "metadata": {},
   "outputs": [],
   "source": [
    "def entropy(elements_list):\n",
    "    length = len(elements_list)\n",
    "    counter = Counter(elements_list)\n",
    "    probs = [counter[c] / length for c in set(elements_list)]\n",
    "#     print(probs)\n",
    "    ic(probs)\n",
    "    # 不写底数时默认以e为底\n",
    "    return -sum(p * np.log(p) for p in probs)"
   ]
  },
  {
   "cell_type": "code",
   "execution_count": 115,
   "metadata": {},
   "outputs": [],
   "source": [
    "elements_list = [[1, 3, 4, 1], [1, 3, -4, 1], [1, 2, 2, 1], [1, 1, 1, 1]]"
   ]
  },
  {
   "cell_type": "code",
   "execution_count": 116,
   "metadata": {},
   "outputs": [
    {
     "name": "stderr",
     "output_type": "stream",
     "text": [
      "ic| probs: [0.5, 0.25, 0.25]\n",
      "ic| probs: [0.5, 0.25, 0.25]\n",
      "ic| probs: [0.5, 0.5]\n",
      "ic| probs: [1.0]\n"
     ]
    },
    {
     "name": "stdout",
     "output_type": "stream",
     "text": [
      "[1, 3, 4, 1] ==> 1.0397207708399179\n",
      "[1, 3, -4, 1] ==> 1.0397207708399179\n",
      "[1, 2, 2, 1] ==> 0.6931471805599453\n",
      "[1, 1, 1, 1] ==> -0.0\n"
     ]
    }
   ],
   "source": [
    "for e in elements_list:\n",
    "    print(str(e),'==>', entropy(e))"
   ]
  },
  {
   "cell_type": "markdown",
   "metadata": {},
   "source": [
    "## 3.2 决策树"
   ]
  },
  {
   "cell_type": "code",
   "execution_count": 117,
   "metadata": {},
   "outputs": [],
   "source": [
    "mock_data = {\n",
    "    'gender':['F', 'F', 'F', 'F', 'M', 'M', 'M'],\n",
    "    'income': ['+10', '-10', '+10', '+10', '+10', '+10', '-10'],\n",
    "    'family_number': [1, 1, 2, 1, 1, 1, 2],\n",
    "   'pet': [1, 1, 1, 0, 0, 0, 1],\n",
    "    'bought': [1, 1, 1, 0, 0, 0, 1],\n",
    "}"
   ]
  },
  {
   "cell_type": "code",
   "execution_count": 118,
   "metadata": {},
   "outputs": [],
   "source": [
    "import pandas as pd"
   ]
  },
  {
   "cell_type": "code",
   "execution_count": 119,
   "metadata": {},
   "outputs": [],
   "source": [
    "dataset = pd.DataFrame.from_dict(mock_data)"
   ]
  },
  {
   "cell_type": "code",
   "execution_count": 120,
   "metadata": {},
   "outputs": [
    {
     "data": {
      "text/html": [
       "<div>\n",
       "<style scoped>\n",
       "    .dataframe tbody tr th:only-of-type {\n",
       "        vertical-align: middle;\n",
       "    }\n",
       "\n",
       "    .dataframe tbody tr th {\n",
       "        vertical-align: top;\n",
       "    }\n",
       "\n",
       "    .dataframe thead th {\n",
       "        text-align: right;\n",
       "    }\n",
       "</style>\n",
       "<table border=\"1\" class=\"dataframe\">\n",
       "  <thead>\n",
       "    <tr style=\"text-align: right;\">\n",
       "      <th></th>\n",
       "      <th>gender</th>\n",
       "      <th>income</th>\n",
       "      <th>family_number</th>\n",
       "      <th>pet</th>\n",
       "      <th>bought</th>\n",
       "    </tr>\n",
       "  </thead>\n",
       "  <tbody>\n",
       "    <tr>\n",
       "      <th>0</th>\n",
       "      <td>F</td>\n",
       "      <td>+10</td>\n",
       "      <td>1</td>\n",
       "      <td>1</td>\n",
       "      <td>1</td>\n",
       "    </tr>\n",
       "    <tr>\n",
       "      <th>1</th>\n",
       "      <td>F</td>\n",
       "      <td>-10</td>\n",
       "      <td>1</td>\n",
       "      <td>1</td>\n",
       "      <td>1</td>\n",
       "    </tr>\n",
       "    <tr>\n",
       "      <th>2</th>\n",
       "      <td>F</td>\n",
       "      <td>+10</td>\n",
       "      <td>2</td>\n",
       "      <td>1</td>\n",
       "      <td>1</td>\n",
       "    </tr>\n",
       "    <tr>\n",
       "      <th>3</th>\n",
       "      <td>F</td>\n",
       "      <td>+10</td>\n",
       "      <td>1</td>\n",
       "      <td>0</td>\n",
       "      <td>0</td>\n",
       "    </tr>\n",
       "    <tr>\n",
       "      <th>4</th>\n",
       "      <td>M</td>\n",
       "      <td>+10</td>\n",
       "      <td>1</td>\n",
       "      <td>0</td>\n",
       "      <td>0</td>\n",
       "    </tr>\n",
       "    <tr>\n",
       "      <th>5</th>\n",
       "      <td>M</td>\n",
       "      <td>+10</td>\n",
       "      <td>1</td>\n",
       "      <td>0</td>\n",
       "      <td>0</td>\n",
       "    </tr>\n",
       "    <tr>\n",
       "      <th>6</th>\n",
       "      <td>M</td>\n",
       "      <td>-10</td>\n",
       "      <td>2</td>\n",
       "      <td>1</td>\n",
       "      <td>1</td>\n",
       "    </tr>\n",
       "  </tbody>\n",
       "</table>\n",
       "</div>"
      ],
      "text/plain": [
       "  gender income  family_number  pet  bought\n",
       "0      F    +10              1    1       1\n",
       "1      F    -10              1    1       1\n",
       "2      F    +10              2    1       1\n",
       "3      F    +10              1    0       0\n",
       "4      M    +10              1    0       0\n",
       "5      M    +10              1    0       0\n",
       "6      M    -10              2    1       1"
      ]
     },
     "execution_count": 120,
     "metadata": {},
     "output_type": "execute_result"
    }
   ],
   "source": [
    "dataset"
   ]
  },
  {
   "cell_type": "code",
   "execution_count": 122,
   "metadata": {},
   "outputs": [
    {
     "name": "stderr",
     "output_type": "stream",
     "text": [
      "ic| probs: [0.25, 0.75]\n",
      "ic| probs: [0.6666666666666666, 0.3333333333333333]\n",
      "ic| probs: [0.6, 0.4]\n",
      "ic| probs: [1.0]\n",
      "ic| probs: [0.6, 0.4]\n",
      "ic| probs: [1.0]\n",
      "ic| probs: [1.0]\n",
      "ic| probs: [1.0]\n"
     ]
    },
    {
     "name": "stdout",
     "output_type": "stream",
     "text": [
      "split_by_gender: 1.198849312913621\n",
      "split_by_income: 0.6730116670092565\n",
      "split_by_family_number 0.6730116670092565\n",
      "split_by_pet: -0.0\n"
     ]
    }
   ],
   "source": [
    "# split_by_gender: \n",
    "print(\"split_by_gender:\",entropy([1, 1, 1, 0]) + entropy([0, 0, 1]))\n",
    "\n",
    "# split_by_income:\n",
    "print(\"split_by_income:\",entropy([1, 1, 0, 0, 0]) + entropy([1, 1]))\n",
    "\n",
    "# split_by_family_number\n",
    "print(\"split_by_family_number\",entropy([1, 1, 0, 0, 0]) + entropy([1, 1]))\n",
    "\n",
    "# split_by_pet\n",
    "print(\"split_by_pet:\",entropy([1, 1, 1, 1]) + entropy([0, 0, 0]))"
   ]
  },
  {
   "cell_type": "code",
   "execution_count": 143,
   "metadata": {},
   "outputs": [
    {
     "name": "stdout",
     "output_type": "stream",
     "text": [
      "0     True\n",
      "1     True\n",
      "2    False\n",
      "3     True\n",
      "4     True\n",
      "5     True\n",
      "6    False\n",
      "Name: family_number, dtype: bool\n"
     ]
    }
   ],
   "source": [
    "print(dataset['family_number'] == 1)"
   ]
  },
  {
   "cell_type": "code",
   "execution_count": 146,
   "metadata": {},
   "outputs": [
    {
     "data": {
      "text/plain": [
       "0    1\n",
       "1    1\n",
       "2    1\n",
       "3    0\n",
       "4    0\n",
       "5    0\n",
       "6    1\n",
       "Name: bought, dtype: int64"
      ]
     },
     "execution_count": 146,
     "metadata": {},
     "output_type": "execute_result"
    }
   ],
   "source": [
    "dataset['bought']"
   ]
  },
  {
   "cell_type": "code",
   "execution_count": 140,
   "metadata": {},
   "outputs": [],
   "source": [
    "sub_split_1 = dataset[dataset['family_number'] == 1]['bought'].tolist()"
   ]
  },
  {
   "cell_type": "code",
   "execution_count": 141,
   "metadata": {},
   "outputs": [
    {
     "data": {
      "text/plain": [
       "[1, 1, 0, 0, 0]"
      ]
     },
     "execution_count": 141,
     "metadata": {},
     "output_type": "execute_result"
    }
   ],
   "source": [
    "sub_split_1"
   ]
  },
  {
   "cell_type": "code",
   "execution_count": 127,
   "metadata": {},
   "outputs": [],
   "source": [
    "splited_data = dataset[dataset['family_number'] == 1]"
   ]
  },
  {
   "cell_type": "code",
   "execution_count": 128,
   "metadata": {},
   "outputs": [
    {
     "data": {
      "text/html": [
       "<div>\n",
       "<style scoped>\n",
       "    .dataframe tbody tr th:only-of-type {\n",
       "        vertical-align: middle;\n",
       "    }\n",
       "\n",
       "    .dataframe tbody tr th {\n",
       "        vertical-align: top;\n",
       "    }\n",
       "\n",
       "    .dataframe thead th {\n",
       "        text-align: right;\n",
       "    }\n",
       "</style>\n",
       "<table border=\"1\" class=\"dataframe\">\n",
       "  <thead>\n",
       "    <tr style=\"text-align: right;\">\n",
       "      <th></th>\n",
       "      <th>gender</th>\n",
       "      <th>income</th>\n",
       "      <th>family_number</th>\n",
       "      <th>pet</th>\n",
       "      <th>bought</th>\n",
       "    </tr>\n",
       "  </thead>\n",
       "  <tbody>\n",
       "    <tr>\n",
       "      <th>0</th>\n",
       "      <td>F</td>\n",
       "      <td>+10</td>\n",
       "      <td>1</td>\n",
       "      <td>1</td>\n",
       "      <td>1</td>\n",
       "    </tr>\n",
       "    <tr>\n",
       "      <th>1</th>\n",
       "      <td>F</td>\n",
       "      <td>-10</td>\n",
       "      <td>1</td>\n",
       "      <td>1</td>\n",
       "      <td>1</td>\n",
       "    </tr>\n",
       "    <tr>\n",
       "      <th>3</th>\n",
       "      <td>F</td>\n",
       "      <td>+10</td>\n",
       "      <td>1</td>\n",
       "      <td>0</td>\n",
       "      <td>0</td>\n",
       "    </tr>\n",
       "    <tr>\n",
       "      <th>4</th>\n",
       "      <td>M</td>\n",
       "      <td>+10</td>\n",
       "      <td>1</td>\n",
       "      <td>0</td>\n",
       "      <td>0</td>\n",
       "    </tr>\n",
       "    <tr>\n",
       "      <th>5</th>\n",
       "      <td>M</td>\n",
       "      <td>+10</td>\n",
       "      <td>1</td>\n",
       "      <td>0</td>\n",
       "      <td>0</td>\n",
       "    </tr>\n",
       "  </tbody>\n",
       "</table>\n",
       "</div>"
      ],
      "text/plain": [
       "  gender income  family_number  pet  bought\n",
       "0      F    +10              1    1       1\n",
       "1      F    -10              1    1       1\n",
       "3      F    +10              1    0       0\n",
       "4      M    +10              1    0       0\n",
       "5      M    +10              1    0       0"
      ]
     },
     "execution_count": 128,
     "metadata": {},
     "output_type": "execute_result"
    }
   ],
   "source": [
    "splited_data"
   ]
  },
  {
   "cell_type": "code",
   "execution_count": 129,
   "metadata": {},
   "outputs": [
    {
     "data": {
      "text/html": [
       "<div>\n",
       "<style scoped>\n",
       "    .dataframe tbody tr th:only-of-type {\n",
       "        vertical-align: middle;\n",
       "    }\n",
       "\n",
       "    .dataframe tbody tr th {\n",
       "        vertical-align: top;\n",
       "    }\n",
       "\n",
       "    .dataframe thead th {\n",
       "        text-align: right;\n",
       "    }\n",
       "</style>\n",
       "<table border=\"1\" class=\"dataframe\">\n",
       "  <thead>\n",
       "    <tr style=\"text-align: right;\">\n",
       "      <th></th>\n",
       "      <th>gender</th>\n",
       "      <th>income</th>\n",
       "      <th>family_number</th>\n",
       "      <th>pet</th>\n",
       "      <th>bought</th>\n",
       "    </tr>\n",
       "  </thead>\n",
       "  <tbody>\n",
       "    <tr>\n",
       "      <th>0</th>\n",
       "      <td>F</td>\n",
       "      <td>+10</td>\n",
       "      <td>1</td>\n",
       "      <td>1</td>\n",
       "      <td>1</td>\n",
       "    </tr>\n",
       "    <tr>\n",
       "      <th>3</th>\n",
       "      <td>F</td>\n",
       "      <td>+10</td>\n",
       "      <td>1</td>\n",
       "      <td>0</td>\n",
       "      <td>0</td>\n",
       "    </tr>\n",
       "    <tr>\n",
       "      <th>4</th>\n",
       "      <td>M</td>\n",
       "      <td>+10</td>\n",
       "      <td>1</td>\n",
       "      <td>0</td>\n",
       "      <td>0</td>\n",
       "    </tr>\n",
       "    <tr>\n",
       "      <th>5</th>\n",
       "      <td>M</td>\n",
       "      <td>+10</td>\n",
       "      <td>1</td>\n",
       "      <td>0</td>\n",
       "      <td>0</td>\n",
       "    </tr>\n",
       "  </tbody>\n",
       "</table>\n",
       "</div>"
      ],
      "text/plain": [
       "  gender income  family_number  pet  bought\n",
       "0      F    +10              1    1       1\n",
       "3      F    +10              1    0       0\n",
       "4      M    +10              1    0       0\n",
       "5      M    +10              1    0       0"
      ]
     },
     "execution_count": 129,
     "metadata": {},
     "output_type": "execute_result"
    }
   ],
   "source": [
    "splited_data[splited_data['income'] == '+10']"
   ]
  },
  {
   "cell_type": "code",
   "execution_count": 149,
   "metadata": {},
   "outputs": [],
   "source": [
    "def find_optimal_spilter(train_data: pd.DataFrame, target: str) -> str:\n",
    "    # set(train_data.columns.tolist()): {'family_number', 'income', 'gender', 'pet', 'bought'}\n",
    "    x_fields = set(train_data.columns.tolist()) - {target}\n",
    "#     print(x_fields)\n",
    "    spliter = None\n",
    "    min_entropy = float('inf')\n",
    "    for f in x_fields:\n",
    "        \"\"\"\n",
    "        {'M', 'F'}\n",
    "        {1, 2}\n",
    "        {'-10', '+10'}\n",
    "        {0, 1}\n",
    "        \"\"\"\n",
    "        values = set(train_data[f])\n",
    "        print(values)\n",
    "        for v in values:\n",
    "            sub_spliter_1 = train_data[train_data[f] == v][target].tolist()\n",
    "            ic(sub_spliter_1)\n",
    "            entropy_1 = entropy(sub_spliter_1)\n",
    "            \n",
    "            sub_spliter_2 = train_data[train_data[f] != v][target].tolist()\n",
    "            ic(sub_spliter_2)\n",
    "            entropy_2 = entropy(sub_spliter_2)\n",
    "            \n",
    "            entropy_v = entropy_1 + entropy_2\n",
    "            ic(entropy_v)\n",
    "            \n",
    "            if entropy_v <= min_entropy:\n",
    "                min_entropy = entropy_v\n",
    "                spliter = (f, v)\n",
    "    print('spliter is: {}'.format(spliter))\n",
    "    print('the min entropy is: {}'.format(min_entropy))\n",
    "    \n",
    "    return spliter     \n",
    "        "
   ]
  },
  {
   "cell_type": "code",
   "execution_count": 150,
   "metadata": {},
   "outputs": [
    {
     "name": "stderr",
     "output_type": "stream",
     "text": [
      "ic| sub_spliter_1: [0, 0, 1]\n",
      "ic| probs: [0.6666666666666666, 0.3333333333333333]\n",
      "ic| sub_spliter_2: [1, 1, 1, 0]\n",
      "ic| probs: [0.25, 0.75]\n",
      "ic| entropy_v: 1.198849312913621\n",
      "ic| sub_spliter_1: [1, 1, 1, 0]\n",
      "ic| probs: [0.25, 0.75]\n",
      "ic| sub_spliter_2: [0, 0, 1]\n",
      "ic| probs: [0.6666666666666666, 0.3333333333333333]\n",
      "ic| entropy_v: 1.198849312913621\n"
     ]
    },
    {
     "name": "stdout",
     "output_type": "stream",
     "text": [
      "{'M', 'F'}\n",
      "{1, 2}\n"
     ]
    },
    {
     "name": "stderr",
     "output_type": "stream",
     "text": [
      "ic| sub_spliter_1: [1, 1, 0, 0, 0]\n",
      "ic| probs: [0.6, 0.4]\n",
      "ic| sub_spliter_2: [1, 1]\n",
      "ic| probs: [1.0]\n",
      "ic| entropy_v: 0.6730116670092565\n",
      "ic| sub_spliter_1: [1, 1]\n",
      "ic| probs: [1.0]\n",
      "ic| sub_spliter_2: [1, 1, 0, 0, 0]\n",
      "ic| probs: [0.6, 0.4]\n",
      "ic| entropy_v: 0.6730116670092565\n",
      "ic| sub_spliter_1: [1, 1]\n",
      "ic| probs: [1.0]\n",
      "ic| sub_spliter_2: [1, 1, 0, 0, 0]\n",
      "ic| probs: [0.6, 0.4]\n",
      "ic| entropy_v: 0.6730116670092565\n",
      "ic| sub_spliter_1: [1, 1, 0, 0, 0]\n",
      "ic| probs: [0.6, 0.4]\n",
      "ic| sub_spliter_2: [1, 1]\n",
      "ic| probs: [1.0]\n",
      "ic| entropy_v: 0.6730116670092565\n",
      "ic| sub_spliter_1: [0, 0, 0]\n",
      "ic| probs: [1.0]\n"
     ]
    },
    {
     "name": "stdout",
     "output_type": "stream",
     "text": [
      "{'-10', '+10'}\n",
      "{0, 1}\n"
     ]
    },
    {
     "name": "stderr",
     "output_type": "stream",
     "text": [
      "ic| sub_spliter_2: [1, 1, 1, 1]\n",
      "ic| probs: [1.0]\n",
      "ic| entropy_v: -0.0\n",
      "ic| sub_spliter_1: [1, 1, 1, 1]\n",
      "ic| probs: [1.0]\n",
      "ic| sub_spliter_2: [0, 0, 0]\n",
      "ic| probs: [1.0]\n",
      "ic| entropy_v: -0.0\n"
     ]
    },
    {
     "name": "stdout",
     "output_type": "stream",
     "text": [
      "spliter is: ('pet', 1)\n",
      "the min entropy is: -0.0\n"
     ]
    },
    {
     "data": {
      "text/plain": [
       "('pet', 1)"
      ]
     },
     "execution_count": 150,
     "metadata": {},
     "output_type": "execute_result"
    }
   ],
   "source": [
    "find_optimal_spilter(train_data=dataset, target='bought')"
   ]
  },
  {
   "cell_type": "code",
   "execution_count": 152,
   "metadata": {},
   "outputs": [
    {
     "name": "stderr",
     "output_type": "stream",
     "text": [
      "ic| sub_spliter_1: [0, 0]\n",
      "ic| probs: [1.0]\n",
      "ic| sub_spliter_2: [1, 1, 0]\n",
      "ic| probs: [0.3333333333333333, 0.6666666666666666]\n",
      "ic| entropy_v: 0.6365141682948128\n",
      "ic| sub_spliter_1: [1, 1, 0]\n",
      "ic| probs: [0.3333333333333333, 0.6666666666666666]\n",
      "ic| sub_spliter_2: [0, 0]\n",
      "ic| probs: [1.0]\n",
      "ic| entropy_v: 0.6365141682948128\n"
     ]
    },
    {
     "name": "stdout",
     "output_type": "stream",
     "text": [
      "{'M', 'F'}\n",
      "{1}\n"
     ]
    },
    {
     "name": "stderr",
     "output_type": "stream",
     "text": [
      "ic| sub_spliter_1: [1, 1, 0, 0, 0]\n",
      "ic| probs: [0.6, 0.4]\n",
      "ic| sub_spliter_2: []\n",
      "ic| probs: []\n",
      "ic| entropy_v: 0.6730116670092565\n",
      "ic| sub_spliter_1: [1]\n",
      "ic| probs: [1.0]\n",
      "ic| sub_spliter_2: [1, 0, 0, 0]\n",
      "ic| probs: [0.75, 0.25]\n",
      "ic| entropy_v: 0.5623351446188083\n",
      "ic| sub_spliter_1: [1, 0, 0, 0]\n",
      "ic| probs: [0.75, 0.25]\n",
      "ic| sub_spliter_2: [1]\n",
      "ic| probs: [1.0]\n",
      "ic| entropy_v: 0.5623351446188083\n",
      "ic| sub_spliter_1: [0, 0, 0]\n",
      "ic| probs: "
     ]
    },
    {
     "name": "stdout",
     "output_type": "stream",
     "text": [
      "{'-10', '+10'}\n",
      "{0, 1}\n"
     ]
    },
    {
     "name": "stderr",
     "output_type": "stream",
     "text": [
      "[1.0]\n",
      "ic| sub_spliter_2: [1, 1]\n",
      "ic| probs: [1.0]\n",
      "ic| entropy_v: -0.0\n",
      "ic| sub_spliter_1: [1, 1]\n",
      "ic| probs: [1.0]\n",
      "ic| sub_spliter_2: [0, 0, 0]\n",
      "ic| probs: [1.0]\n",
      "ic| entropy_v: -0.0\n"
     ]
    },
    {
     "name": "stdout",
     "output_type": "stream",
     "text": [
      "spliter is: ('pet', 1)\n",
      "the min entropy is: -0.0\n"
     ]
    },
    {
     "data": {
      "text/plain": [
       "('pet', 1)"
      ]
     },
     "execution_count": 152,
     "metadata": {},
     "output_type": "execute_result"
    }
   ],
   "source": [
    "find_optimal_spilter(dataset[dataset['family_number'] == 1], 'bought')"
   ]
  },
  {
   "cell_type": "code",
   "execution_count": 153,
   "metadata": {},
   "outputs": [],
   "source": [
    "fm_n_1 = dataset[dataset['family_number'] == 1]"
   ]
  },
  {
   "cell_type": "code",
   "execution_count": 155,
   "metadata": {},
   "outputs": [
    {
     "data": {
      "text/html": [
       "<div>\n",
       "<style scoped>\n",
       "    .dataframe tbody tr th:only-of-type {\n",
       "        vertical-align: middle;\n",
       "    }\n",
       "\n",
       "    .dataframe tbody tr th {\n",
       "        vertical-align: top;\n",
       "    }\n",
       "\n",
       "    .dataframe thead th {\n",
       "        text-align: right;\n",
       "    }\n",
       "</style>\n",
       "<table border=\"1\" class=\"dataframe\">\n",
       "  <thead>\n",
       "    <tr style=\"text-align: right;\">\n",
       "      <th></th>\n",
       "      <th>gender</th>\n",
       "      <th>income</th>\n",
       "      <th>family_number</th>\n",
       "      <th>pet</th>\n",
       "      <th>bought</th>\n",
       "    </tr>\n",
       "  </thead>\n",
       "  <tbody>\n",
       "    <tr>\n",
       "      <th>0</th>\n",
       "      <td>F</td>\n",
       "      <td>+10</td>\n",
       "      <td>1</td>\n",
       "      <td>1</td>\n",
       "      <td>1</td>\n",
       "    </tr>\n",
       "    <tr>\n",
       "      <th>1</th>\n",
       "      <td>F</td>\n",
       "      <td>-10</td>\n",
       "      <td>1</td>\n",
       "      <td>1</td>\n",
       "      <td>1</td>\n",
       "    </tr>\n",
       "    <tr>\n",
       "      <th>3</th>\n",
       "      <td>F</td>\n",
       "      <td>+10</td>\n",
       "      <td>1</td>\n",
       "      <td>0</td>\n",
       "      <td>0</td>\n",
       "    </tr>\n",
       "    <tr>\n",
       "      <th>4</th>\n",
       "      <td>M</td>\n",
       "      <td>+10</td>\n",
       "      <td>1</td>\n",
       "      <td>0</td>\n",
       "      <td>0</td>\n",
       "    </tr>\n",
       "    <tr>\n",
       "      <th>5</th>\n",
       "      <td>M</td>\n",
       "      <td>+10</td>\n",
       "      <td>1</td>\n",
       "      <td>0</td>\n",
       "      <td>0</td>\n",
       "    </tr>\n",
       "  </tbody>\n",
       "</table>\n",
       "</div>"
      ],
      "text/plain": [
       "  gender income  family_number  pet  bought\n",
       "0      F    +10              1    1       1\n",
       "1      F    -10              1    1       1\n",
       "3      F    +10              1    0       0\n",
       "4      M    +10              1    0       0\n",
       "5      M    +10              1    0       0"
      ]
     },
     "execution_count": 155,
     "metadata": {},
     "output_type": "execute_result"
    }
   ],
   "source": [
    "fm_n_1"
   ]
  },
  {
   "cell_type": "code",
   "execution_count": 156,
   "metadata": {},
   "outputs": [
    {
     "data": {
      "text/html": [
       "<div>\n",
       "<style scoped>\n",
       "    .dataframe tbody tr th:only-of-type {\n",
       "        vertical-align: middle;\n",
       "    }\n",
       "\n",
       "    .dataframe tbody tr th {\n",
       "        vertical-align: top;\n",
       "    }\n",
       "\n",
       "    .dataframe thead th {\n",
       "        text-align: right;\n",
       "    }\n",
       "</style>\n",
       "<table border=\"1\" class=\"dataframe\">\n",
       "  <thead>\n",
       "    <tr style=\"text-align: right;\">\n",
       "      <th></th>\n",
       "      <th>gender</th>\n",
       "      <th>income</th>\n",
       "      <th>family_number</th>\n",
       "      <th>pet</th>\n",
       "      <th>bought</th>\n",
       "    </tr>\n",
       "  </thead>\n",
       "  <tbody>\n",
       "    <tr>\n",
       "      <th>0</th>\n",
       "      <td>F</td>\n",
       "      <td>+10</td>\n",
       "      <td>1</td>\n",
       "      <td>1</td>\n",
       "      <td>1</td>\n",
       "    </tr>\n",
       "    <tr>\n",
       "      <th>3</th>\n",
       "      <td>F</td>\n",
       "      <td>+10</td>\n",
       "      <td>1</td>\n",
       "      <td>0</td>\n",
       "      <td>0</td>\n",
       "    </tr>\n",
       "    <tr>\n",
       "      <th>4</th>\n",
       "      <td>M</td>\n",
       "      <td>+10</td>\n",
       "      <td>1</td>\n",
       "      <td>0</td>\n",
       "      <td>0</td>\n",
       "    </tr>\n",
       "    <tr>\n",
       "      <th>5</th>\n",
       "      <td>M</td>\n",
       "      <td>+10</td>\n",
       "      <td>1</td>\n",
       "      <td>0</td>\n",
       "      <td>0</td>\n",
       "    </tr>\n",
       "  </tbody>\n",
       "</table>\n",
       "</div>"
      ],
      "text/plain": [
       "  gender income  family_number  pet  bought\n",
       "0      F    +10              1    1       1\n",
       "3      F    +10              1    0       0\n",
       "4      M    +10              1    0       0\n",
       "5      M    +10              1    0       0"
      ]
     },
     "execution_count": 156,
     "metadata": {},
     "output_type": "execute_result"
    }
   ],
   "source": [
    "fm_n_1[fm_n_1['income'] == '+10']"
   ]
  },
  {
   "cell_type": "code",
   "execution_count": 157,
   "metadata": {},
   "outputs": [
    {
     "data": {
      "text/html": [
       "<div>\n",
       "<style scoped>\n",
       "    .dataframe tbody tr th:only-of-type {\n",
       "        vertical-align: middle;\n",
       "    }\n",
       "\n",
       "    .dataframe tbody tr th {\n",
       "        vertical-align: top;\n",
       "    }\n",
       "\n",
       "    .dataframe thead th {\n",
       "        text-align: right;\n",
       "    }\n",
       "</style>\n",
       "<table border=\"1\" class=\"dataframe\">\n",
       "  <thead>\n",
       "    <tr style=\"text-align: right;\">\n",
       "      <th></th>\n",
       "      <th>gender</th>\n",
       "      <th>income</th>\n",
       "      <th>family_number</th>\n",
       "      <th>pet</th>\n",
       "      <th>bought</th>\n",
       "    </tr>\n",
       "  </thead>\n",
       "  <tbody>\n",
       "    <tr>\n",
       "      <th>1</th>\n",
       "      <td>F</td>\n",
       "      <td>-10</td>\n",
       "      <td>1</td>\n",
       "      <td>1</td>\n",
       "      <td>1</td>\n",
       "    </tr>\n",
       "  </tbody>\n",
       "</table>\n",
       "</div>"
      ],
      "text/plain": [
       "  gender income  family_number  pet  bought\n",
       "1      F    -10              1    1       1"
      ]
     },
     "execution_count": 157,
     "metadata": {},
     "output_type": "execute_result"
    }
   ],
   "source": [
    "fm_n_1[fm_n_1['income'] != '+10']"
   ]
  },
  {
   "cell_type": "code",
   "execution_count": 158,
   "metadata": {},
   "outputs": [
    {
     "name": "stderr",
     "output_type": "stream",
     "text": [
      "ic| sub_spliter_1: [0, 0]\n",
      "ic| probs: [1.0]\n",
      "ic| sub_spliter_2: [1, 0]\n",
      "ic| probs: [0.5, 0.5]\n",
      "ic| entropy_v: 0.6931471805599453\n",
      "ic| sub_spliter_1: [1, 0]\n",
      "ic| probs: [0.5, 0.5]\n",
      "ic| sub_spliter_2: [0, 0]\n",
      "ic| probs: [1.0]\n",
      "ic| entropy_v: 0.6931471805599453\n",
      "ic| sub_spliter_1: [1, 0, "
     ]
    },
    {
     "name": "stdout",
     "output_type": "stream",
     "text": [
      "{'M', 'F'}\n",
      "{1}\n"
     ]
    },
    {
     "name": "stderr",
     "output_type": "stream",
     "text": [
      "0, 0]\n",
      "ic| probs: [0.75, 0.25]\n",
      "ic| sub_spliter_2: []\n",
      "ic| probs: []\n",
      "ic| entropy_v: 0.5623351446188083\n",
      "ic| sub_spliter_1: [1, 0, 0, 0]\n",
      "ic| probs: [0.75, 0.25]\n",
      "ic| sub_spliter_2: []\n",
      "ic| probs: []\n",
      "ic| entropy_v: 0.5623351446188083\n",
      "ic| sub_spliter_1: [0, 0, 0]\n",
      "ic| probs: [1.0]\n",
      "ic| sub_spliter_2: [1]\n",
      "ic| probs: [1.0]\n",
      "ic| entropy_v: -0.0\n",
      "ic| sub_spliter_1: [1]\n",
      "ic| probs: [1.0]\n"
     ]
    },
    {
     "name": "stdout",
     "output_type": "stream",
     "text": [
      "{'+10'}\n",
      "{0, 1}\n"
     ]
    },
    {
     "name": "stderr",
     "output_type": "stream",
     "text": [
      "ic| sub_spliter_2: [0, 0, 0]\n",
      "ic| probs: [1.0]\n",
      "ic| entropy_v: -0.0\n"
     ]
    },
    {
     "name": "stdout",
     "output_type": "stream",
     "text": [
      "spliter is: ('pet', 1)\n",
      "the min entropy is: -0.0\n"
     ]
    },
    {
     "data": {
      "text/plain": [
       "('pet', 1)"
      ]
     },
     "execution_count": 158,
     "metadata": {},
     "output_type": "execute_result"
    }
   ],
   "source": [
    "find_optimal_spilter(fm_n_1[fm_n_1['income'] == '+10'], 'bought')"
   ]
  },
  {
   "cell_type": "markdown",
   "metadata": {},
   "source": [
    "# 4. Finish the K-Means using 2-D matplotlib (8 points)"
   ]
  },
  {
   "cell_type": "markdown",
   "metadata": {},
   "source": [
    "<评阅点>\n",
    "> + 是否完成了KMeans模型，基于scikit-learning (3')\n",
    "+ 是否完成了可视化任务（5'）"
   ]
  },
  {
   "cell_type": "code",
   "execution_count": 159,
   "metadata": {},
   "outputs": [],
   "source": [
    "from sklearn.cluster import KMeans"
   ]
  },
  {
   "cell_type": "code",
   "execution_count": 169,
   "metadata": {},
   "outputs": [],
   "source": [
    "x_test_random = random.randint(0, 10)"
   ]
  },
  {
   "cell_type": "code",
   "execution_count": 170,
   "metadata": {},
   "outputs": [
    {
     "data": {
      "text/plain": [
       "5"
      ]
     },
     "execution_count": 170,
     "metadata": {},
     "output_type": "execute_result"
    }
   ],
   "source": [
    "x_test_random"
   ]
  },
  {
   "cell_type": "code",
   "execution_count": 176,
   "metadata": {},
   "outputs": [],
   "source": [
    "X1 = [random.randint(0, 100) for _ in range(100)]\n",
    "X2 = [random.randint(0, 100) for _ in range(100)]"
   ]
  },
  {
   "cell_type": "code",
   "execution_count": 177,
   "metadata": {
    "scrolled": true
   },
   "outputs": [
    {
     "data": {
      "text/plain": [
       "[100,\n",
       " 21,\n",
       " 72,\n",
       " 20,\n",
       " 96,\n",
       " 94,\n",
       " 20,\n",
       " 15,\n",
       " 24,\n",
       " 48,\n",
       " 31,\n",
       " 23,\n",
       " 36,\n",
       " 17,\n",
       " 66,\n",
       " 26,\n",
       " 47,\n",
       " 41,\n",
       " 46,\n",
       " 89,\n",
       " 98,\n",
       " 7,\n",
       " 94,\n",
       " 64,\n",
       " 13,\n",
       " 92,\n",
       " 71,\n",
       " 44,\n",
       " 6,\n",
       " 28,\n",
       " 57,\n",
       " 31,\n",
       " 92,\n",
       " 90,\n",
       " 46,\n",
       " 0,\n",
       " 17,\n",
       " 68,\n",
       " 41,\n",
       " 2,\n",
       " 48,\n",
       " 80,\n",
       " 35,\n",
       " 53,\n",
       " 53,\n",
       " 83,\n",
       " 0,\n",
       " 54,\n",
       " 16,\n",
       " 21,\n",
       " 40,\n",
       " 7,\n",
       " 48,\n",
       " 18,\n",
       " 81,\n",
       " 27,\n",
       " 4,\n",
       " 30,\n",
       " 20,\n",
       " 59,\n",
       " 97,\n",
       " 21,\n",
       " 9,\n",
       " 76,\n",
       " 41,\n",
       " 37,\n",
       " 71,\n",
       " 45,\n",
       " 34,\n",
       " 22,\n",
       " 97,\n",
       " 0,\n",
       " 83,\n",
       " 24,\n",
       " 4,\n",
       " 54,\n",
       " 59,\n",
       " 44,\n",
       " 57,\n",
       " 94,\n",
       " 25,\n",
       " 52,\n",
       " 71,\n",
       " 43,\n",
       " 54,\n",
       " 50,\n",
       " 98,\n",
       " 27,\n",
       " 50,\n",
       " 86,\n",
       " 24,\n",
       " 49,\n",
       " 0,\n",
       " 38,\n",
       " 7,\n",
       " 11,\n",
       " 40,\n",
       " 40,\n",
       " 0,\n",
       " 10]"
      ]
     },
     "execution_count": 177,
     "metadata": {},
     "output_type": "execute_result"
    }
   ],
   "source": [
    "X1"
   ]
  },
  {
   "cell_type": "code",
   "execution_count": 178,
   "metadata": {},
   "outputs": [
    {
     "data": {
      "text/plain": [
       "<matplotlib.collections.PathCollection at 0x1a21eae208>"
      ]
     },
     "execution_count": 178,
     "metadata": {},
     "output_type": "execute_result"
    },
    {
     "data": {
      "image/png": "[encoded data removed]",
      "text/plain": [
       "<Figure size 432x288 with 1 Axes>"
      ]
     },
     "metadata": {
      "needs_background": "light"
     },
     "output_type": "display_data"
    }
   ],
   "source": [
    "# 画出散点图\n",
    "plt.scatter(x1, x2)"
   ]
  },
  {
   "cell_type": "code",
   "execution_count": 179,
   "metadata": {},
   "outputs": [],
   "source": [
    "train_data = [[x1, x2] for x1, x2 in zip(X1, X2)]"
   ]
  },
  {
   "cell_type": "code",
   "execution_count": 180,
   "metadata": {
    "scrolled": true
   },
   "outputs": [
    {
     "data": {
      "text/plain": [
       "[[100, 39],\n",
       " [21, 77],\n",
       " [72, 38],\n",
       " [20, 42],\n",
       " [96, 75],\n",
       " [94, 31],\n",
       " [20, 32],\n",
       " [15, 58],\n",
       " [24, 55],\n",
       " [48, 40],\n",
       " [31, 60],\n",
       " [23, 93],\n",
       " [36, 23],\n",
       " [17, 89],\n",
       " [66, 98],\n",
       " [26, 22],\n",
       " [47, 47],\n",
       " [41, 73],\n",
       " [46, 45],\n",
       " [89, 18],\n",
       " [98, 49],\n",
       " [7, 1],\n",
       " [94, 51],\n",
       " [64, 30],\n",
       " [13, 50],\n",
       " [92, 58],\n",
       " [71, 15],\n",
       " [44, 19],\n",
       " [6, 26],\n",
       " [28, 39],\n",
       " [57, 29],\n",
       " [31, 99],\n",
       " [92, 2],\n",
       " [90, 33],\n",
       " [46, 50],\n",
       " [0, 16],\n",
       " [17, 35],\n",
       " [68, 68],\n",
       " [41, 69],\n",
       " [2, 84],\n",
       " [48, 8],\n",
       " [80, 20],\n",
       " [35, 59],\n",
       " [53, 28],\n",
       " [53, 35],\n",
       " [83, 68],\n",
       " [0, 61],\n",
       " [54, 30],\n",
       " [16, 74],\n",
       " [21, 62],\n",
       " [40, 43],\n",
       " [7, 9],\n",
       " [48, 87],\n",
       " [18, 25],\n",
       " [81, 2],\n",
       " [27, 25],\n",
       " [4, 3],\n",
       " [30, 81],\n",
       " [20, 96],\n",
       " [59, 9],\n",
       " [97, 22],\n",
       " [21, 94],\n",
       " [9, 46],\n",
       " [76, 64],\n",
       " [41, 11],\n",
       " [37, 21],\n",
       " [71, 90],\n",
       " [45, 26],\n",
       " [34, 68],\n",
       " [22, 30],\n",
       " [97, 71],\n",
       " [0, 88],\n",
       " [83, 100],\n",
       " [24, 15],\n",
       " [4, 64],\n",
       " [54, 45],\n",
       " [59, 47],\n",
       " [44, 97],\n",
       " [57, 12],\n",
       " [94, 40],\n",
       " [25, 100],\n",
       " [52, 22],\n",
       " [71, 46],\n",
       " [43, 6],\n",
       " [54, 19],\n",
       " [50, 35],\n",
       " [98, 34],\n",
       " [27, 40],\n",
       " [50, 92],\n",
       " [86, 85],\n",
       " [24, 55],\n",
       " [49, 44],\n",
       " [0, 69],\n",
       " [38, 91],\n",
       " [7, 16],\n",
       " [11, 41],\n",
       " [40, 24],\n",
       " [40, 86],\n",
       " [0, 30],\n",
       " [10, 88]]"
      ]
     },
     "execution_count": 180,
     "metadata": {},
     "output_type": "execute_result"
    }
   ],
   "source": [
    "train_data"
   ]
  },
  {
   "cell_type": "code",
   "execution_count": 183,
   "metadata": {},
   "outputs": [],
   "source": [
    "cluster = KMeans(n_clusters=6, max_iter=500)"
   ]
  },
  {
   "cell_type": "code",
   "execution_count": 184,
   "metadata": {},
   "outputs": [
    {
     "data": {
      "text/plain": [
       "KMeans(algorithm='auto', copy_x=True, init='k-means++', max_iter=500,\n",
       "    n_clusters=6, n_init=10, n_jobs=None, precompute_distances='auto',\n",
       "    random_state=None, tol=0.0001, verbose=0)"
      ]
     },
     "execution_count": 184,
     "metadata": {},
     "output_type": "execute_result"
    }
   ],
   "source": [
    "cluster.fit(train_data)"
   ]
  },
  {
   "cell_type": "code",
   "execution_count": 185,
   "metadata": {},
   "outputs": [
    {
     "data": {
      "text/plain": [
       "array([[49.07692308, 28.76923077],\n",
       "       [27.6       , 86.3       ],\n",
       "       [81.8       , 77.7       ],\n",
       "       [17.46666667, 53.4       ],\n",
       "       [88.06666667, 29.33333333],\n",
       "       [13.21428571, 20.35714286]])"
      ]
     },
     "execution_count": 185,
     "metadata": {},
     "output_type": "execute_result"
    }
   ],
   "source": [
    "cluster.cluster_centers_"
   ]
  },
  {
   "cell_type": "code",
   "execution_count": 186,
   "metadata": {},
   "outputs": [
    {
     "data": {
      "text/plain": [
       "array([4, 1, 4, 3, 2, 4, 5, 3, 3, 0, 3, 1, 0, 1, 2, 5, 0, 1, 0, 4, 4, 5,\n",
       "       4, 0, 3, 2, 4, 0, 5, 3, 0, 1, 4, 4, 0, 5, 5, 2, 1, 1, 0, 4, 3, 0,\n",
       "       0, 2, 3, 0, 1, 3, 0, 5, 1, 5, 4, 5, 5, 1, 1, 0, 4, 1, 3, 2, 0, 0,\n",
       "       2, 0, 1, 5, 2, 1, 2, 5, 3, 0, 0, 1, 0, 4, 1, 0, 4, 0, 0, 0, 4, 3,\n",
       "       1, 2, 3, 0, 3, 1, 5, 3, 0, 1, 5, 1], dtype=int32)"
      ]
     },
     "execution_count": 186,
     "metadata": {},
     "output_type": "execute_result"
    }
   ],
   "source": [
    "cluster.labels_"
   ]
  },
  {
   "cell_type": "code",
   "execution_count": 187,
   "metadata": {},
   "outputs": [],
   "source": [
    "from collections import defaultdict"
   ]
  },
  {
   "cell_type": "code",
   "execution_count": 188,
   "metadata": {},
   "outputs": [],
   "source": [
    "centers = defaultdict(list)"
   ]
  },
  {
   "cell_type": "code",
   "execution_count": 192,
   "metadata": {},
   "outputs": [],
   "source": [
    "for label, location in zip(cluster.labels_, train_data):\n",
    "    centers[label].append(location)\n",
    "# print(centers)"
   ]
  },
  {
   "cell_type": "code",
   "execution_count": 193,
   "metadata": {},
   "outputs": [
    {
     "data": {
      "text/plain": [
       "defaultdict(list,\n",
       "            {4: [[100, 39],\n",
       "              [72, 38],\n",
       "              [94, 31],\n",
       "              [89, 18],\n",
       "              [98, 49],\n",
       "              [94, 51],\n",
       "              [71, 15],\n",
       "              [92, 2],\n",
       "              [90, 33],\n",
       "              [80, 20],\n",
       "              [81, 2],\n",
       "              [97, 22],\n",
       "              [94, 40],\n",
       "              [71, 46],\n",
       "              [98, 34],\n",
       "              [100, 39],\n",
       "              [72, 38],\n",
       "              [94, 31],\n",
       "              [89, 18],\n",
       "              [98, 49],\n",
       "              [94, 51],\n",
       "              [71, 15],\n",
       "              [92, 2],\n",
       "              [90, 33],\n",
       "              [80, 20],\n",
       "              [81, 2],\n",
       "              [97, 22],\n",
       "              [94, 40],\n",
       "              [71, 46],\n",
       "              [98, 34],\n",
       "              [100, 39],\n",
       "              [72, 38],\n",
       "              [94, 31],\n",
       "              [89, 18],\n",
       "              [98, 49],\n",
       "              [94, 51],\n",
       "              [71, 15],\n",
       "              [92, 2],\n",
       "              [90, 33],\n",
       "              [80, 20],\n",
       "              [81, 2],\n",
       "              [97, 22],\n",
       "              [94, 40],\n",
       "              [71, 46],\n",
       "              [98, 34]],\n",
       "             1: [[21, 77],\n",
       "              [23, 93],\n",
       "              [17, 89],\n",
       "              [41, 73],\n",
       "              [31, 99],\n",
       "              [41, 69],\n",
       "              [2, 84],\n",
       "              [16, 74],\n",
       "              [48, 87],\n",
       "              [30, 81],\n",
       "              [20, 96],\n",
       "              [21, 94],\n",
       "              [34, 68],\n",
       "              [0, 88],\n",
       "              [44, 97],\n",
       "              [25, 100],\n",
       "              [50, 92],\n",
       "              [38, 91],\n",
       "              [40, 86],\n",
       "              [10, 88],\n",
       "              [21, 77],\n",
       "              [23, 93],\n",
       "              [17, 89],\n",
       "              [41, 73],\n",
       "              [31, 99],\n",
       "              [41, 69],\n",
       "              [2, 84],\n",
       "              [16, 74],\n",
       "              [48, 87],\n",
       "              [30, 81],\n",
       "              [20, 96],\n",
       "              [21, 94],\n",
       "              [34, 68],\n",
       "              [0, 88],\n",
       "              [44, 97],\n",
       "              [25, 100],\n",
       "              [50, 92],\n",
       "              [38, 91],\n",
       "              [40, 86],\n",
       "              [10, 88],\n",
       "              [21, 77],\n",
       "              [23, 93],\n",
       "              [17, 89],\n",
       "              [41, 73],\n",
       "              [31, 99],\n",
       "              [41, 69],\n",
       "              [2, 84],\n",
       "              [16, 74],\n",
       "              [48, 87],\n",
       "              [30, 81],\n",
       "              [20, 96],\n",
       "              [21, 94],\n",
       "              [34, 68],\n",
       "              [0, 88],\n",
       "              [44, 97],\n",
       "              [25, 100],\n",
       "              [50, 92],\n",
       "              [38, 91],\n",
       "              [40, 86],\n",
       "              [10, 88]],\n",
       "             3: [[20, 42],\n",
       "              [15, 58],\n",
       "              [24, 55],\n",
       "              [31, 60],\n",
       "              [13, 50],\n",
       "              [28, 39],\n",
       "              [35, 59],\n",
       "              [0, 61],\n",
       "              [21, 62],\n",
       "              [9, 46],\n",
       "              [4, 64],\n",
       "              [27, 40],\n",
       "              [24, 55],\n",
       "              [0, 69],\n",
       "              [11, 41],\n",
       "              [20, 42],\n",
       "              [15, 58],\n",
       "              [24, 55],\n",
       "              [31, 60],\n",
       "              [13, 50],\n",
       "              [28, 39],\n",
       "              [35, 59],\n",
       "              [0, 61],\n",
       "              [21, 62],\n",
       "              [9, 46],\n",
       "              [4, 64],\n",
       "              [27, 40],\n",
       "              [24, 55],\n",
       "              [0, 69],\n",
       "              [11, 41],\n",
       "              [20, 42],\n",
       "              [15, 58],\n",
       "              [24, 55],\n",
       "              [31, 60],\n",
       "              [13, 50],\n",
       "              [28, 39],\n",
       "              [35, 59],\n",
       "              [0, 61],\n",
       "              [21, 62],\n",
       "              [9, 46],\n",
       "              [4, 64],\n",
       "              [27, 40],\n",
       "              [24, 55],\n",
       "              [0, 69],\n",
       "              [11, 41]],\n",
       "             2: [[96, 75],\n",
       "              [66, 98],\n",
       "              [92, 58],\n",
       "              [68, 68],\n",
       "              [83, 68],\n",
       "              [76, 64],\n",
       "              [71, 90],\n",
       "              [97, 71],\n",
       "              [83, 100],\n",
       "              [86, 85],\n",
       "              [96, 75],\n",
       "              [66, 98],\n",
       "              [92, 58],\n",
       "              [68, 68],\n",
       "              [83, 68],\n",
       "              [76, 64],\n",
       "              [71, 90],\n",
       "              [97, 71],\n",
       "              [83, 100],\n",
       "              [86, 85],\n",
       "              [96, 75],\n",
       "              [66, 98],\n",
       "              [92, 58],\n",
       "              [68, 68],\n",
       "              [83, 68],\n",
       "              [76, 64],\n",
       "              [71, 90],\n",
       "              [97, 71],\n",
       "              [83, 100],\n",
       "              [86, 85]],\n",
       "             5: [[20, 32],\n",
       "              [26, 22],\n",
       "              [7, 1],\n",
       "              [6, 26],\n",
       "              [0, 16],\n",
       "              [17, 35],\n",
       "              [7, 9],\n",
       "              [18, 25],\n",
       "              [27, 25],\n",
       "              [4, 3],\n",
       "              [22, 30],\n",
       "              [24, 15],\n",
       "              [7, 16],\n",
       "              [0, 30],\n",
       "              [20, 32],\n",
       "              [26, 22],\n",
       "              [7, 1],\n",
       "              [6, 26],\n",
       "              [0, 16],\n",
       "              [17, 35],\n",
       "              [7, 9],\n",
       "              [18, 25],\n",
       "              [27, 25],\n",
       "              [4, 3],\n",
       "              [22, 30],\n",
       "              [24, 15],\n",
       "              [7, 16],\n",
       "              [0, 30],\n",
       "              [20, 32],\n",
       "              [26, 22],\n",
       "              [7, 1],\n",
       "              [6, 26],\n",
       "              [0, 16],\n",
       "              [17, 35],\n",
       "              [7, 9],\n",
       "              [18, 25],\n",
       "              [27, 25],\n",
       "              [4, 3],\n",
       "              [22, 30],\n",
       "              [24, 15],\n",
       "              [7, 16],\n",
       "              [0, 30]],\n",
       "             0: [[48, 40],\n",
       "              [36, 23],\n",
       "              [47, 47],\n",
       "              [46, 45],\n",
       "              [64, 30],\n",
       "              [44, 19],\n",
       "              [57, 29],\n",
       "              [46, 50],\n",
       "              [48, 8],\n",
       "              [53, 28],\n",
       "              [53, 35],\n",
       "              [54, 30],\n",
       "              [40, 43],\n",
       "              [59, 9],\n",
       "              [41, 11],\n",
       "              [37, 21],\n",
       "              [45, 26],\n",
       "              [54, 45],\n",
       "              [59, 47],\n",
       "              [57, 12],\n",
       "              [52, 22],\n",
       "              [43, 6],\n",
       "              [54, 19],\n",
       "              [50, 35],\n",
       "              [49, 44],\n",
       "              [40, 24],\n",
       "              [48, 40],\n",
       "              [36, 23],\n",
       "              [47, 47],\n",
       "              [46, 45],\n",
       "              [64, 30],\n",
       "              [44, 19],\n",
       "              [57, 29],\n",
       "              [46, 50],\n",
       "              [48, 8],\n",
       "              [53, 28],\n",
       "              [53, 35],\n",
       "              [54, 30],\n",
       "              [40, 43],\n",
       "              [59, 9],\n",
       "              [41, 11],\n",
       "              [37, 21],\n",
       "              [45, 26],\n",
       "              [54, 45],\n",
       "              [59, 47],\n",
       "              [57, 12],\n",
       "              [52, 22],\n",
       "              [43, 6],\n",
       "              [54, 19],\n",
       "              [50, 35],\n",
       "              [49, 44],\n",
       "              [40, 24],\n",
       "              [48, 40],\n",
       "              [36, 23],\n",
       "              [47, 47],\n",
       "              [46, 45],\n",
       "              [64, 30],\n",
       "              [44, 19],\n",
       "              [57, 29],\n",
       "              [46, 50],\n",
       "              [48, 8],\n",
       "              [53, 28],\n",
       "              [53, 35],\n",
       "              [54, 30],\n",
       "              [40, 43],\n",
       "              [59, 9],\n",
       "              [41, 11],\n",
       "              [37, 21],\n",
       "              [45, 26],\n",
       "              [54, 45],\n",
       "              [59, 47],\n",
       "              [57, 12],\n",
       "              [52, 22],\n",
       "              [43, 6],\n",
       "              [54, 19],\n",
       "              [50, 35],\n",
       "              [49, 44],\n",
       "              [40, 24]]})"
      ]
     },
     "execution_count": 193,
     "metadata": {},
     "output_type": "execute_result"
    }
   ],
   "source": [
    "centers"
   ]
  },
  {
   "cell_type": "code",
   "execution_count": 194,
   "metadata": {},
   "outputs": [],
   "source": [
    "color = ['red', 'green', 'grey', 'black', 'yellow', 'orange']"
   ]
  },
  {
   "cell_type": "code",
   "execution_count": 195,
   "metadata": {},
   "outputs": [
    {
     "data": {
      "image/png": "[encoded data removed]",
      "text/plain": [
       "<Figure size 432x288 with 1 Axes>"
      ]
     },
     "metadata": {
      "needs_background": "light"
     },
     "output_type": "display_data"
    }
   ],
   "source": [
    "for i, c in enumerate(centers):\n",
    "    for location in centers[c]:\n",
    "        plt.scatter(*location, c = color[i]) "
   ]
  },
  {
   "cell_type": "code",
   "execution_count": 198,
   "metadata": {},
   "outputs": [
    {
     "data": {
      "image/png": "[encoded data removed]",
      "text/plain": [
       "<Figure size 432x288 with 1 Axes>"
      ]
     },
     "metadata": {
      "needs_background": "light"
     },
     "output_type": "display_data"
    }
   ],
   "source": [
    "for center in cluster.cluster_centers_:\n",
    "    plt.scatter(*center, s=200)"
   ]
  },
  {
   "cell_type": "code",
   "execution_count": 197,
   "metadata": {},
   "outputs": [
    {
     "data": {
      "image/png": "[encoded data removed]",
      "text/plain": [
       "<Figure size 432x288 with 1 Axes>"
      ]
     },
     "metadata": {
      "needs_background": "light"
     },
     "output_type": "display_data"
    }
   ],
   "source": [
    "for i, c in enumerate(centers):\n",
    "    for location in centers[c]:\n",
    "        plt.scatter(*location, c = color[i]) \n",
    "for center in cluster.cluster_centers_:\n",
    "    plt.scatter(*center, s=100)        "
   ]
  },
  {
   "cell_type": "code",
   "execution_count": 202,
   "metadata": {},
   "outputs": [],
   "source": [
    "# Kmeans距离计算， 就是求解两点之间的距离\n",
    "def distance():\n",
    "    return np.sqrt(x1, x2) ** 2 + (y1 - y2) ** 2"
   ]
  },
  {
   "cell_type": "markdown",
   "metadata": {},
   "source": [
    "## Part-2 Question and Answer 问答"
   ]
  },
  {
   "cell_type": "markdown",
   "metadata": {},
   "source": [
    "#### 1. What's the *model*? why  all the models are wrong, but some are useful? (5 points) "
   ]
  },
  {
   "cell_type": "markdown",
   "metadata": {},
   "source": [
    "Ans:"
   ]
  },
  {
   "cell_type": "markdown",
   "metadata": {},
   "source": [
    "<评阅点>\n",
    "> + 对模型的理解是否正确,对模型的抽象性是否正确(5')"
   ]
  },
  {
   "cell_type": "markdown",
   "metadata": {},
   "source": [
    "#### 2. What's the underfitting and overfitting? List the reasons that could make model overfitting or underfitting. (10 points)"
   ]
  },
  {
   "cell_type": "markdown",
   "metadata": {},
   "source": [
    "Ans:"
   ]
  },
  {
   "cell_type": "markdown",
   "metadata": {},
   "source": [
    "<评阅点>\n",
    "> + 对过拟合和欠拟合的理解是否正确 (3')\n",
    "+ 对欠拟合产生的原因是否理解正确(2')\n",
    "+ 对过拟合产生的原因是否理解正确(5')"
   ]
  },
  {
   "cell_type": "markdown",
   "metadata": {},
   "source": [
    "#### 3. What's the precision, recall, AUC, F1, F2score. What are they mainly target on? (12')"
   ]
  },
  {
   "cell_type": "markdown",
   "metadata": {},
   "source": [
    "Ans:"
   ]
  },
  {
   "cell_type": "markdown",
   "metadata": {},
   "source": [
    "<评阅点>\n",
    "> + 对precision, recall, AUC, F1, F2 理解是否正确(6‘)\n",
    "+ 对precision, recall, AUC, F1, F2的使用侧重点是否理解正确 (6’)"
   ]
  },
  {
   "cell_type": "markdown",
   "metadata": {},
   "source": [
    "#### 4. Based on our course and yourself mind, what's the machine learning?  (8')"
   ]
  },
  {
   "cell_type": "markdown",
   "metadata": {},
   "source": [
    "Ans:"
   ]
  },
  {
   "cell_type": "markdown",
   "metadata": {},
   "source": [
    "<评阅点> 开放式问题，是否能说出来机器学习这种思维方式和传统的分析式编程的区别（8'）"
   ]
  },
  {
   "cell_type": "markdown",
   "metadata": {},
   "source": [
    "#### 5. \"正确定义了机器学习模型的评价标准(evaluation)， 问题基本上就已经解决一半\". 这句话是否正确？你是怎么看待的？ (8‘)"
   ]
  },
  {
   "cell_type": "markdown",
   "metadata": {},
   "source": [
    "<评阅点> 开放式问题，主要看能理解评价指标对机器学习模型的重要性."
   ]
  },
  {
   "cell_type": "markdown",
   "metadata": {},
   "source": [
    "## Part-03 Programming Practice 编程练习"
   ]
  },
  {
   "cell_type": "markdown",
   "metadata": {},
   "source": [
    "1. In our course and previous practice, we complete some importance components of Decision Tree. In this problem, you need to build a **completed** Decision Tree Model. You show finish a `predicate()` function, which accepts three parameters **<gender, income, family_number>**, and outputs the predicated 'bought': 1 or 0.  (20 points)"
   ]
  },
  {
   "cell_type": "code",
   "execution_count": 4,
   "metadata": {},
   "outputs": [],
   "source": [
    "# you code here"
   ]
  },
  {
   "cell_type": "markdown",
   "metadata": {},
   "source": [
    "<评阅点>\n",
    "> + 是否将之前的决策树模型的部分进行合并组装， predicate函数能够顺利运行(8')\n",
    "+ 是够能够输入未曾见过的X变量，例如gender, income, family_number 分别是： <M, -10, 1>, 模型能够预测出结果 (12')"
   ]
  },
  {
   "cell_type": "markdown",
   "metadata": {},
   "source": [
    "2. 将上一节课(第二节课)的线性回归问题中的Loss函数改成\"绝对值\"，并且改变其偏导的求值方式，观察其结果的变化。(19 point)"
   ]
  },
  {
   "cell_type": "code",
   "execution_count": 5,
   "metadata": {},
   "outputs": [],
   "source": [
    "# you code here"
   ]
  },
  {
   "cell_type": "markdown",
   "metadata": {},
   "source": [
    "<评阅点>\n",
    "+ 是否将Loss改成了“绝对值”(3')\n",
    "+ 是否完成了偏导的重新定义(5')\n",
    "+ 新的模型Loss是否能够收敛 (11’)"
   ]
  },
  {
   "cell_type": "markdown",
   "metadata": {},
   "source": []
  }
 ],
 "metadata": {
  "kernelspec": {
   "display_name": "Python 3",
   "language": "python",
   "name": "python3"
  },
  "language_info": {
   "codemirror_mode": {
    "name": "ipython",
    "version": 3
   },
   "file_extension": ".py",
   "mimetype": "text/x-python",
   "name": "python",
   "nbconvert_exporter": "python",
   "pygments_lexer": "ipython3",
   "version": "3.7.3"
  }
 },
 "nbformat": 4,
 "nbformat_minor": 2
}
